{
 "cells": [
  {
   "attachments": {},
   "cell_type": "markdown",
   "metadata": {},
   "source": [
    "# KNN with Mahalanobis Distance Implementation\n"
   ]
  },
  {
   "attachments": {},
   "cell_type": "markdown",
   "metadata": {},
   "source": [
    "# Imports"
   ]
  },
  {
   "cell_type": "code",
   "execution_count": 1,
   "metadata": {},
   "outputs": [],
   "source": [
    "import numpy as np\n",
    "import matplotlib.pyplot as plt"
   ]
  },
  {
   "cell_type": "markdown",
   "metadata": {},
   "source": [
    "# Utility Functions"
   ]
  },
  {
   "cell_type": "markdown",
   "metadata": {},
   "source": [
    "## Metrics"
   ]
  },
  {
   "cell_type": "code",
   "execution_count": 2,
   "metadata": {},
   "outputs": [],
   "source": [
    "def accuracy(y_true, y_pred):\n",
    "    y_true = y_true.reshape(-1, 1)\n",
    "    y_pred = y_pred.reshape(-1, 1)\n",
    "\n",
    "    right_prediction = y_true == y_pred\n",
    "    accuracy = right_prediction.sum() / len(y_true)\n",
    "    return accuracy\n",
    "\n",
    "def recall(y_true, y_pred):\n",
    "    y_true = y_true.reshape(-1, 1)\n",
    "    y_pred = y_pred.reshape(-1, 1)\n",
    "    array = np.hstack([y_true, y_pred])\n",
    "    array = array[array[:,0] == 1]\n",
    "    \n",
    "    right_prediction = array[:, 0] == array[:, 1]\n",
    "    recall = right_prediction.sum() / len(array)\n",
    "    return recall\n",
    "\n",
    "def precision(y_true, y_pred):\n",
    "    y_true = y_true.reshape(-1, 1)\n",
    "    y_pred = y_pred.reshape(-1, 1)\n",
    "    array = np.hstack([y_true, y_pred])\n",
    "    array = array[array[:,1] == 1]\n",
    "    \n",
    "    right_prediction = array[:, 0] == array[:, 1]\n",
    "    precision = right_prediction.sum() / len(array)\n",
    "\n",
    "    return precision\n",
    "\n",
    "def f1_score(y_true, y_pred):\n",
    "    y_true = y_true.reshape(-1, 1)\n",
    "    y_pred = y_pred.reshape(-1, 1)\n",
    "    precision_score = precision(y_true, y_pred)\n",
    "    recall_score = recall(y_true, y_pred)\n",
    "\n",
    "    f1_score = 2 * (precision_score * recall_score) / (precision_score + recall_score)\n",
    "\n",
    "    return f1_score"
   ]
  },
  {
   "cell_type": "markdown",
   "metadata": {},
   "source": [
    "## MinMaxScaler"
   ]
  },
  {
   "cell_type": "code",
   "execution_count": 3,
   "metadata": {},
   "outputs": [],
   "source": [
    "class MinMaxScaler:\n",
    "    def __init__(self):\n",
    "        self.fitted = False\n",
    "\n",
    "    def fit_transform(self, data):      \n",
    "        self.maximum = data.max(axis=0)\n",
    "        self.minimum = data.min(axis=0)\n",
    "        self.fitted = True\n",
    "\n",
    "        scaled_data =  (data - self.minimum) / (self.maximum - self.minimum)\n",
    "        return scaled_data\n",
    "    \n",
    "    def transform(self, data):\n",
    "        if not self.fitted:\n",
    "            raise Exception('Scaler not fitted!')\n",
    "\n",
    "        scaled_data =  (data - self.minimum) / (self.maximum - self.minimum)\n",
    "        return scaled_data\n",
    "\n",
    "    def inverse_transform(self, scaled_data):\n",
    "        if not self.fitted:\n",
    "            raise Exception('Scaler not fitted!')\n",
    "        \n",
    "        original_data = (self.maximum - self.minimum) * scaled_data + self.minimum\n",
    "        return original_data"
   ]
  },
  {
   "cell_type": "markdown",
   "metadata": {},
   "source": [
    "## Standardization\n"
   ]
  },
  {
   "cell_type": "code",
   "execution_count": 4,
   "metadata": {},
   "outputs": [],
   "source": [
    "class StandardScaler:\n",
    "    def __init__(self):\n",
    "        self.fitted = False\n",
    "\n",
    "    def fit_transform(self, data):\n",
    "        self.mean = data.mean(axis=0)\n",
    "        self.std = data.std(axis=0)\n",
    "        self.fitted = True\n",
    "\n",
    "        scaled_data = (data - self.mean) / self.std\n",
    "        return scaled_data\n",
    "\n",
    "    def transform(self, data):\n",
    "        if not self.fitted:\n",
    "            raise Exception('Scaler not fitted!')\n",
    "\n",
    "        scaled_data = (data - self.mean) / self.std\n",
    "        return scaled_data\n",
    "\n",
    "    def inverse_transform(self, scaled_data):\n",
    "        if not self.fitted:\n",
    "            raise Exception('Scaler not fitted!')\n",
    "\n",
    "        original_data = (scaled_data * self.std) + self.mean\n",
    "        return original_data\n"
   ]
  },
  {
   "cell_type": "markdown",
   "metadata": {},
   "source": [
    "## Cross Validation"
   ]
  },
  {
   "cell_type": "code",
   "execution_count": 5,
   "metadata": {},
   "outputs": [],
   "source": [
    "def kfolds_cross_validation(data, n_folds=10, shuffle=True, random_state=12894):\n",
    "    indexes = np.arange(data.shape[0])\n",
    "    if shuffle:\n",
    "        np.random.seed(random_state)\n",
    "        np.random.shuffle(indexes)\n",
    "\n",
    "    slices = np.array_split(indexes, n_folds)\n",
    "    all_elements = np.hstack(slices)   \n",
    "    \n",
    "    splits = []\n",
    "    for i in range(n_folds):\n",
    "        train_idx = all_elements[~np.isin(all_elements, slices[i])]\n",
    "        test_idx = slices[i]\n",
    "\n",
    "        splits.append((train_idx, test_idx))\n",
    "\n",
    "    return splits"
   ]
  },
  {
   "cell_type": "markdown",
   "metadata": {},
   "source": [
    "## Train Test Split"
   ]
  },
  {
   "cell_type": "code",
   "execution_count": 6,
   "metadata": {},
   "outputs": [],
   "source": [
    "def train_test_split(data, train_size_perc, random_seed=264852):\n",
    "    \"\"\"\n",
    "        Obs: Target variable must be the last one on the right\n",
    "    \"\"\"\n",
    "    N = data.shape[0]\n",
    "    train_size = int(train_size_perc * N)\n",
    "\n",
    "    indexes = np.arange(0, N, 1)\n",
    "\n",
    "    np.random.seed(random_seed)\n",
    "    train_idx = np.random.choice(indexes, train_size, replace=False)\n",
    "    test_idx = np.delete(indexes, train_idx)\n",
    "\n",
    "    train_data = data[train_idx]\n",
    "    test_data = data[test_idx]\n",
    "\n",
    "    X_train = train_data[:, :-1]\n",
    "    y_train = train_data[:, [-1]]\n",
    "\n",
    "    X_test = test_data[:, :-1]\n",
    "    y_test = test_data[:, [-1]]\n",
    "\n",
    "    return X_train, X_test, y_train, y_test\n"
   ]
  },
  {
   "cell_type": "markdown",
   "metadata": {},
   "source": [
    "## Do Cross Validation and Get Metrics"
   ]
  },
  {
   "cell_type": "code",
   "execution_count": 7,
   "metadata": {},
   "outputs": [],
   "source": [
    "def do_cv_and_get_metrics(classifier, cv_splits, X_train, y_train, X_test, title='Classifier', scaler=None):\n",
    "\n",
    "    X_train = X_train.copy()\n",
    "    y_train = y_train.copy()\n",
    "    X_test = X_test.copy()\n",
    "\n",
    "    train_metrics = {\n",
    "        'accuracy': [],\n",
    "        'recall': [],\n",
    "        'precision': [],\n",
    "        'f1_score': []\n",
    "    }\n",
    "\n",
    "    valid_metrics = {\n",
    "        'accuracy': [],\n",
    "        'recall': [],\n",
    "        'precision': [],\n",
    "        'f1_score': []\n",
    "    }\n",
    "    # Reporting results\n",
    "    print('#' + f'{title}'.center(60, '-') + '#')\n",
    "\n",
    "    print('\\n---> Validation Folds Metrics')\n",
    "    print('Fold\\tAccuracy\\tRecall\\t\\tPrecision\\tF1-Score')\n",
    "    count_fold = 1\n",
    "    for train_idx, val_idx in cv_splits:\n",
    "        # Spliting data\n",
    "        X_train_cv = X_train[train_idx, :]\n",
    "        y_train_cv = y_train[train_idx, :]\n",
    "        X_val_cv = X_train[val_idx, :]\n",
    "        y_val_cv = y_train[val_idx, :]\n",
    "\n",
    "        # Scaling if have scaler argument\n",
    "        if scaler is not None:\n",
    "            X_train_cv = scaler.fit_transform(X_train_cv)\n",
    "            X_val_cv = scaler.transform(X_val_cv)\n",
    "\n",
    "        # Training Model\n",
    "        classifier.fit(X_train_cv, y_train_cv.ravel())\n",
    "\n",
    "        # Predictions\n",
    "        y_train_cv_pred = classifier.predict(X_train_cv)\n",
    "        y_val_cv_pred = classifier.predict(X_val_cv)\n",
    "\n",
    "        # Storing metrics\n",
    "        train_metrics['accuracy'].append(accuracy(y_train_cv, y_train_cv_pred))\n",
    "        train_metrics['recall'].append(recall(y_train_cv, y_train_cv_pred))\n",
    "        train_metrics['precision'].append(precision(y_train_cv, y_train_cv_pred))\n",
    "        train_metrics['f1_score'].append(f1_score(y_train_cv, y_train_cv_pred))\n",
    "\n",
    "        valid_metrics['accuracy'].append(accuracy(y_val_cv, y_val_cv_pred))\n",
    "        valid_metrics['recall'].append(recall(y_val_cv, y_val_cv_pred))\n",
    "        valid_metrics['precision'].append(precision(y_val_cv, y_val_cv_pred))\n",
    "        valid_metrics['f1_score'].append(f1_score(y_val_cv, y_val_cv_pred))\n",
    "\n",
    "        print('{0:.0f}\\t{1:.4f}  \\t{2:.4f}\\t\\t{3:.4f}   \\t{4:.4f}'.format(\n",
    "                count_fold,\n",
    "                valid_metrics['accuracy'][-1], \n",
    "                valid_metrics['recall'][-1],\n",
    "                valid_metrics['precision'][-1],\n",
    "                valid_metrics['f1_score'][-1]\n",
    "            )\n",
    "        )\n",
    "        count_fold+=1\n",
    "\n",
    "\n",
    "    print('\\n--->\\tTraining Metrics')\n",
    "\n",
    "    print('Accuracy Mean:     \\t{0:.4f} | Accuracy Std:   \\t{1:.4f}'.format(\n",
    "        np.mean(train_metrics['accuracy']), \n",
    "        np.std(train_metrics['accuracy']))\n",
    "    )\n",
    "    print('Recall Mean:     \\t{0:.4f} | Recall Std:       \\t{1:.4f}'.format(\n",
    "        np.mean(train_metrics['recall']), \n",
    "        np.std(train_metrics['recall']))\n",
    "    )\n",
    "    print('Precision Mean:     \\t{0:.4f} | Precision Std:   \\t{1:.4f}'.format(\n",
    "        np.mean(train_metrics['precision']), \n",
    "        np.std(train_metrics['precision']))\n",
    "    )\n",
    "    print('F1 Score Mean:     \\t{0:.4f} | F1 Score Std:   \\t{1:.4f}'.format(\n",
    "        np.mean(train_metrics['f1_score']), \n",
    "        np.std(train_metrics['f1_score']))\n",
    "    )\n",
    "\n",
    "    print('\\n--->\\tValidation Metrics')\n",
    "\n",
    "    print('Accuracy Mean:     \\t{0:.4f} | Accuracy Std:   \\t{1:.4f}'.format(\n",
    "        np.mean(valid_metrics['accuracy']), \n",
    "        np.std(valid_metrics['accuracy']))\n",
    "    )\n",
    "    print('Recall Mean:     \\t{0:.4f} | Recall Std:       \\t{1:.4f}'.format(\n",
    "        np.mean(valid_metrics['recall']), \n",
    "        np.std(valid_metrics['recall']))\n",
    "    )\n",
    "    print('Precision Mean:     \\t{0:.4f} | Precision Std:   \\t{1:.4f}'.format(\n",
    "        np.mean(valid_metrics['precision']), \n",
    "        np.std(valid_metrics['precision']))\n",
    "    )\n",
    "    print('F1 Score Mean:     \\t{0:.4f} | F1 Score Std:   \\t{1:.4f}'.format(\n",
    "        np.mean(valid_metrics['f1_score']), \n",
    "        np.std(valid_metrics['f1_score']))\n",
    "    )\n",
    "\n",
    "    print('\\n--->\\tTest Metrics')\n",
    "\n",
    "    if scaler is not None:\n",
    "        X_train = scaler.fit_transform(X_train)\n",
    "        X_test = scaler.transform(X_test)\n",
    "    \n",
    "    classifier.fit(X_train, y_train.ravel())\n",
    "    y_test_pred = classifier.predict(X_test)\n",
    "\n",
    "    print('Accuracy:     \\t{0:.4f}'.format(accuracy(y_test, y_test_pred)))\n",
    "    print('Recall:     \\t{0:.4f}'.format(recall(y_test, y_test_pred)))\n",
    "    print('Precision:     \\t{0:.4f}'.format(precision(y_test, y_test_pred)))\n",
    "    print('F1 Score:     \\t{0:.4f}'.format(f1_score(y_test, y_test_pred)))\n"
   ]
  },
  {
   "attachments": {},
   "cell_type": "markdown",
   "metadata": {},
   "source": [
    "# KNN"
   ]
  },
  {
   "cell_type": "code",
   "execution_count": 8,
   "metadata": {},
   "outputs": [
    {
     "name": "stdout",
     "output_type": "stream",
     "text": [
      "Shape: (522, 22)\n"
     ]
    },
    {
     "data": {
      "text/plain": [
       "array([[1.1000000e+00, 1.4000000e+00, 1.4000000e+00, 1.4000000e+00,\n",
       "        1.3000000e+00, 1.3000000e+00, 1.3000000e+00, 1.3000000e+00,\n",
       "        1.3000000e+00, 1.3000000e+00, 1.3000000e+00, 1.3000000e+00,\n",
       "        2.0000000e+00, 2.0000000e+00, 2.0000000e+00, 2.0000000e+00,\n",
       "        1.2000000e+00, 1.2000000e+00, 1.2000000e+00, 1.2000000e+00,\n",
       "        1.4000000e+00, 0.0000000e+00],\n",
       "       [1.0000000e+00, 1.0000000e+00, 1.0000000e+00, 1.0000000e+00,\n",
       "        1.0000000e+00, 1.0000000e+00, 1.0000000e+00, 1.0000000e+00,\n",
       "        1.0000000e+00, 1.0000000e+00, 1.0000000e+00, 1.0000000e+00,\n",
       "        1.0000000e+00, 1.0000000e+00, 1.0000000e+00, 1.0000000e+00,\n",
       "        1.0000000e+00, 1.0000000e+00, 1.0000000e+00, 1.0000000e+00,\n",
       "        1.0000000e+00, 1.0000000e+00],\n",
       "       [4.1500000e+02, 5.9000000e+01, 5.0000000e+01, 5.1000000e+01,\n",
       "        1.1590000e+03, 8.4113100e+03, 1.0000000e-02, 1.0353000e+02,\n",
       "        8.1240000e+01, 8.7084858e+05, 2.8000000e+00, 4.8380480e+04,\n",
       "        3.5900000e+02, 3.5000000e+01, 9.0000000e+00, 1.0000000e+01,\n",
       "        4.7000000e+01, 1.0600000e+02, 6.9200000e+02, 4.6700000e+02,\n",
       "        1.0600000e+02, 1.0000000e+00]])"
      ]
     },
     "execution_count": 8,
     "metadata": {},
     "output_type": "execute_result"
    }
   ],
   "source": [
    "data = np.genfromtxt('../data/kc2.csv', delimiter=',')\n",
    "print('Shape:', data.shape)\n",
    "data[:3, :]\n"
   ]
  },
  {
   "cell_type": "code",
   "execution_count": 18,
   "metadata": {},
   "outputs": [
    {
     "name": "stdout",
     "output_type": "stream",
     "text": [
      "X_train shape: (417, 21)\n",
      "y_train shape: (417, 1)\n",
      "X_test shape: (105, 21)\n",
      "y_test shape: (105, 1)\n"
     ]
    }
   ],
   "source": [
    "X_train, X_test, y_train, y_test = train_test_split(\n",
    "    data, 0.8, random_seed=466852)\n",
    "\n",
    "print('X_train shape:', X_train.shape)\n",
    "print('y_train shape:', y_train.shape)\n",
    "print('X_test shape:', X_test.shape)\n",
    "print('y_test shape:', y_test.shape)\n"
   ]
  },
  {
   "cell_type": "code",
   "execution_count": 19,
   "metadata": {},
   "outputs": [],
   "source": [
    "class MyKNN():\n",
    "    def __init__(self, k_neighbours, distance='euclidian'):\n",
    "        self.fitted = False\n",
    "        self.K = k_neighbours\n",
    "        self.distance = distance\n",
    "\n",
    "    def get_cov_matrix(self):\n",
    "        \n",
    "        mu = np.mean(self.X, axis=0).reshape(-1, 1)\n",
    "        \n",
    "        n_features = self.X.shape[1]\n",
    "        n_rows = self.X.shape[0]\n",
    "        sigma=np.zeros((n_features, n_features))\n",
    "\n",
    "        for i in range(n_rows):\n",
    "            x_i = self.X[i,:].reshape(n_features, 1)\n",
    "            sigma += (x_i-mu) @ (x_i-mu).T\n",
    "\n",
    "        return sigma/(n_rows-1)\n",
    "\n",
    "    def euclidian_distance(self, i, j):\n",
    "        distances = np.sqrt(np.sum((i - j)**2, axis=1))\n",
    "        return distances.reshape(-1, 1)\n",
    "\n",
    "    def mahalanobis_distance(self, i, j, sigma_inv):\n",
    "        distances = np.sqrt(np.diag(np.dot(np.dot((i-j), sigma_inv), (i-j).T)))\n",
    "        return distances.reshape(-1, 1)\n",
    "\n",
    "    def fit(self, X, y):\n",
    "        self.X = X\n",
    "        self.y = y.reshape(-1, 1)\n",
    "\n",
    "    def get_more_frequently(self, arr):\n",
    "        unique, counts = np.unique(arr, return_counts=True)\n",
    "        return unique[np.argmax(counts)]\n",
    "\n",
    "    def predict(self, X):\n",
    "        preds = []\n",
    "        for i in range(len(X)):\n",
    "            if self.distance == 'euclidian':\n",
    "                self.distances = self.euclidian_distance(X[[i], :], self.X)\n",
    "            if self.distance == 'mahalanobis':\n",
    "                sigma_inv = np.linalg.pinv(np.cov(self.X.T))\n",
    "                sigma_inv = np.linalg.pinv(self.get_cov_matrix())\n",
    "                self.distances  = self.mahalanobis_distance(\n",
    "                    X[[i], :], \n",
    "                    self.X, \n",
    "                    sigma_inv\n",
    "                )\n",
    "                \n",
    "            knn = np.hstack([self.distances, self.y])\n",
    "            knn = knn[np.lexsort((knn[:,1], knn[:,0]))]\n",
    "            preds.append(self.get_more_frequently(knn[:self.K, 1]))\n",
    "\n",
    "        return np.array(preds).reshape(-1, 1)"
   ]
  },
  {
   "cell_type": "markdown",
   "metadata": {},
   "source": [
    "## K=5 and Euclidian Distance"
   ]
  },
  {
   "cell_type": "code",
   "execution_count": 20,
   "metadata": {},
   "outputs": [
    {
     "name": "stdout",
     "output_type": "stream",
     "text": [
      "#------------ My KNN - Euclidian Distance - K=5 -------------#\n",
      "\n",
      "---> Validation Folds Metrics\n",
      "Fold\tAccuracy\tRecall\t\tPrecision\tF1-Score\n",
      "1\t0.8333  \t0.7000\t\t0.6364   \t0.6667\n",
      "2\t0.8095  \t0.2222\t\t0.6667   \t0.3333\n",
      "3\t0.7857  \t0.2500\t\t0.4000   \t0.3077\n",
      "4\t0.8810  \t0.7143\t\t0.6250   \t0.6667\n",
      "5\t0.8095  \t0.4000\t\t0.2857   \t0.3333\n",
      "6\t0.7857  \t0.5000\t\t0.5556   \t0.5263\n",
      "7\t0.8095  \t0.3000\t\t0.7500   \t0.4286\n",
      "8\t0.8049  \t0.5833\t\t0.7000   \t0.6364\n",
      "9\t0.8537  \t0.5000\t\t0.6667   \t0.5714\n",
      "10\t0.8780  \t0.3333\t\t0.6667   \t0.4444\n",
      "\n",
      "--->\tTraining Metrics\n",
      "Accuracy Mean:     \t0.8756 | Accuracy Std:   \t0.0066\n",
      "Recall Mean:     \t0.5435 | Recall Std:       \t0.0214\n",
      "Precision Mean:     \t0.7791 | Precision Std:   \t0.0264\n",
      "F1 Score Mean:     \t0.6402 | F1 Score Std:   \t0.0215\n",
      "\n",
      "--->\tValidation Metrics\n",
      "Accuracy Mean:     \t0.8251 | Accuracy Std:   \t0.0332\n",
      "Recall Mean:     \t0.4503 | Recall Std:       \t0.1690\n",
      "Precision Mean:     \t0.5953 | Precision Std:   \t0.1372\n",
      "F1 Score Mean:     \t0.4915 | F1 Score Std:   \t0.1341\n",
      "\n",
      "--->\tTest Metrics\n",
      "Accuracy:     \t0.8476\n",
      "Recall:     \t0.4091\n",
      "Precision:     \t0.7500\n",
      "F1 Score:     \t0.5294\n"
     ]
    }
   ],
   "source": [
    "my_knn = MyKNN(5)\n",
    "\n",
    "cv_splits = kfolds_cross_validation(\n",
    "    data=X_train,\n",
    "    n_folds=10,\n",
    "    shuffle=True\n",
    ")\n",
    "\n",
    "do_cv_and_get_metrics(\n",
    "    classifier=my_knn, \n",
    "    cv_splits=cv_splits, \n",
    "    X_train=X_train, \n",
    "    y_train=y_train,\n",
    "    X_test=X_test,\n",
    "    scaler=MinMaxScaler(),\n",
    "    title=' My KNN - Euclidian Distance - K=5 '\n",
    ")"
   ]
  },
  {
   "cell_type": "code",
   "execution_count": 21,
   "metadata": {},
   "outputs": [
    {
     "name": "stdout",
     "output_type": "stream",
     "text": [
      "#---------- Sklearn KNN - Euclidian Distance - K=5 ----------#\n",
      "\n",
      "---> Validation Folds Metrics\n",
      "Fold\tAccuracy\tRecall\t\tPrecision\tF1-Score\n",
      "1\t0.8333  \t0.7000\t\t0.6364   \t0.6667\n",
      "2\t0.8095  \t0.2222\t\t0.6667   \t0.3333\n",
      "3\t0.7857  \t0.2500\t\t0.4000   \t0.3077\n",
      "4\t0.8810  \t0.7143\t\t0.6250   \t0.6667\n",
      "5\t0.8095  \t0.4000\t\t0.2857   \t0.3333\n",
      "6\t0.7857  \t0.5000\t\t0.5556   \t0.5263\n",
      "7\t0.8095  \t0.3000\t\t0.7500   \t0.4286\n",
      "8\t0.8049  \t0.5833\t\t0.7000   \t0.6364\n",
      "9\t0.8537  \t0.5000\t\t0.6667   \t0.5714\n",
      "10\t0.8780  \t0.3333\t\t0.6667   \t0.4444\n",
      "\n",
      "--->\tTraining Metrics\n",
      "Accuracy Mean:     \t0.8756 | Accuracy Std:   \t0.0066\n",
      "Recall Mean:     \t0.5435 | Recall Std:       \t0.0214\n",
      "Precision Mean:     \t0.7791 | Precision Std:   \t0.0264\n",
      "F1 Score Mean:     \t0.6402 | F1 Score Std:   \t0.0215\n",
      "\n",
      "--->\tValidation Metrics\n",
      "Accuracy Mean:     \t0.8251 | Accuracy Std:   \t0.0332\n",
      "Recall Mean:     \t0.4503 | Recall Std:       \t0.1690\n",
      "Precision Mean:     \t0.5953 | Precision Std:   \t0.1372\n",
      "F1 Score Mean:     \t0.4915 | F1 Score Std:   \t0.1341\n",
      "\n",
      "--->\tTest Metrics\n",
      "Accuracy:     \t0.8476\n",
      "Recall:     \t0.4091\n",
      "Precision:     \t0.7500\n",
      "F1 Score:     \t0.5294\n"
     ]
    }
   ],
   "source": [
    "# TO CHECK\n",
    "from sklearn.neighbors import KNeighborsClassifier\n",
    "sk_knn = KNeighborsClassifier(5)\n",
    "\n",
    "cv_splits = kfolds_cross_validation(\n",
    "    data=X_train,\n",
    "    n_folds=10,\n",
    "    shuffle=True\n",
    ")\n",
    "\n",
    "do_cv_and_get_metrics(\n",
    "    classifier=sk_knn, \n",
    "    cv_splits=cv_splits, \n",
    "    X_train=X_train, \n",
    "    y_train=y_train,\n",
    "    X_test=X_test,\n",
    "    scaler=MinMaxScaler(),\n",
    "    title=' Sklearn KNN - Euclidian Distance - K=5 '\n",
    ")"
   ]
  },
  {
   "cell_type": "markdown",
   "metadata": {},
   "source": [
    "## K=5 and Mahalanobis Distance"
   ]
  },
  {
   "cell_type": "code",
   "execution_count": 22,
   "metadata": {},
   "outputs": [
    {
     "name": "stdout",
     "output_type": "stream",
     "text": [
      "#----------- My KNN - Mahalanobis Distance - K=5 ------------#\n",
      "\n",
      "---> Validation Folds Metrics\n",
      "Fold\tAccuracy\tRecall\t\tPrecision\tF1-Score\n",
      "1\t0.8810  \t0.6000\t\t0.8571   \t0.7059\n",
      "2\t0.7857  \t0.1111\t\t0.5000   \t0.1818\n",
      "3\t0.8333  \t0.2500\t\t0.6667   \t0.3636\n",
      "4\t0.9048  \t0.4286\t\t1.0000   \t0.6000\n",
      "5\t0.8095  \t0.2000\t\t0.2000   \t0.2000\n",
      "6\t0.8333  \t0.4000\t\t0.8000   \t0.5333\n",
      "7\t0.8571  \t0.5000\t\t0.8333   \t0.6250\n",
      "8\t0.7805  \t0.4167\t\t0.7143   \t0.5263\n",
      "9\t0.8293  \t0.3750\t\t0.6000   \t0.4615\n",
      "10\t0.9024  \t0.3333\t\t1.0000   \t0.5000\n",
      "\n",
      "--->\tTraining Metrics\n",
      "Accuracy Mean:     \t0.8543 | Accuracy Std:   \t0.0078\n",
      "Recall Mean:     \t0.3958 | Recall Std:       \t0.0347\n",
      "Precision Mean:     \t0.7811 | Precision Std:   \t0.0276\n",
      "F1 Score Mean:     \t0.5246 | F1 Score Std:   \t0.0332\n",
      "\n",
      "--->\tValidation Metrics\n",
      "Accuracy Mean:     \t0.8417 | Accuracy Std:   \t0.0420\n",
      "Recall Mean:     \t0.3615 | Recall Std:       \t0.1368\n",
      "Precision Mean:     \t0.7171 | Precision Std:   \t0.2304\n",
      "F1 Score Mean:     \t0.4698 | F1 Score Std:   \t0.1649\n",
      "\n",
      "--->\tTest Metrics\n",
      "Accuracy:     \t0.8190\n",
      "Recall:     \t0.2273\n",
      "Precision:     \t0.7143\n",
      "F1 Score:     \t0.3448\n"
     ]
    }
   ],
   "source": [
    "my_knn = MyKNN(5, distance='mahalanobis')\n",
    "\n",
    "cv_splits = kfolds_cross_validation(\n",
    "    data=X_train,\n",
    "    n_folds=10,\n",
    "    shuffle=True\n",
    ")\n",
    "\n",
    "do_cv_and_get_metrics(\n",
    "    classifier=my_knn, \n",
    "    cv_splits=cv_splits, \n",
    "    X_train=X_train, \n",
    "    y_train=y_train,\n",
    "    X_test=X_test,\n",
    "    scaler=MinMaxScaler(),\n",
    "    title=' My KNN - Mahalanobis Distance - K=5 '\n",
    ")"
   ]
  },
  {
   "cell_type": "code",
   "execution_count": 23,
   "metadata": {},
   "outputs": [
    {
     "name": "stdout",
     "output_type": "stream",
     "text": [
      "SKLEARN - KNN with Mahalanobis Distance (To check)\n",
      "\n",
      "--->\tTest Metrics\n",
      "Accuracy:     \t0.8190\n",
      "Recall:     \t0.2273\n",
      "Precision:     \t0.7143\n",
      "F1 Score:     \t0.3448\n"
     ]
    }
   ],
   "source": [
    "# TO CHECK\n",
    "scaler = MinMaxScaler()\n",
    "X_train_scaled = scaler.fit_transform(X_train)\n",
    "\n",
    "sk_knn = KNeighborsClassifier(5, metric='mahalanobis', metric_params={'VI': np.linalg.pinv(np.cov(X_train_scaled.T))})\n",
    "\n",
    "sk_knn.fit(X_train_scaled, y_train.ravel())\n",
    "\n",
    "X_test_scaled = scaler.transform(X_test)\n",
    "y_test_pred = sk_knn.predict(X_test_scaled)\n",
    "\n",
    "print('SKLEARN - KNN with Mahalanobis Distance (To check)')\n",
    "print('\\n--->\\tTest Metrics')\n",
    "print('Accuracy:     \\t{0:.4f}'.format(accuracy(y_test, y_test_pred)))\n",
    "print('Recall:     \\t{0:.4f}'.format(recall(y_test, y_test_pred)))\n",
    "print('Precision:     \\t{0:.4f}'.format(precision(y_test, y_test_pred)))\n",
    "print('F1 Score:     \\t{0:.4f}'.format(f1_score(y_test, y_test_pred)))"
   ]
  },
  {
   "cell_type": "markdown",
   "metadata": {},
   "source": [
    "## K=1 and Euclidian Distance"
   ]
  },
  {
   "cell_type": "code",
   "execution_count": 24,
   "metadata": {},
   "outputs": [
    {
     "name": "stdout",
     "output_type": "stream",
     "text": [
      "#------------ My KNN - Euclidian Distance - K=1 -------------#\n",
      "\n",
      "---> Validation Folds Metrics\n",
      "Fold\tAccuracy\tRecall\t\tPrecision\tF1-Score\n",
      "1\t0.8095  \t0.6000\t\t0.6000   \t0.6000\n",
      "2\t0.7619  \t0.2222\t\t0.4000   \t0.2857\n",
      "3\t0.8333  \t0.5000\t\t0.5714   \t0.5333\n",
      "4\t0.8571  \t0.5714\t\t0.5714   \t0.5714\n",
      "5\t0.7381  \t0.2000\t\t0.1250   \t0.1538\n",
      "6\t0.8571  \t0.6000\t\t0.7500   \t0.6667\n",
      "7\t0.8095  \t0.5000\t\t0.6250   \t0.5556\n",
      "8\t0.7317  \t0.7500\t\t0.5294   \t0.6207\n",
      "9\t0.8293  \t0.5000\t\t0.5714   \t0.5333\n",
      "10\t0.8293  \t0.1667\t\t0.3333   \t0.2222\n",
      "\n",
      "--->\tTraining Metrics\n",
      "Accuracy Mean:     \t0.9832 | Accuracy Std:   \t0.0024\n",
      "Recall Mean:     \t0.9177 | Recall Std:       \t0.0113\n",
      "Precision Mean:     \t1.0000 | Precision Std:   \t0.0000\n",
      "F1 Score Mean:     \t0.9570 | F1 Score Std:   \t0.0061\n",
      "\n",
      "--->\tValidation Metrics\n",
      "Accuracy Mean:     \t0.8057 | Accuracy Std:   \t0.0438\n",
      "Recall Mean:     \t0.4610 | Recall Std:       \t0.1873\n",
      "Precision Mean:     \t0.5077 | Precision Std:   \t0.1680\n",
      "F1 Score Mean:     \t0.4743 | F1 Score Std:   \t0.1729\n",
      "\n",
      "--->\tTest Metrics\n",
      "Accuracy:     \t0.8190\n",
      "Recall:     \t0.5909\n",
      "Precision:     \t0.5652\n",
      "F1 Score:     \t0.5778\n"
     ]
    }
   ],
   "source": [
    "my_knn = MyKNN(1)\n",
    "\n",
    "cv_splits = kfolds_cross_validation(\n",
    "    data=X_train,\n",
    "    n_folds=10,\n",
    "    shuffle=True\n",
    ")\n",
    "\n",
    "do_cv_and_get_metrics(\n",
    "    classifier=my_knn, \n",
    "    cv_splits=cv_splits, \n",
    "    X_train=X_train, \n",
    "    y_train=y_train,\n",
    "    X_test=X_test,\n",
    "    scaler=MinMaxScaler(),\n",
    "    title=' My KNN - Euclidian Distance - K=1 '\n",
    ")"
   ]
  },
  {
   "cell_type": "code",
   "execution_count": 25,
   "metadata": {},
   "outputs": [
    {
     "name": "stdout",
     "output_type": "stream",
     "text": [
      "#---------- Sklearn KNN - Euclidian Distance - K=1 ----------#\n",
      "\n",
      "---> Validation Folds Metrics\n",
      "Fold\tAccuracy\tRecall\t\tPrecision\tF1-Score\n",
      "1\t0.7857  \t0.6000\t\t0.5455   \t0.5714\n",
      "2\t0.7619  \t0.2222\t\t0.4000   \t0.2857\n",
      "3\t0.8095  \t0.5000\t\t0.5000   \t0.5000\n",
      "4\t0.8095  \t0.5714\t\t0.4444   \t0.5000\n",
      "5\t0.7143  \t0.2000\t\t0.1111   \t0.1429\n",
      "6\t0.8095  \t0.6000\t\t0.6000   \t0.6000\n",
      "7\t0.7857  \t0.5000\t\t0.5556   \t0.5263\n",
      "8\t0.7561  \t0.8333\t\t0.5556   \t0.6667\n",
      "9\t0.7317  \t0.5000\t\t0.3636   \t0.4211\n",
      "10\t0.7561  \t0.1667\t\t0.1667   \t0.1667\n",
      "\n",
      "--->\tTraining Metrics\n",
      "Accuracy Mean:     \t0.9766 | Accuracy Std:   \t0.0063\n",
      "Recall Mean:     \t0.9699 | Recall Std:       \t0.0084\n",
      "Precision Mean:     \t0.9206 | Precision Std:   \t0.0320\n",
      "F1 Score Mean:     \t0.9442 | F1 Score Std:   \t0.0146\n",
      "\n",
      "--->\tValidation Metrics\n",
      "Accuracy Mean:     \t0.7720 | Accuracy Std:   \t0.0319\n",
      "Recall Mean:     \t0.4694 | Recall Std:       \t0.2013\n",
      "Precision Mean:     \t0.4242 | Precision Std:   \t0.1596\n",
      "F1 Score Mean:     \t0.4381 | F1 Score Std:   \t0.1721\n",
      "\n",
      "--->\tTest Metrics\n",
      "Accuracy:     \t0.8190\n",
      "Recall:     \t0.5909\n",
      "Precision:     \t0.5652\n",
      "F1 Score:     \t0.5778\n"
     ]
    }
   ],
   "source": [
    "# TO CHECK\n",
    "from sklearn.neighbors import KNeighborsClassifier\n",
    "sk_knn = KNeighborsClassifier(1)\n",
    "\n",
    "cv_splits = kfolds_cross_validation(\n",
    "    data=X_train,\n",
    "    n_folds=10,\n",
    "    shuffle=True\n",
    ")\n",
    "\n",
    "do_cv_and_get_metrics(\n",
    "    classifier=sk_knn, \n",
    "    cv_splits=cv_splits, \n",
    "    X_train=X_train, \n",
    "    y_train=y_train,\n",
    "    X_test=X_test,\n",
    "    scaler=MinMaxScaler(),\n",
    "    title=' Sklearn KNN - Euclidian Distance - K=1 '\n",
    ")"
   ]
  },
  {
   "cell_type": "markdown",
   "metadata": {},
   "source": [
    "The slight differences in metrics occur because Sklearn chooses randonly the first label with the minimum distance of a specific X. If we get more than one example with minimum distance, it might diverge for my implementation. In my implementation i am always using the negative class if it is contained in the subset of minimum distances."
   ]
  },
  {
   "cell_type": "markdown",
   "metadata": {},
   "source": [
    "## K=1 and Mahalanobis Distance"
   ]
  },
  {
   "cell_type": "code",
   "execution_count": 26,
   "metadata": {},
   "outputs": [
    {
     "name": "stdout",
     "output_type": "stream",
     "text": [
      "#----------- My KNN - Mahalanobis Distance - K=1 ------------#\n",
      "\n",
      "---> Validation Folds Metrics\n",
      "Fold\tAccuracy\tRecall\t\tPrecision\tF1-Score\n",
      "1\t0.9048  \t0.8000\t\t0.8000   \t0.8000\n",
      "2\t0.7381  \t0.1111\t\t0.2500   \t0.1538\n",
      "3\t0.8810  \t0.5000\t\t0.8000   \t0.6154\n",
      "4\t0.8095  \t0.2857\t\t0.4000   \t0.3333\n",
      "5\t0.8333  \t0.4000\t\t0.3333   \t0.3636\n",
      "6\t0.8095  \t0.3000\t\t0.7500   \t0.4286\n",
      "7\t0.7619  \t0.2000\t\t0.5000   \t0.2857\n",
      "8\t0.7317  \t0.4167\t\t0.5556   \t0.4762\n",
      "9\t0.8293  \t0.6250\t\t0.5556   \t0.5882\n",
      "10\t0.8537  \t0.1667\t\t0.5000   \t0.2500\n",
      "\n",
      "--->\tTraining Metrics\n",
      "Accuracy Mean:     \t0.9832 | Accuracy Std:   \t0.0024\n",
      "Recall Mean:     \t0.9177 | Recall Std:       \t0.0113\n",
      "Precision Mean:     \t1.0000 | Precision Std:   \t0.0000\n",
      "F1 Score Mean:     \t0.9570 | F1 Score Std:   \t0.0061\n",
      "\n",
      "--->\tValidation Metrics\n",
      "Accuracy Mean:     \t0.8153 | Accuracy Std:   \t0.0549\n",
      "Recall Mean:     \t0.3805 | Recall Std:       \t0.2045\n",
      "Precision Mean:     \t0.5444 | Precision Std:   \t0.1814\n",
      "F1 Score Mean:     \t0.4295 | F1 Score Std:   \t0.1848\n",
      "\n",
      "--->\tTest Metrics\n",
      "Accuracy:     \t0.8190\n",
      "Recall:     \t0.4545\n",
      "Precision:     \t0.5882\n",
      "F1 Score:     \t0.5128\n"
     ]
    }
   ],
   "source": [
    "my_knn = MyKNN(1, distance='mahalanobis')\n",
    "\n",
    "cv_splits = kfolds_cross_validation(\n",
    "    data=X_train,\n",
    "    n_folds=10,\n",
    "    shuffle=True\n",
    ")\n",
    "\n",
    "do_cv_and_get_metrics(\n",
    "    classifier=my_knn, \n",
    "    cv_splits=cv_splits, \n",
    "    X_train=X_train, \n",
    "    y_train=y_train,\n",
    "    X_test=X_test,\n",
    "    scaler=MinMaxScaler(),\n",
    "    title=' My KNN - Mahalanobis Distance - K=1 '\n",
    ")"
   ]
  },
  {
   "cell_type": "code",
   "execution_count": 27,
   "metadata": {},
   "outputs": [
    {
     "name": "stdout",
     "output_type": "stream",
     "text": [
      "SKLEARN - KNN with Mahalanobis Distance and K=1 (To check)\n",
      "\n",
      "--->\tTest Metrics\n",
      "Accuracy:     \t0.8190\n",
      "Recall:     \t0.4545\n",
      "Precision:     \t0.5882\n",
      "F1 Score:     \t0.5128\n"
     ]
    }
   ],
   "source": [
    "# TO CHECK\n",
    "scaler = MinMaxScaler()\n",
    "X_train_scaled = scaler.fit_transform(X_train)\n",
    "\n",
    "sk_knn = KNeighborsClassifier(1, metric='mahalanobis', metric_params={'VI': np.linalg.pinv(np.cov(X_train_scaled.T))})\n",
    "\n",
    "sk_knn.fit(X_train_scaled, y_train.ravel())\n",
    "\n",
    "X_test_scaled = scaler.transform(X_test)\n",
    "y_test_pred = sk_knn.predict(X_test_scaled)\n",
    "\n",
    "print('SKLEARN - KNN with Mahalanobis Distance and K=1 (To check)')\n",
    "print('\\n--->\\tTest Metrics')\n",
    "print('Accuracy:     \\t{0:.4f}'.format(accuracy(y_test, y_test_pred)))\n",
    "print('Recall:     \\t{0:.4f}'.format(recall(y_test, y_test_pred)))\n",
    "print('Precision:     \\t{0:.4f}'.format(precision(y_test, y_test_pred)))\n",
    "print('F1 Score:     \\t{0:.4f}'.format(f1_score(y_test, y_test_pred)))"
   ]
  }
 ],
 "metadata": {
  "interpreter": {
   "hash": "7d84fc3ab72c8387ddb373470e784917d8b759f8763a65d23fac12a2e8075760"
  },
  "kernelspec": {
   "display_name": "Python 3.8.12 ('ml-project')",
   "language": "python",
   "name": "python3"
  },
  "language_info": {
   "codemirror_mode": {
    "name": "ipython",
    "version": 3
   },
   "file_extension": ".py",
   "mimetype": "text/x-python",
   "name": "python",
   "nbconvert_exporter": "python",
   "pygments_lexer": "ipython3",
   "version": "3.8.12"
  },
  "orig_nbformat": 4
 },
 "nbformat": 4,
 "nbformat_minor": 2
}
