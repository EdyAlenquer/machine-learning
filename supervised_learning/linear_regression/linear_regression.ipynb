{
  "cells": [
    {
      "cell_type": "markdown",
      "metadata": {
        "colab_type": "text",
        "id": "view-in-github"
      },
      "source": [
        "<a href=\"https://colab.research.google.com/github/EdyAlenquer/machine-learning/blob/master/algorithms/linear_regression/linear_regression.ipynb\" target=\"_parent\"><img src=\"https://colab.research.google.com/assets/colab-badge.svg\" alt=\"Open In Colab\"/></a>"
      ]
    },
    {
      "cell_type": "markdown",
      "metadata": {
        "id": "1eBIvdZRuB_B"
      },
      "source": [
        "## Linear Regression via Ordinary Least Squares (OLS)\n",
        "\n",
        "Como visto na aula de regressão linear, dado o seguinte problema:\n",
        "$$\\begin{aligned}\n",
        "\\boldsymbol{X}\\boldsymbol{w} = \\boldsymbol{y} \\\\\n",
        "\\end{aligned}$$\n",
        "We want to find:\n",
        "\n",
        "$$\\begin{aligned}\n",
        "\\hat{\\boldsymbol{w}} = \\arg\\min_{\\boldsymbol{w}} ||\\boldsymbol{y} - \\boldsymbol{X}\\boldsymbol{w}||^2\n",
        "\\end{aligned}$$\n",
        "\n",
        "Como visto, sabemos que:\n",
        "$$\\hat{\\boldsymbol{w}} = (\\boldsymbol{X}^{\\top}\\boldsymbol{X})^{-1} \\boldsymbol{X}^{\\top}\\boldsymbol{y}$$\n",
        "\n",
        "Sem utilizar estrutura de repetição alguma, calcule a raíz do erro quadrático médio:\n",
        "$$\\mathrm{RMSE} = \\sqrt{\\frac{1}{n}\\sum_i^n (\\boldsymbol{y} - \\hat{\\boldsymbol{y}})^2}$$"
      ]
    },
    {
      "cell_type": "markdown",
      "metadata": {
        "id": "tYUi1lTvuB-3"
      },
      "source": [
        "# Imports"
      ]
    },
    {
      "cell_type": "code",
      "execution_count": 2,
      "metadata": {
        "id": "SRp2wPE4uB-7"
      },
      "outputs": [],
      "source": [
        "import numpy as np"
      ]
    },
    {
      "cell_type": "markdown",
      "metadata": {
        "id": "ZEUl5rikuB-8"
      },
      "source": [
        "# Reading Data"
      ]
    },
    {
      "cell_type": "code",
      "execution_count": 19,
      "metadata": {
        "id": "cWarAbFYuB-8",
        "outputId": "97744a4b-de5f-4f2d-a224-83828f740f0e"
      },
      "outputs": [
        {
          "name": "stdout",
          "output_type": "stream",
          "text": [
            "Shape of data: (5000, 9) \n",
            "\n",
            "Visualizing data:\n",
            "4.1685\t20.0\t6.7006\t1.1783\t745.0\t2.3726\t38.8\t-121.15\t2.175\t\n",
            "2.8194\t24.0\t4.7625\t1.0208\t608.0\t2.5333\t36.75\t-119.85\t0.811\t\n",
            "2.425\t46.0\t4.9277\t1.0181\t772.0\t2.3253\t36.33\t-119.31\t0.849\t\n"
          ]
        }
      ],
      "source": [
        "data = np.genfromtxt('./data/california.csv', delimiter=',')\n",
        "\n",
        "print('Shape of data:', data.shape, '\\n')\n",
        "print('Visualizing data:')\n",
        "\n",
        "for i in range(3):\n",
        "    for j in range(data.shape[1]):        \n",
        "        print(data[i,j].round(4), end='\\t')\n",
        "    print('')"
      ]
    },
    {
      "cell_type": "code",
      "execution_count": 23,
      "metadata": {},
      "outputs": [],
      "source": [
        "#TODO - Explain the fundamentals\n",
        "#TODO - Explain the cost function"
      ]
    },
    {
      "cell_type": "code",
      "execution_count": null,
      "metadata": {},
      "outputs": [],
      "source": [
        "# Naive solution\n",
        "def linear_regression_ols(X, y):\n",
        "    matrix_to_mitigate_numerical_problems = (10 ** -8) * np.eye(X.shape[1], X.shape[1])\n",
        "    w_hat = (np.linalg.inv(X.T @ X + matrix_to_mitigate_numerical_problems) @ X.T) @ y\n",
        "    return w_hat.reshape(-1, 1)"
      ]
    }
  ],
  "metadata": {
    "colab": {
      "include_colab_link": true,
      "name": "linear_regression.ipynb",
      "provenance": []
    },
    "interpreter": {
      "hash": "7d84fc3ab72c8387ddb373470e784917d8b759f8763a65d23fac12a2e8075760"
    },
    "kernelspec": {
      "display_name": "Python 3.8.12 ('ml-project')",
      "language": "python",
      "name": "python3"
    },
    "language_info": {
      "codemirror_mode": {
        "name": "ipython",
        "version": 3
      },
      "file_extension": ".py",
      "mimetype": "text/x-python",
      "name": "python",
      "nbconvert_exporter": "python",
      "pygments_lexer": "ipython3",
      "version": "3.8.12"
    },
    "orig_nbformat": 4
  },
  "nbformat": 4,
  "nbformat_minor": 0
}
