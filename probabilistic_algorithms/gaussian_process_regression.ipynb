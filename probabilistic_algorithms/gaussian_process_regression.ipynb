{
 "cells": [
  {
   "cell_type": "markdown",
   "metadata": {},
   "source": [
    "# Gaussian Process Regression"
   ]
  },
  {
   "cell_type": "markdown",
   "metadata": {},
   "source": [
    "# Imports"
   ]
  },
  {
   "cell_type": "code",
   "execution_count": 1,
   "metadata": {},
   "outputs": [],
   "source": [
    "import numpy as np"
   ]
  },
  {
   "cell_type": "markdown",
   "metadata": {},
   "source": [
    "# Implementation"
   ]
  },
  {
   "cell_type": "markdown",
   "metadata": {},
   "source": [
    "First, we implement the kernel function, an important concept that provides Gaussian Processes with the capacity to map non-linear relationships. Another important capability of kernel functions is that they implicitly map the features in the data space without the need to explicitly transform the data into a high-dimensional space."
   ]
  },
  {
   "cell_type": "code",
   "execution_count": 2,
   "metadata": {},
   "outputs": [],
   "source": [
    "class RBFKernel:\n",
    "    def __init__(self, length_scale, standard_deviation):\n",
    "        if length_scale <= 0:\n",
    "            raise ValueError(\"length_scale must be positive\")\n",
    "        if standard_deviation <= 0:\n",
    "            raise ValueError(\"standard_deviation must be positive\")\n",
    "        \n",
    "        self.length_scale = length_scale\n",
    "        self.standard_deviation = standard_deviation\n",
    "\n",
    "    def __call__(self, x1, x2):\n",
    "        exp_term = np.exp((-((x1 - x2)**2))/(2*self.length_scale**2))\n",
    "        return self.standard_deviation**2 * exp_term"
   ]
  },
  {
   "cell_type": "code",
   "execution_count": null,
   "metadata": {},
   "outputs": [],
   "source": []
  }
 ],
 "metadata": {
  "kernelspec": {
   "display_name": "base",
   "language": "python",
   "name": "python3"
  },
  "language_info": {
   "codemirror_mode": {
    "name": "ipython",
    "version": 3
   },
   "file_extension": ".py",
   "mimetype": "text/x-python",
   "name": "python",
   "nbconvert_exporter": "python",
   "pygments_lexer": "ipython3",
   "version": "3.8.8"
  }
 },
 "nbformat": 4,
 "nbformat_minor": 2
}
