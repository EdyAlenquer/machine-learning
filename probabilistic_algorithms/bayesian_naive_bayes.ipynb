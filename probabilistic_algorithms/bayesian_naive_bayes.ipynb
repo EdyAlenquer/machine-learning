{
 "cells": [
  {
   "cell_type": "markdown",
   "metadata": {},
   "source": [
    "# Bayesian Naive Bayes Implementation"
   ]
  },
  {
   "cell_type": "markdown",
   "metadata": {},
   "source": [
    "# Imports"
   ]
  },
  {
   "cell_type": "code",
   "execution_count": 653,
   "metadata": {},
   "outputs": [],
   "source": [
    "import os\n",
    "import numpy as np\n",
    "import pandas as pd\n",
    "from scipy.stats import multivariate_normal\n",
    "\n",
    "from sklearn.model_selection import train_test_split\n",
    "from sklearn.metrics import confusion_matrix\n",
    "\n",
    "import matplotlib.pyplot as plt\n",
    "plt.style.use('default')\n",
    "import seaborn as sns\n",
    "\n",
    "rd = np.random.RandomState(23523)"
   ]
  },
  {
   "attachments": {},
   "cell_type": "markdown",
   "metadata": {},
   "source": [
    "# Bayesian Naive Bayes"
   ]
  },
  {
   "cell_type": "code",
   "execution_count": 688,
   "metadata": {},
   "outputs": [
    {
     "name": "stdout",
     "output_type": "stream",
     "text": [
      "Shape: (435, 17)\n"
     ]
    },
    {
     "data": {
      "text/html": [
       "<div>\n",
       "<style scoped>\n",
       "    .dataframe tbody tr th:only-of-type {\n",
       "        vertical-align: middle;\n",
       "    }\n",
       "\n",
       "    .dataframe tbody tr th {\n",
       "        vertical-align: top;\n",
       "    }\n",
       "\n",
       "    .dataframe thead th {\n",
       "        text-align: right;\n",
       "    }\n",
       "</style>\n",
       "<table border=\"1\" class=\"dataframe\">\n",
       "  <thead>\n",
       "    <tr style=\"text-align: right;\">\n",
       "      <th></th>\n",
       "      <th>Unnamed: 0</th>\n",
       "      <th>Unnamed: 1</th>\n",
       "      <th>Unnamed: 2</th>\n",
       "      <th>Unnamed: 3</th>\n",
       "      <th>Unnamed: 4</th>\n",
       "      <th>Unnamed: 5</th>\n",
       "      <th>Unnamed: 6</th>\n",
       "      <th>Unnamed: 7</th>\n",
       "      <th>Unnamed: 8</th>\n",
       "      <th>Unnamed: 9</th>\n",
       "      <th>Unnamed: 10</th>\n",
       "      <th>Unnamed: 11</th>\n",
       "      <th>Unnamed: 12</th>\n",
       "      <th>Unnamed: 13</th>\n",
       "      <th>Unnamed: 14</th>\n",
       "      <th>Unnamed: 15</th>\n",
       "      <th>Unnamed: 16</th>\n",
       "    </tr>\n",
       "  </thead>\n",
       "  <tbody>\n",
       "    <tr>\n",
       "      <th>0</th>\n",
       "      <td>republican</td>\n",
       "      <td>0</td>\n",
       "      <td>1</td>\n",
       "      <td>0</td>\n",
       "      <td>1</td>\n",
       "      <td>1</td>\n",
       "      <td>1</td>\n",
       "      <td>0</td>\n",
       "      <td>0</td>\n",
       "      <td>0</td>\n",
       "      <td>1</td>\n",
       "      <td>0</td>\n",
       "      <td>1</td>\n",
       "      <td>1</td>\n",
       "      <td>0</td>\n",
       "      <td>0</td>\n",
       "      <td>1</td>\n",
       "    </tr>\n",
       "    <tr>\n",
       "      <th>1</th>\n",
       "      <td>republican</td>\n",
       "      <td>0</td>\n",
       "      <td>1</td>\n",
       "      <td>0</td>\n",
       "      <td>1</td>\n",
       "      <td>1</td>\n",
       "      <td>1</td>\n",
       "      <td>0</td>\n",
       "      <td>0</td>\n",
       "      <td>0</td>\n",
       "      <td>0</td>\n",
       "      <td>0</td>\n",
       "      <td>1</td>\n",
       "      <td>1</td>\n",
       "      <td>0</td>\n",
       "      <td>0</td>\n",
       "      <td>1</td>\n",
       "    </tr>\n",
       "    <tr>\n",
       "      <th>2</th>\n",
       "      <td>democrat</td>\n",
       "      <td>0</td>\n",
       "      <td>1</td>\n",
       "      <td>1</td>\n",
       "      <td>0</td>\n",
       "      <td>1</td>\n",
       "      <td>1</td>\n",
       "      <td>0</td>\n",
       "      <td>0</td>\n",
       "      <td>0</td>\n",
       "      <td>0</td>\n",
       "      <td>1</td>\n",
       "      <td>0</td>\n",
       "      <td>1</td>\n",
       "      <td>0</td>\n",
       "      <td>0</td>\n",
       "      <td>0</td>\n",
       "    </tr>\n",
       "    <tr>\n",
       "      <th>3</th>\n",
       "      <td>democrat</td>\n",
       "      <td>0</td>\n",
       "      <td>1</td>\n",
       "      <td>1</td>\n",
       "      <td>0</td>\n",
       "      <td>1</td>\n",
       "      <td>1</td>\n",
       "      <td>0</td>\n",
       "      <td>0</td>\n",
       "      <td>0</td>\n",
       "      <td>0</td>\n",
       "      <td>1</td>\n",
       "      <td>0</td>\n",
       "      <td>1</td>\n",
       "      <td>0</td>\n",
       "      <td>0</td>\n",
       "      <td>1</td>\n",
       "    </tr>\n",
       "    <tr>\n",
       "      <th>4</th>\n",
       "      <td>democrat</td>\n",
       "      <td>1</td>\n",
       "      <td>1</td>\n",
       "      <td>1</td>\n",
       "      <td>0</td>\n",
       "      <td>1</td>\n",
       "      <td>1</td>\n",
       "      <td>0</td>\n",
       "      <td>0</td>\n",
       "      <td>0</td>\n",
       "      <td>0</td>\n",
       "      <td>1</td>\n",
       "      <td>0</td>\n",
       "      <td>1</td>\n",
       "      <td>0</td>\n",
       "      <td>1</td>\n",
       "      <td>1</td>\n",
       "    </tr>\n",
       "  </tbody>\n",
       "</table>\n",
       "</div>"
      ],
      "text/plain": [
       "   Unnamed: 0  Unnamed: 1  Unnamed: 2  Unnamed: 3  Unnamed: 4  Unnamed: 5  \\\n",
       "0  republican           0           1           0           1           1   \n",
       "1  republican           0           1           0           1           1   \n",
       "2    democrat           0           1           1           0           1   \n",
       "3    democrat           0           1           1           0           1   \n",
       "4    democrat           1           1           1           0           1   \n",
       "\n",
       "   Unnamed: 6  Unnamed: 7  Unnamed: 8  Unnamed: 9  Unnamed: 10  Unnamed: 11  \\\n",
       "0           1           0           0           0            1            0   \n",
       "1           1           0           0           0            0            0   \n",
       "2           1           0           0           0            0            1   \n",
       "3           1           0           0           0            0            1   \n",
       "4           1           0           0           0            0            1   \n",
       "\n",
       "   Unnamed: 12  Unnamed: 13  Unnamed: 14  Unnamed: 15  Unnamed: 16  \n",
       "0            1            1            0            0            1  \n",
       "1            1            1            0            0            1  \n",
       "2            0            1            0            0            0  \n",
       "3            0            1            0            0            1  \n",
       "4            0            1            0            1            1  "
      ]
     },
     "execution_count": 688,
     "metadata": {},
     "output_type": "execute_result"
    }
   ],
   "source": [
    "# READING DATA\n",
    "df = pd.read_csv('../data/votesDataset.csv')\n",
    "print('Shape:', df.shape)\n",
    "\n",
    "X = df.iloc[:, 1:]\n",
    "y = df.iloc[:, [0]].replace({'republican': 0, 'democrat': 1})\n",
    "\n",
    "X_train, X_test, y_train, y_test = train_test_split(X, y, test_size=0.3, random_state=64852)\n",
    "df.head()"
   ]
  },
  {
   "cell_type": "code",
   "execution_count": 689,
   "metadata": {},
   "outputs": [
    {
     "data": {
      "text/plain": [
       "array([[1, 0, 1, 0, 0, 1, 1, 1, 1, 1, 1, 0, 0, 1, 0, 1],\n",
       "       [0, 1, 0, 1, 1, 1, 0, 0, 0, 0, 0, 0, 1, 0, 0, 1],\n",
       "       [1, 0, 1, 0, 0, 1, 1, 1, 1, 0, 0, 0, 0, 1, 0, 1],\n",
       "       [0, 1, 1, 0, 0, 1, 0, 1, 1, 0, 1, 0, 1, 0, 1, 1],\n",
       "       [0, 1, 1, 0, 0, 1, 0, 1, 1, 0, 1, 0, 1, 0, 0, 1]], dtype=int64)"
      ]
     },
     "metadata": {},
     "output_type": "display_data"
    },
    {
     "data": {
      "text/plain": [
       "array([[1],\n",
       "       [0],\n",
       "       [1],\n",
       "       [1],\n",
       "       [1]], dtype=int64)"
      ]
     },
     "metadata": {},
     "output_type": "display_data"
    }
   ],
   "source": [
    "X_train = X_train.values\n",
    "y_train = y_train.values\n",
    "\n",
    "X_test = X_test.values\n",
    "y_test = y_test.values\n",
    "\n",
    "display(X_train[:5, :])\n",
    "display(y_train[:5, :])"
   ]
  },
  {
   "cell_type": "code",
   "execution_count": 690,
   "metadata": {},
   "outputs": [],
   "source": [
    "class BayesianNaiveBayes():\n",
    "    def __init__(self):        \n",
    "        pass\n",
    "\n",
    "    def set_priori_params(\n",
    "        self,\n",
    "        dirichlet_alpha,\n",
    "        beta_a,\n",
    "        beta_b\n",
    "    ):\n",
    "        self.dirichlet_alpha = dirichlet_alpha\n",
    "        self.beta_a = beta_a\n",
    "        self.beta_b = beta_b\n",
    "\n",
    "    def fit(self, X, y):\n",
    "\n",
    "        if len(y.shape) == 1:\n",
    "            y = y.reshape(-1, 1)\n",
    "        \n",
    "        classes = np.unique(y)\n",
    "        self.class_to_idx_dict = {classes[i]: i for i in range(len(classes))}\n",
    "\n",
    "        n_features = X.shape[1]\n",
    "\n",
    "        self.pi = np.zeros((len(classes), 1)) # n_classes x 1\n",
    "        self.theta = np.zeros((len(classes), n_features)) # n_classes x n_features\n",
    "        \n",
    "\n",
    "        for label in classes:\n",
    "            c = self.class_to_idx_dict[label]\n",
    "            X_class = X[np.where(y==label)[0], :]\n",
    "            y_class = y[np.where(y==label)[0], :]\n",
    "\n",
    "\n",
    "            # SETTING PI\n",
    "            N_c = y_class.shape[0]\n",
    "            N = y.shape[0]\n",
    "            dir_alpha = self.dirichlet_alpha[c]\n",
    "            dir_sum_alphas = np.sum(self.dirichlet_alpha)\n",
    "\n",
    "            self.pi[c] = (N_c + dir_alpha) / (N + dir_sum_alphas)\n",
    "\n",
    "\n",
    "            # SETTING THETA\n",
    "            N_dc = np.sum(X_class, axis=0)\n",
    "            \n",
    "            self.theta[c] = (N_dc + self.beta_b) / (N_c + self.beta_a + self.beta_b)\n",
    "\n",
    "\n",
    "    def predict(self, X):\n",
    "\n",
    "        idx_to_class = {v: k for k, v in self.class_to_idx_dict.items()}\n",
    "        prob_classes = np.zeros((X.shape[0], len(idx_to_class)))\n",
    "\n",
    "        for i, label in enumerate(idx_to_class.values()):\n",
    "\n",
    "            c = self.class_to_idx_dict[label]\n",
    "            pi = self.pi[c]\n",
    "            theta = self.theta[[c]]\n",
    "            \n",
    "            for idx, x in enumerate(X):\n",
    "                first_term = np.log(pi)\n",
    "                second_term = np.sum(np.log(theta, where=x.astype(bool)))\n",
    "                third_term = np.sum(np.log(1 - theta, where=np.abs(x - 1).astype(bool)))\n",
    "                \n",
    "                pred = first_term + second_term + third_term\n",
    "                prob_classes[idx, i] = pred\n",
    "                \n",
    "\n",
    "        preds = []\n",
    "\n",
    "        for i in range(prob_classes.shape[0]):\n",
    "            argmax = np.argmax(prob_classes[i, :])\n",
    "            preds.append(idx_to_class[argmax])\n",
    "            \n",
    "        return np.array(preds).reshape(-1, 1)"
   ]
  },
  {
   "cell_type": "code",
   "execution_count": 691,
   "metadata": {},
   "outputs": [],
   "source": [
    "my_bnb = BayesianNaiveBayes()\n",
    "my_bnb.set_priori_params(\n",
    "    dirichlet_alpha=[1, 2],\n",
    "    beta_a=1,\n",
    "    beta_b=0\n",
    ")"
   ]
  },
  {
   "cell_type": "code",
   "execution_count": 692,
   "metadata": {},
   "outputs": [
    {
     "data": {
      "text/plain": [
       "array([[37,  7],\n",
       "       [11, 76]], dtype=int64)"
      ]
     },
     "execution_count": 692,
     "metadata": {},
     "output_type": "execute_result"
    }
   ],
   "source": [
    "# FIT\n",
    "my_bnb.fit(X_train, y_train)\n",
    "\n",
    "# PREDICTION\n",
    "y_pred = my_bnb.predict(X_test)\n",
    "cf = confusion_matrix(y_test, y_pred)\n",
    "cf"
   ]
  },
  {
   "cell_type": "code",
   "execution_count": 693,
   "metadata": {},
   "outputs": [
    {
     "data": {
      "text/plain": [
       "<AxesSubplot:>"
      ]
     },
     "execution_count": 693,
     "metadata": {},
     "output_type": "execute_result"
    },
    {
     "data": {
      "image/png": "[encoded data removed]",
      "text/plain": [
       "<Figure size 640x480 with 2 Axes>"
      ]
     },
     "metadata": {},
     "output_type": "display_data"
    }
   ],
   "source": [
    "sns.heatmap(\n",
    "    cf, \n",
    "    annot=True, \n",
    "    xticklabels=['republican', 'democrat'], \n",
    "    yticklabels=['republican', 'democrat']\n",
    ")"
   ]
  }
 ],
 "metadata": {
  "kernelspec": {
   "display_name": "Python 3.8.12 ('modelagem_bnb')",
   "language": "python",
   "name": "python3"
  },
  "language_info": {
   "codemirror_mode": {
    "name": "ipython",
    "version": 3
   },
   "file_extension": ".py",
   "mimetype": "text/x-python",
   "name": "python",
   "nbconvert_exporter": "python",
   "pygments_lexer": "ipython3",
   "version": "3.8.12"
  },
  "orig_nbformat": 4,
  "vscode": {
   "interpreter": {
    "hash": "e4872f761f833a00d8d529d95408b83cbdb75bcceb7e5cbe99a77a1b9495fd2a"
   }
  }
 },
 "nbformat": 4,
 "nbformat_minor": 2
}
