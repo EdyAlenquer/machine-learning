{
 "cells": [
  {
   "cell_type": "markdown",
   "metadata": {},
   "source": [
    "# Imports"
   ]
  },
  {
   "cell_type": "code",
   "execution_count": 3,
   "metadata": {},
   "outputs": [],
   "source": [
    "import numpy as np"
   ]
  },
  {
   "cell_type": "markdown",
   "metadata": {},
   "source": [
    "# Reading Data"
   ]
  },
  {
   "cell_type": "code",
   "execution_count": 24,
   "metadata": {},
   "outputs": [
    {
     "data": {
      "text/plain": [
       "array([[ 39., 144.],\n",
       "       [ 47., 220.],\n",
       "       [ 45., 138.],\n",
       "       [ 47., 145.],\n",
       "       [ 65., 162.]])"
      ]
     },
     "execution_count": 24,
     "metadata": {},
     "output_type": "execute_result"
    }
   ],
   "source": [
    "pressao_data = np.genfromtxt('./data/pressao.txt', delimiter=',', skip_header=1)\n",
    "pressao_data[:5, :]"
   ]
  },
  {
   "cell_type": "code",
   "execution_count": 25,
   "metadata": {},
   "outputs": [
    {
     "data": {
      "text/plain": [
       "array([[  14.,   25.,  620.],\n",
       "       [  28.,   25., 1315.],\n",
       "       [  41.,   25., 2120.],\n",
       "       [  55.,   25., 2600.],\n",
       "       [  69.,   25., 3110.]])"
      ]
     },
     "execution_count": 25,
     "metadata": {},
     "output_type": "execute_result"
    }
   ],
   "source": [
    "peixe_data = np.genfromtxt('./data/peixe.txt', delimiter=',')\n",
    "peixe_data[:5, :]"
   ]
  },
  {
   "cell_type": "markdown",
   "metadata": {},
   "source": [
    "# Functions"
   ]
  },
  {
   "cell_type": "markdown",
   "metadata": {},
   "source": [
    "## Normalization\n",
    "Dado um conjunto de dados $\\boldsymbol{X} = [\\boldsymbol{x}_1, \\boldsymbol{x}_1, \\ldots, \\boldsymbol{x}_N]$, a normalização por escore-Z é dada por:\n",
    "$$\\tilde{\\boldsymbol{x_i}} = \\frac{\\boldsymbol{x_i} - \\boldsymbol{\\mu}}{\\boldsymbol{\\sigma}}$$\n"
   ]
  },
  {
   "cell_type": "code",
   "execution_count": 27,
   "metadata": {},
   "outputs": [
    {
     "data": {
      "text/plain": [
       "array([[-1.5718109 , -1.34164079, -1.893348  ],\n",
       "       [-1.2537309 , -1.34164079, -1.36433777],\n",
       "       [-0.9583709 , -1.34164079, -0.75159932],\n",
       "       [-0.6402909 , -1.34164079, -0.38623974],\n",
       "       [-0.32221091, -1.34164079,  0.00195481]])"
      ]
     },
     "execution_count": 27,
     "metadata": {},
     "output_type": "execute_result"
    }
   ],
   "source": [
    "def z_score_norm(data):\n",
    "    \n",
    "    mean = data.mean(axis=0)\n",
    "    std = data.std(axis=0)\n",
    "    norm_data = (data - mean) / std\n",
    "\n",
    "    return norm_data, mean, std\n",
    "\n",
    "peixe_norm_data, peixe_mean, peixe_std = z_score_norm(peixe_data)\n",
    "peixe_norm_data[:5, :]"
   ]
  },
  {
   "cell_type": "markdown",
   "metadata": {},
   "source": [
    "## Denormalization\n",
    "A \"desnormalização\" pode ser feita por:\n",
    "$$\\boldsymbol{x_i} = \\boldsymbol{\\sigma}\\tilde{\\boldsymbol{x_i}} + \\boldsymbol{\\mu}$$"
   ]
  },
  {
   "cell_type": "code",
   "execution_count": 31,
   "metadata": {},
   "outputs": [
    {
     "data": {
      "text/plain": [
       "array([[  14.,   25.,  620.],\n",
       "       [  28.,   25., 1315.],\n",
       "       [  41.,   25., 2120.],\n",
       "       [  55.,   25., 2600.],\n",
       "       [  69.,   25., 3110.]])"
      ]
     },
     "execution_count": 31,
     "metadata": {},
     "output_type": "execute_result"
    }
   ],
   "source": [
    "def z_score_denorm(norm_data, mean, std):\n",
    "\n",
    "    original_data = (norm_data * std) + mean\n",
    "\n",
    "    return original_data\n",
    "\n",
    "peixe_denorm_data = z_score_denorm(peixe_norm_data, peixe_mean, peixe_std)\n",
    "peixe_denorm_data[:5, :]"
   ]
  },
  {
   "cell_type": "markdown",
   "metadata": {},
   "source": [
    "## Regressão linear via mínimos quadrados ordinários (OLS)\n",
    "\n",
    "Como visto na aula de regressão linear, dado o seguinte problema:\n",
    "$$\\begin{aligned}\n",
    "\\hat{\\boldsymbol{y}} = \\boldsymbol{X}\\boldsymbol{w}\\\\\n",
    "\\text{Queremos encontrar:}\\\\\n",
    "\\hat{\\boldsymbol{w}} = \\arg\\min_{\\boldsymbol{w}} ||\\boldsymbol{y} - \\boldsymbol{X}\\boldsymbol{w}||^2\n",
    "\\end{aligned}$$\n",
    "\n",
    "Como visto, sabemos que:\n",
    "$$\\hat{\\boldsymbol{w}} = (\\boldsymbol{X}^{\\top}\\boldsymbol{X})^{-1} \\boldsymbol{X}^{\\top}\\boldsymbol{y}$$\n",
    "\n",
    "Obtenha um modelo linear para predizer o comprimento de um peixe a partir de sua idade e da temperatura da água. Para isso, encontre o $\\hat{\\boldsymbol{w}}$ pro dataset `peixe` onde:\n",
    "$$\\boldsymbol{X} = [\\mathbf{1}^{\\top} \\;,\\; \\mathtt{peixe\\underline{}dataset[:,[0,1]}]\\\\\n",
    "\\boldsymbol{y} = \\mathtt{peixe\\underline{}dataset[:,[2]]}$$\n",
    "\n",
    "Sem utilizar estrutura de repetição alguma, calcule a raíz do erro quadrático médio:\n",
    "$$\\mathrm{RMSE} = \\sqrt{\\frac{1}{n}\\sum_i^n (\\boldsymbol{y} - \\hat{\\boldsymbol{y}})^2}$$"
   ]
  },
  {
   "cell_type": "code",
   "execution_count": 40,
   "metadata": {},
   "outputs": [],
   "source": [
    "# Including columns with ones of intercept\n",
    "X = np.hstack([np.ones((len(peixe_data), 1)), peixe_data[:, [0, 1]]])\n",
    "y = peixe_data[:, 2]"
   ]
  },
  {
   "cell_type": "code",
   "execution_count": 44,
   "metadata": {},
   "outputs": [],
   "source": [
    "def linear_regression_ols(X, y):\n",
    "    w_hat = (np.linalg.inv(X.T @ X) @ X.T) @ y\n",
    "    return w_hat"
   ]
  },
  {
   "cell_type": "code",
   "execution_count": 46,
   "metadata": {},
   "outputs": [
    {
     "name": "stdout",
     "output_type": "stream",
     "text": [
      "w_hat (coeficients regression):\n",
      "[3904.26601675   26.24068177 -106.41363636]\n"
     ]
    }
   ],
   "source": [
    "w_hat = linear_regression_ols(X, y)\n",
    "\n",
    "print('w_hat (coeficients regression):')\n",
    "print(w_hat)\n"
   ]
  },
  {
   "cell_type": "code",
   "execution_count": null,
   "metadata": {},
   "outputs": [],
   "source": []
  }
 ],
 "metadata": {
  "interpreter": {
   "hash": "7d84fc3ab72c8387ddb373470e784917d8b759f8763a65d23fac12a2e8075760"
  },
  "kernelspec": {
   "display_name": "Python 3.8.12 ('ml-project')",
   "language": "python",
   "name": "python3"
  },
  "language_info": {
   "codemirror_mode": {
    "name": "ipython",
    "version": 3
   },
   "file_extension": ".py",
   "mimetype": "text/x-python",
   "name": "python",
   "nbconvert_exporter": "python",
   "pygments_lexer": "ipython3",
   "version": "3.8.12"
  },
  "orig_nbformat": 4
 },
 "nbformat": 4,
 "nbformat_minor": 2
}
