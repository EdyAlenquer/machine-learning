{
 "cells": [
  {
   "cell_type": "markdown",
   "metadata": {},
   "source": [
    "# Imports"
   ]
  },
  {
   "cell_type": "code",
   "execution_count": 56,
   "metadata": {},
   "outputs": [],
   "source": [
    "import numpy as np\n",
    "import matplotlib.pyplot as plt\n",
    "\n",
    "# To test functions manually implemented\n",
    "from sklearn.metrics import mean_squared_error"
   ]
  },
  {
   "cell_type": "markdown",
   "metadata": {},
   "source": [
    "# Utility Functions"
   ]
  },
  {
   "cell_type": "code",
   "execution_count": 6,
   "metadata": {},
   "outputs": [],
   "source": [
    "def head(numpy_array):\n",
    "    return numpy_array[:5, :]"
   ]
  },
  {
   "cell_type": "markdown",
   "metadata": {},
   "source": [
    "# Question 1"
   ]
  },
  {
   "cell_type": "code",
   "execution_count": 7,
   "metadata": {},
   "outputs": [
    {
     "data": {
      "text/plain": [
       "array([[-1.        , -2.08201726],\n",
       "       [-0.93103448, -1.32698023],\n",
       "       [-0.86206897, -1.10559772],\n",
       "       [-0.79310345, -0.87394576],\n",
       "       [-0.72413793, -0.28502695]])"
      ]
     },
     "execution_count": 7,
     "metadata": {},
     "output_type": "execute_result"
    }
   ],
   "source": [
    "data = np.genfromtxt('./artificial1d.csv', delimiter=',')\n",
    "head(data)"
   ]
  },
  {
   "cell_type": "code",
   "execution_count": 20,
   "metadata": {},
   "outputs": [
    {
     "name": "stdout",
     "output_type": "stream",
     "text": [
      "First values of X data\n"
     ]
    },
    {
     "data": {
      "text/plain": [
       "array([[ 1.        , -1.        ],\n",
       "       [ 1.        , -0.93103448],\n",
       "       [ 1.        , -0.86206897],\n",
       "       [ 1.        , -0.79310345],\n",
       "       [ 1.        , -0.72413793]])"
      ]
     },
     "metadata": {},
     "output_type": "display_data"
    },
    {
     "name": "stdout",
     "output_type": "stream",
     "text": [
      "\n",
      "First values of y data\n"
     ]
    },
    {
     "data": {
      "text/plain": [
       "array([[-2.08201726],\n",
       "       [-1.32698023],\n",
       "       [-1.10559772],\n",
       "       [-0.87394576],\n",
       "       [-0.28502695]])"
      ]
     },
     "metadata": {},
     "output_type": "display_data"
    }
   ],
   "source": [
    "# Including column with 1 to X data (intercept)\n",
    "X = np.hstack([np.ones((len(data), 1)), data[:,[0]]])\n",
    "print('First values of X data')\n",
    "display(head(X))\n",
    "y = data[:,[1]]\n",
    "print('\\nFirst values of y data')\n",
    "display(head(y))"
   ]
  },
  {
   "cell_type": "markdown",
   "metadata": {},
   "source": [
    "## Item a) \n",
    "Apresente os parâmetros do modelo e o MSE (erro quadrático médio)\n",
    "obtidos pelo algoritmo OLS (mínimos quadrados ordinários). Plote\n",
    "a reta resultante sobre os dados"
   ]
  },
  {
   "cell_type": "code",
   "execution_count": 61,
   "metadata": {},
   "outputs": [],
   "source": [
    "def linear_regression_ols(X, y):\n",
    "    w_hat = (np.linalg.inv(X.T @ X) @ X.T) @ y\n",
    "    return w_hat.ravel()"
   ]
  },
  {
   "cell_type": "code",
   "execution_count": 62,
   "metadata": {},
   "outputs": [],
   "source": [
    "def get_mse(y_real, y_pred):\n",
    "    return np.mean((y_real - y_pred) ** 2)\n",
    "\n",
    "def get_rmse(y_real, y_pred):\n",
    "    return np.sqrt(get_mse(y_real, y_pred))"
   ]
  },
  {
   "cell_type": "code",
   "execution_count": 353,
   "metadata": {},
   "outputs": [],
   "source": [
    "X = np.hstack([np.ones((len(data), 1)), data[:,[0]]])\n",
    "y = data[:,[1]]"
   ]
  },
  {
   "cell_type": "code",
   "execution_count": 354,
   "metadata": {},
   "outputs": [
    {
     "name": "stdout",
     "output_type": "stream",
     "text": [
      "Coeficients of Linear Regression Using OLS Method:\n",
      "Intercept:\t0.067618\n",
      "X(1):    \t1.574865\n",
      "\n",
      "#--- Metrics ---#\n",
      "MSE: 0.21340090132936987\n",
      "RMSE: 0.46195335406225796\n"
     ]
    }
   ],
   "source": [
    "w = linear_regression_ols(X, y)\n",
    "\n",
    "print('Coeficients of Linear Regression Using OLS Method:')\n",
    "for i in range(len(w)):\n",
    "    if i == 0:\n",
    "        print('Intercept:\\t{:.6f}'.format(w[i]))\n",
    "    else:\n",
    "        print('X({}):    \\t{:.6f}'.format(i, w[i]))\n",
    "\n",
    "y_pred = (X @ w).reshape(-1, 1)\n",
    "\n",
    "print('\\n#--- Metrics ---#')\n",
    "print('MSE:', get_mse(y, y_pred))\n",
    "print('RMSE:', get_rmse(y, y_pred))\n"
   ]
  },
  {
   "cell_type": "code",
   "execution_count": 356,
   "metadata": {},
   "outputs": [
    {
     "data": {
      "image/png": "[encoded data removed]",
      "text/plain": [
       "<Figure size 1008x432 with 1 Axes>"
      ]
     },
     "metadata": {
      "needs_background": "light"
     },
     "output_type": "display_data"
    }
   ],
   "source": [
    "fig = plt.figure(figsize=(14, 6))\n",
    "plt.title('Linear Regression via OLS', fontsize=16)\n",
    "plt.scatter(X[:, 1], y, label = 'Real Values')\n",
    "plt.plot(X[:, 1], y_pred, c='orange', linestyle='--', label = 'Predicted Values')\n",
    "plt.legend()\n",
    "plt.show()"
   ]
  },
  {
   "cell_type": "markdown",
   "metadata": {},
   "source": [
    "## Item b) \n",
    "Apresente os parâmetros do modelo, o MSE e a curva de aprendizagem\n",
    "obtidos pelo algoritmo GD (gradiente descendente). Plote a reta resultante sobre os dados"
   ]
  },
  {
   "cell_type": "code",
   "execution_count": 401,
   "metadata": {},
   "outputs": [],
   "source": [
    "def standardize_data(data):\n",
    "    \n",
    "    mean = data.mean(axis=0)\n",
    "    std = data.std(axis=0)\n",
    "    norm_data = (data - mean) / std\n",
    "\n",
    "    return norm_data, mean, std\n",
    "\n",
    "def inverse_standardize_data(norm_data, mean, std):\n",
    "\n",
    "    original_data = (norm_data.ravel() * std) + mean\n",
    "\n",
    "    return original_data"
   ]
  },
  {
   "cell_type": "code",
   "execution_count": 402,
   "metadata": {},
   "outputs": [],
   "source": [
    "def linear_regression_gd(X, y, alfa=0.1, n_iterations=1000):\n",
    "\n",
    "    np.random.seed(123142)\n",
    "    w = np.random.uniform(0, 10, 2)\n",
    "\n",
    "    count = 0\n",
    "    learning_curve = []\n",
    "    while count < n_iterations:\n",
    "        e = (y.ravel() - X @ w) @ X\n",
    "        w = w + (1/len(y)) * alfa * e\n",
    "\n",
    "        y_pred = (X @ w)\n",
    "        learning_curve.append(get_mse(y, y_pred))\n",
    "\n",
    "        count+=1\n",
    "\n",
    "    # print(w * X_std + X_mean)\n",
    "    return np.array(w), learning_curve\n",
    "\n",
    "X = np.hstack([np.ones((data.shape[0], 1)), data[:, [0]]])\n",
    "y = data[:, [1]]\n",
    "w, learning_curve = linear_regression_gd(X, y, n_iterations=200)\n"
   ]
  },
  {
   "cell_type": "code",
   "execution_count": 403,
   "metadata": {},
   "outputs": [
    {
     "data": {
      "image/png": "[encoded data removed]",
      "text/plain": [
       "<Figure size 1008x432 with 1 Axes>"
      ]
     },
     "metadata": {
      "needs_background": "light"
     },
     "output_type": "display_data"
    }
   ],
   "source": [
    "fig = plt.figure(figsize=(14, 6))\n",
    "plt.title('Linear Regression via OLS', fontsize=16)\n",
    "# plt.scatter(X[:, 1], y, label = 'Real Values')\n",
    "plt.plot(learning_curve, label='Learning Curve')\n",
    "# plt.plot(X[:, 1], y_pred, c='orange', linestyle='--', label = 'Predicted Values')\n",
    "plt.legend()\n",
    "plt.show()"
   ]
  },
  {
   "cell_type": "code",
   "execution_count": 404,
   "metadata": {},
   "outputs": [
    {
     "name": "stdout",
     "output_type": "stream",
     "text": [
      "Coeficients of Linear Regression Using Gradient Descent Method:\n",
      "Intercept:\t0.067618\n",
      "X(1):    \t1.576966\n",
      "\n",
      "#--- Metrics ---#\n",
      "MSE: 0.21340247414512706\n",
      "RMSE: 0.4619550564125552\n"
     ]
    }
   ],
   "source": [
    "print('Coeficients of Linear Regression Using Gradient Descent Method:')\n",
    "for i in range(len(w)):\n",
    "    if i == 0:\n",
    "        print('Intercept:\\t{:.6f}'.format(w[i]))\n",
    "    else:\n",
    "        print('X({}):    \\t{:.6f}'.format(i, w[i]))\n",
    "\n",
    "y_pred = (X @ w).reshape(-1, 1)\n",
    "\n",
    "print('\\n#--- Metrics ---#')\n",
    "print('MSE:', get_mse(y, y_pred))\n",
    "print('RMSE:', get_rmse(y, y_pred))"
   ]
  },
  {
   "cell_type": "code",
   "execution_count": 405,
   "metadata": {},
   "outputs": [
    {
     "data": {
      "image/png": "[encoded data removed]",
      "text/plain": [
       "<Figure size 1008x432 with 1 Axes>"
      ]
     },
     "metadata": {
      "needs_background": "light"
     },
     "output_type": "display_data"
    }
   ],
   "source": [
    "fig = plt.figure(figsize=(14, 6))\n",
    "plt.title('Linear Regression via Gradient Descent', fontsize=16)\n",
    "plt.scatter(X[:, 1], y, label = 'Real Values')\n",
    "plt.plot(X[:, 1], y_pred, c='orange', linestyle='--', label = 'Predicted Values')\n",
    "plt.legend()\n",
    "plt.show()"
   ]
  },
  {
   "cell_type": "markdown",
   "metadata": {},
   "source": [
    "## Item c) \n",
    "Apresente os parâmetros do modelo, o MSE e a curva de aprendizagem\n",
    "obtidos pelo algoritmo SGD (gradiente descendente estocástico).\n",
    "Plote a reta resultante sobre os dados."
   ]
  },
  {
   "cell_type": "code",
   "execution_count": null,
   "metadata": {},
   "outputs": [],
   "source": [
    "## TODO"
   ]
  }
 ],
 "metadata": {
  "interpreter": {
   "hash": "7d84fc3ab72c8387ddb373470e784917d8b759f8763a65d23fac12a2e8075760"
  },
  "kernelspec": {
   "display_name": "Python 3.8.12 ('ml-project')",
   "language": "python",
   "name": "python3"
  },
  "language_info": {
   "codemirror_mode": {
    "name": "ipython",
    "version": 3
   },
   "file_extension": ".py",
   "mimetype": "text/x-python",
   "name": "python",
   "nbconvert_exporter": "python",
   "pygments_lexer": "ipython3",
   "version": "3.8.12"
  },
  "orig_nbformat": 4
 },
 "nbformat": 4,
 "nbformat_minor": 2
}
