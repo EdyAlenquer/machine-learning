{
 "cells": [
  {
   "cell_type": "code",
   "execution_count": 534,
   "metadata": {},
   "outputs": [],
   "source": [
    "import torch\n",
    "from torch import nn\n",
    "from torch.utils.data import DataLoader\n",
    "import numpy as np\n",
    "from sklearn.model_selection import train_test_split\n",
    "from sklearn.metrics import mean_absolute_error, mean_squared_error\n",
    "import matplotlib.pyplot as plt\n",
    "\n",
    "from tqdm import tqdm"
   ]
  },
  {
   "attachments": {},
   "cell_type": "markdown",
   "metadata": {},
   "source": [
    "\n",
    "## Reading Data"
   ]
  },
  {
   "cell_type": "code",
   "execution_count": 535,
   "metadata": {},
   "outputs": [
    {
     "data": {
      "text/plain": [
       "tensor([[ 4.1685e+00,  2.0000e+01,  6.7006e+00,  1.1783e+00,  7.4500e+02,\n",
       "          2.3726e+00,  3.8800e+01, -1.2115e+02,  2.1750e+00],\n",
       "        [ 2.8194e+00,  2.4000e+01,  4.7625e+00,  1.0208e+00,  6.0800e+02,\n",
       "          2.5333e+00,  3.6750e+01, -1.1985e+02,  8.1100e-01],\n",
       "        [ 2.4250e+00,  4.6000e+01,  4.9277e+00,  1.0181e+00,  7.7200e+02,\n",
       "          2.3253e+00,  3.6330e+01, -1.1931e+02,  8.4900e-01],\n",
       "        [ 3.1205e+00,  1.6000e+01,  3.7285e+00,  1.1015e+00,  1.2600e+03,\n",
       "          2.7815e+00,  3.3870e+01, -1.1799e+02,  1.7400e+00],\n",
       "        [ 4.3889e+00,  4.1000e+01,  5.7410e+00,  1.1990e+00,  8.3700e+02,\n",
       "          2.0072e+00,  3.4150e+01, -1.1840e+02,  3.8040e+00]])"
      ]
     },
     "execution_count": 535,
     "metadata": {},
     "output_type": "execute_result"
    }
   ],
   "source": [
    "data = np.genfromtxt('../data/california.csv', delimiter=',')\n",
    "data = torch.Tensor(data)\n",
    "data[:5]"
   ]
  },
  {
   "cell_type": "code",
   "execution_count": 537,
   "metadata": {},
   "outputs": [],
   "source": [
    "device = 'cuda' if torch.cuda.is_available() else 'cpu'"
   ]
  },
  {
   "cell_type": "code",
   "execution_count": 540,
   "metadata": {},
   "outputs": [],
   "source": [
    "def train_test_split(data, train_size_perc, random_seed=264852):\n",
    "    N = data.shape[0]\n",
    "    train_size = int(train_size_perc * N)\n",
    "\n",
    "    indexes = np.arange(0, N, 1)\n",
    "\n",
    "    np.random.seed(random_seed)\n",
    "    train_idx = np.random.choice(indexes, train_size, replace=False)\n",
    "    test_idx = np.delete(indexes, train_idx)\n",
    "\n",
    "    train_data = data[train_idx]\n",
    "    test_data = data[test_idx]\n",
    "\n",
    "    X_train = train_data[:,:-1]\n",
    "    y_train = train_data[:,[-1]]\n",
    "\n",
    "    X_test = test_data[:,:-1]\n",
    "    y_test = test_data[:,[-1]]\n",
    "\n",
    "    return X_train, X_test, y_train, y_test\n",
    "\n",
    "\n",
    "X_train, X_test, y_train, y_test = train_test_split(data, 0.8)\n",
    "\n",
    "X_train = X_train.to(device)\n",
    "X_test = X_test.to(device)\n",
    "y_train = y_train.to(device)\n",
    "y_test = y_test.to(device)"
   ]
  },
  {
   "attachments": {},
   "cell_type": "markdown",
   "metadata": {},
   "source": [
    "## Model"
   ]
  },
  {
   "cell_type": "code",
   "execution_count": 543,
   "metadata": {},
   "outputs": [],
   "source": [
    "class PyTorchLR(nn.Module):\n",
    "    def __init__(self, n_explanatory_features):\n",
    "        super(PyTorchLR, self).__init__()\n",
    "        self.coefs = nn.Parameter(\n",
    "            torch.randn(n_explanatory_features).type(torch.float32).unsqueeze(1), \n",
    "            requires_grad=True\n",
    "        )\n",
    "        \n",
    "        self.intercept = nn.Parameter(\n",
    "            torch.randn(1).type(torch.float32), \n",
    "            requires_grad=True\n",
    "        )\n",
    "\n",
    "    def forward(self, X: torch.Tensor) -> torch.Tensor:\n",
    "        return X @ self.coefs + self.intercept"
   ]
  },
  {
   "attachments": {},
   "cell_type": "markdown",
   "metadata": {},
   "source": [
    "# Training Loop"
   ]
  },
  {
   "cell_type": "code",
   "execution_count": 572,
   "metadata": {},
   "outputs": [
    {
     "name": "stderr",
     "output_type": "stream",
     "text": [
      "100%|██████████| 8001/8001 [00:04<00:00, 1631.57it/s]\n"
     ]
    },
    {
     "data": {
      "image/png": "[encoded data removed]",
      "text/plain": [
       "<Figure size 640x480 with 1 Axes>"
      ]
     },
     "metadata": {},
     "output_type": "display_data"
    }
   ],
   "source": [
    "torch.random.manual_seed(718274)\n",
    "\n",
    "model = PyTorchLR(n_explanatory_features=X_train.shape[1]).to(device)\n",
    "\n",
    "loss_function = nn.L1Loss()\n",
    "optimizer = torch.optim.Adam(model.parameters(), lr=0.005)\n",
    "\n",
    "train_loss_list = []\n",
    "test_loss_list = []\n",
    "\n",
    "for epoch in tqdm(range(8_001)):\n",
    "    \n",
    "    model.train()\n",
    "\n",
    "    y_pred = model(X_train)\n",
    "\n",
    "    loss = loss_function(y_pred, y_train)\n",
    "    train_loss_list.append(loss.item())\n",
    "\n",
    "    optimizer.zero_grad()\n",
    "\n",
    "    loss.backward()\n",
    "\n",
    "    optimizer.step()\n",
    "\n",
    "    model.eval()\n",
    "\n",
    "    with torch.inference_mode():\n",
    "        y_test_pred = model(X_test).to(device)\n",
    "\n",
    "        test_loss = loss_function(y_test_pred, y_test)\n",
    "        test_loss_list.append(test_loss.item())\n",
    "\n",
    "\n",
    "plt.plot(train_loss_list, label='Training loss')\n",
    "plt.plot(test_loss_list, label='Test loss')\n",
    "plt.legend()\n",
    "plt.show()"
   ]
  },
  {
   "cell_type": "code",
   "execution_count": 573,
   "metadata": {},
   "outputs": [
    {
     "name": "stdout",
     "output_type": "stream",
     "text": [
      "MAE: 0.6194950938224792\n",
      "MSE: 0.6382973790168762\n",
      "RMSE: 0.7989351749420166\n"
     ]
    }
   ],
   "source": [
    "y_pred = model(X_test).detach().cpu().numpy()\n",
    "print('MAE: {}\\nMSE: {}\\nRMSE: {}'.format(\n",
    "    mean_absolute_error(y_test.cpu().numpy(), y_pred),\n",
    "    mean_squared_error(y_test.cpu().numpy(), y_pred),\n",
    "    mean_squared_error(y_test.cpu().numpy(), y_pred, squared=False)\n",
    "    )\n",
    ")"
   ]
  },
  {
   "cell_type": "code",
   "execution_count": 556,
   "metadata": {},
   "outputs": [
    {
     "name": "stdout",
     "output_type": "stream",
     "text": [
      "[[ 4.5171490e-01  1.1028232e-02 -1.3925108e-01  9.2565882e-01\n",
      "  -7.4341265e-06 -3.4714523e-03 -4.1473499e-01 -4.2809570e-01]]\n",
      "MAE: 0.5292350649833679\n",
      "MSE: 0.5195268392562866\n",
      "RMSE: 0.7207821011543274\n"
     ]
    }
   ],
   "source": [
    "from sklearn.linear_model import LinearRegression\n",
    "lr = LinearRegression()\n",
    "lr.fit(X_train.cpu().numpy(), y_train.cpu().numpy())\n",
    "\n",
    "\n",
    "y_pred = lr.predict(X_test.cpu().numpy())\n",
    "\n",
    "print(lr.coef_)\n",
    "\n",
    "print('MAE: {}\\nMSE: {}\\nRMSE: {}'.format(\n",
    "    mean_absolute_error(y_test.cpu().numpy(), y_pred),\n",
    "    mean_squared_error(y_test.cpu().numpy(), y_pred),\n",
    "    mean_squared_error(y_test.cpu().numpy(), y_pred, squared=False)\n",
    "    )\n",
    ")"
   ]
  }
 ],
 "metadata": {
  "kernelspec": {
   "display_name": "rl",
   "language": "python",
   "name": "python3"
  },
  "language_info": {
   "codemirror_mode": {
    "name": "ipython",
    "version": 3
   },
   "file_extension": ".py",
   "mimetype": "text/x-python",
   "name": "python",
   "nbconvert_exporter": "python",
   "pygments_lexer": "ipython3",
   "version": "3.8.17"
  },
  "orig_nbformat": 4
 },
 "nbformat": 4,
 "nbformat_minor": 2
}
