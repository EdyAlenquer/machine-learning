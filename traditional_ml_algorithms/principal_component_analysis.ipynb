{
 "cells": [
  {
   "attachments": {},
   "cell_type": "markdown",
   "metadata": {},
   "source": [
    "# Principal Component Analysis (PCA)\n"
   ]
  },
  {
   "cell_type": "markdown",
   "metadata": {},
   "source": [
    "# Imports"
   ]
  },
  {
   "cell_type": "code",
   "execution_count": 1,
   "metadata": {},
   "outputs": [],
   "source": [
    "import numpy as np\n",
    "import matplotlib.pyplot as plt\n",
    "import seaborn as sns\n",
    "\n",
    "sns.set_palette('tab10')"
   ]
  },
  {
   "cell_type": "markdown",
   "metadata": {},
   "source": [
    "# Utility Functions"
   ]
  },
  {
   "cell_type": "markdown",
   "metadata": {},
   "source": [
    "## MinMaxScaler"
   ]
  },
  {
   "cell_type": "code",
   "execution_count": 2,
   "metadata": {},
   "outputs": [],
   "source": [
    "class MinMaxScaler:\n",
    "    def __init__(self):\n",
    "        self.fitted = False\n",
    "\n",
    "    def fit_transform(self, data):      \n",
    "        self.maximum = data.max(axis=0)\n",
    "        self.minimum = data.min(axis=0)\n",
    "        self.fitted = True\n",
    "\n",
    "        scaled_data =  (data - self.minimum) / (self.maximum - self.minimum)\n",
    "        return scaled_data\n",
    "    \n",
    "    def transform(self, data):\n",
    "        if not self.fitted:\n",
    "            raise Exception('Scaler not fitted!')\n",
    "\n",
    "        scaled_data =  (data - self.minimum) / (self.maximum - self.minimum)\n",
    "        return scaled_data\n",
    "\n",
    "    def inverse_transform(self, scaled_data):\n",
    "        if not self.fitted:\n",
    "            raise Exception('Scaler not fitted!')\n",
    "        \n",
    "        original_data = (self.maximum - self.minimum) * scaled_data + self.minimum\n",
    "        return original_data"
   ]
  },
  {
   "attachments": {},
   "cell_type": "markdown",
   "metadata": {},
   "source": [
    "# PCA"
   ]
  },
  {
   "cell_type": "code",
   "execution_count": 41,
   "metadata": {},
   "outputs": [
    {
     "name": "stdout",
     "output_type": "stream",
     "text": [
      "Shape: (333, 5)\n"
     ]
    },
    {
     "data": {
      "text/plain": [
       "array([[  39.1,   18.7,  181. , 3750. ,    0. ],\n",
       "       [  39.5,   17.4,  186. , 3800. ,    0. ],\n",
       "       [  40.3,   18. ,  195. , 3250. ,    0. ]])"
      ]
     },
     "execution_count": 41,
     "metadata": {},
     "output_type": "execute_result"
    }
   ],
   "source": [
    "# Reading the dataset\n",
    "data = np.genfromtxt('../data/penguins.csv', delimiter=',')\n",
    "X = data[:, :-1]\n",
    "y = data[:, -1]\n",
    "print('Shape:', data.shape)\n",
    "data[:3, :]"
   ]
  },
  {
   "cell_type": "code",
   "execution_count": 42,
   "metadata": {},
   "outputs": [
    {
     "data": {
      "text/plain": [
       "array([[0.25454545, 0.66666667, 0.15254237, 0.29166667],\n",
       "       [0.26909091, 0.51190476, 0.23728814, 0.30555556],\n",
       "       [0.29818182, 0.58333333, 0.38983051, 0.15277778],\n",
       "       ...,\n",
       "       [0.63636364, 0.60714286, 0.3559322 , 0.29861111],\n",
       "       [0.68      , 0.70238095, 0.6440678 , 0.38888889],\n",
       "       [0.65818182, 0.66666667, 0.44067797, 0.29861111]])"
      ]
     },
     "execution_count": 42,
     "metadata": {},
     "output_type": "execute_result"
    }
   ],
   "source": [
    "scaler = MinMaxScaler()\n",
    "X_norm = scaler.fit_transform(X)\n",
    "X_norm"
   ]
  },
  {
   "cell_type": "code",
   "execution_count": 43,
   "metadata": {},
   "outputs": [],
   "source": [
    "class MyPCA():\n",
    "\n",
    "    def __init__(self, n_components):\n",
    "        self.n_components = n_components\n",
    "\n",
    "\n",
    "    def get_cov_matrix(self, X):\n",
    "        mu = np.mean(X, axis=0)\n",
    "        return ((X-mu).T @ (X-mu)) / (X.shape[0]-1)   \n",
    "\n",
    "\n",
    "    def fit(self, X):\n",
    "        self.X = X\n",
    "        self.sigma = self.get_cov_matrix(self.X)\n",
    "\n",
    "        U, S, V =  np.linalg.svd(self.sigma)\n",
    "        \n",
    "        self.P = U.T[:self.n_components]\n",
    "        self.explained_variance_ = S[:self.n_components]\n",
    "        self.explained_variance_ratio = S[:self.n_components] / S.sum()\n",
    "\n",
    "    def transform(self, X):\n",
    "        self.means = X.mean(axis=0)\n",
    "        return (self.P @ (X - self.means).T).T\n",
    "\n",
    "    def fit_transform(self, X):\n",
    "        self.fit(X)\n",
    "        self.transform(X)\n",
    "\n",
    "    def inverse_transform(self, Z):\n",
    "        print(self.P.T.shape)\n",
    "        print(Z.T.shape)\n",
    "\n",
    "        print(self.means.reshape(-1, 1))\n",
    "        return (self.P.T @ Z.T).T + self.means"
   ]
  },
  {
   "cell_type": "code",
   "execution_count": 44,
   "metadata": {},
   "outputs": [
    {
     "data": {
      "text/plain": [
       "array([[ 4.22113052e-01, -3.16289678e-04],\n",
       "       [ 2.89847870e-01,  1.09060918e-01],\n",
       "       [ 3.00277286e-01,  4.85488190e-02]])"
      ]
     },
     "execution_count": 44,
     "metadata": {},
     "output_type": "execute_result"
    }
   ],
   "source": [
    "my_pca = MyPCA(2)\n",
    "my_pca.fit(X_norm)\n",
    "Z = my_pca.transform(X_norm)\n",
    "Z[:3, :]"
   ]
  },
  {
   "cell_type": "code",
   "execution_count": 45,
   "metadata": {},
   "outputs": [
    {
     "data": {
      "image/png": "[encoded data removed]",
      "text/plain": [
       "<Figure size 432x288 with 1 Axes>"
      ]
     },
     "metadata": {
      "needs_background": "light"
     },
     "output_type": "display_data"
    }
   ],
   "source": [
    "plt.scatter(x=Z[y == 0, 0], y=Z[y == 0, 1])\n",
    "plt.scatter(x=Z[y == 1, 0], y=Z[y == 1, 1])\n",
    "plt.scatter(x=Z[y == 2, 0], y=Z[y == 2, 1])\n",
    "plt.show()"
   ]
  },
  {
   "cell_type": "code",
   "execution_count": 46,
   "metadata": {},
   "outputs": [
    {
     "name": "stdout",
     "output_type": "stream",
     "text": [
      "--------------------------------------------------\n",
      "PCA with 1 components\n",
      "--------------------------------------------------\n",
      "Explained variance of component 1: 0.1399 (69.63%)\n",
      "__________________________________________________\n",
      "Explained variable total: 0.1399 (69.63%)\n",
      "--------------------------------------------------\n",
      "\n",
      "--------------------------------------------------\n",
      "PCA with 2 components\n",
      "--------------------------------------------------\n",
      "Explained variance of component 1: 0.1399 (69.63%)\n",
      "Explained variance of component 2: 0.0385 (19.17%)\n",
      "__________________________________________________\n",
      "Explained variable total: 0.1784 (88.79%)\n",
      "--------------------------------------------------\n",
      "\n",
      "--------------------------------------------------\n",
      "PCA with 3 components\n",
      "--------------------------------------------------\n",
      "Explained variance of component 1: 0.1399 (69.63%)\n",
      "Explained variance of component 2: 0.0385 (19.17%)\n",
      "Explained variance of component 3: 0.0167 (8.33%)\n",
      "__________________________________________________\n",
      "Explained variable total: 0.1952 (97.13%)\n",
      "--------------------------------------------------\n",
      "\n",
      "--------------------------------------------------\n",
      "PCA with 4 components\n",
      "--------------------------------------------------\n",
      "Explained variance of component 1: 0.1399 (69.63%)\n",
      "Explained variance of component 2: 0.0385 (19.17%)\n",
      "Explained variance of component 3: 0.0167 (8.33%)\n",
      "Explained variance of component 4: 0.0058 (2.87%)\n",
      "__________________________________________________\n",
      "Explained variable total: 0.2010 (100.00%)\n",
      "--------------------------------------------------\n",
      "\n"
     ]
    }
   ],
   "source": [
    "for n_components in range(1,5):\n",
    "    my_pca = MyPCA(n_components)\n",
    "    my_pca.fit(X_norm)\n",
    "    \n",
    "    print('--------------------------------------------------')\n",
    "    print(f'PCA with {n_components} components')\n",
    "    print('--------------------------------------------------')\n",
    "    for i, (ev, evr) in enumerate(zip(my_pca.explained_variance_, my_pca.explained_variance_ratio)):\n",
    "        print(f'Explained variance of component {i+1}: {ev:.4f} ({evr*100:.2f}%)')\n",
    "    ev_total = np.sum(my_pca.explained_variance_)\n",
    "    evr_total = np.sum(my_pca.explained_variance_ratio)\n",
    "    \n",
    "    print('__________________________________________________')\n",
    "    print(f'Explained variable total: {ev_total:.4f} ({evr_total*100:.2f}%)')\n",
    "    print('--------------------------------------------------\\n')"
   ]
  },
  {
   "cell_type": "markdown",
   "metadata": {},
   "source": [
    "## Sklearn"
   ]
  },
  {
   "cell_type": "code",
   "execution_count": 47,
   "metadata": {},
   "outputs": [],
   "source": [
    "from sklearn.decomposition import PCA"
   ]
  },
  {
   "cell_type": "code",
   "execution_count": 48,
   "metadata": {},
   "outputs": [
    {
     "data": {
      "text/plain": [
       "array([[-4.22113052e-01,  3.16289678e-04],\n",
       "       [-2.89847870e-01, -1.09060918e-01],\n",
       "       [-3.00277286e-01, -4.85488190e-02]])"
      ]
     },
     "execution_count": 48,
     "metadata": {},
     "output_type": "execute_result"
    }
   ],
   "source": [
    "pca = PCA(2)\n",
    "pca.fit(X_norm)\n",
    "Z = pca.transform(X_norm)\n",
    "Z[:3, :]"
   ]
  },
  {
   "cell_type": "markdown",
   "metadata": {},
   "source": [
    "Inverse signs"
   ]
  },
  {
   "cell_type": "code",
   "execution_count": 49,
   "metadata": {},
   "outputs": [
    {
     "data": {
      "image/png": "[encoded data removed]",
      "text/plain": [
       "<Figure size 432x288 with 1 Axes>"
      ]
     },
     "metadata": {
      "needs_background": "light"
     },
     "output_type": "display_data"
    }
   ],
   "source": [
    "plt.scatter(x=Z[y == 0, 0], y=Z[y == 0, 1])\n",
    "plt.scatter(x=Z[y == 1, 0], y=Z[y == 1, 1])\n",
    "plt.scatter(x=Z[y == 2, 0], y=Z[y == 2, 1])\n",
    "plt.show()"
   ]
  },
  {
   "cell_type": "code",
   "execution_count": 50,
   "metadata": {},
   "outputs": [
    {
     "name": "stdout",
     "output_type": "stream",
     "text": [
      "--------------------------------------------------\n",
      "PCA with 1 components\n",
      "--------------------------------------------------\n",
      "Explained variance of component 1: 0.1399 (69.63%)\n",
      "__________________________________________________\n",
      "Explained variable total: 0.1399 (69.63%)\n",
      "--------------------------------------------------\n",
      "\n",
      "--------------------------------------------------\n",
      "PCA with 2 components\n",
      "--------------------------------------------------\n",
      "Explained variance of component 1: 0.1399 (69.63%)\n",
      "Explained variance of component 2: 0.0385 (19.17%)\n",
      "__________________________________________________\n",
      "Explained variable total: 0.1784 (88.79%)\n",
      "--------------------------------------------------\n",
      "\n",
      "--------------------------------------------------\n",
      "PCA with 3 components\n",
      "--------------------------------------------------\n",
      "Explained variance of component 1: 0.1399 (69.63%)\n",
      "Explained variance of component 2: 0.0385 (19.17%)\n",
      "Explained variance of component 3: 0.0167 (8.33%)\n",
      "__________________________________________________\n",
      "Explained variable total: 0.1952 (97.13%)\n",
      "--------------------------------------------------\n",
      "\n",
      "--------------------------------------------------\n",
      "PCA with 4 components\n",
      "--------------------------------------------------\n",
      "Explained variance of component 1: 0.1399 (69.63%)\n",
      "Explained variance of component 2: 0.0385 (19.17%)\n",
      "Explained variance of component 3: 0.0167 (8.33%)\n",
      "Explained variance of component 4: 0.0058 (2.87%)\n",
      "__________________________________________________\n",
      "Explained variable total: 0.2010 (100.00%)\n",
      "--------------------------------------------------\n",
      "\n"
     ]
    }
   ],
   "source": [
    "for n_components in range(1,5):\n",
    "    pca = PCA(n_components)\n",
    "    pca.fit(X_norm)\n",
    "    \n",
    "    print('--------------------------------------------------')\n",
    "    print(f'PCA with {n_components} components')\n",
    "    print('--------------------------------------------------')\n",
    "    for i, (ev, evr) in enumerate(zip(pca.explained_variance_, pca.explained_variance_ratio_)):\n",
    "        print(f'Explained variance of component {i+1}: {ev:.4f} ({evr*100:.2f}%)')\n",
    "    ev_total = np.sum(pca.explained_variance_)\n",
    "    evr_total = np.sum(pca.explained_variance_ratio_)\n",
    "    \n",
    "    print('__________________________________________________')\n",
    "    print(f'Explained variable total: {ev_total:.4f} ({evr_total*100:.2f}%)')\n",
    "    print('--------------------------------------------------\\n')"
   ]
  }
 ],
 "metadata": {
  "interpreter": {
   "hash": "befc19283823365b4b77b90dae63e668f3a40f1a2491259fc4e466c5bacb6daf"
  },
  "kernelspec": {
   "display_name": "Python 3.8.12 ('ml-project')",
   "language": "python",
   "name": "python3"
  },
  "language_info": {
   "codemirror_mode": {
    "name": "ipython",
    "version": 3
   },
   "file_extension": ".py",
   "mimetype": "text/x-python",
   "name": "python",
   "nbconvert_exporter": "python",
   "pygments_lexer": "ipython3",
   "version": "3.8.12"
  },
  "orig_nbformat": 4
 },
 "nbformat": 4,
 "nbformat_minor": 2
}
