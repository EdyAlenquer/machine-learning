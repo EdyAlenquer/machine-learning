{
 "cells": [
  {
   "cell_type": "markdown",
   "metadata": {},
   "source": [
    "# Programming Assignment 4\n",
    "## Neural Networks\n",
    "\n",
    "Aluno: Francisco Edyvalberty Alenquer Cordeiro \\\n",
    "Matrícula: 518659\n"
   ]
  },
  {
   "cell_type": "markdown",
   "metadata": {},
   "source": [
    "# Imports"
   ]
  },
  {
   "cell_type": "code",
   "execution_count": 2,
   "metadata": {},
   "outputs": [],
   "source": [
    "import numpy as np\n",
    "import matplotlib.pyplot as plt"
   ]
  },
  {
   "cell_type": "markdown",
   "metadata": {},
   "source": [
    "# Utility Functions"
   ]
  },
  {
   "cell_type": "markdown",
   "metadata": {},
   "source": [
    "## Metrics"
   ]
  },
  {
   "cell_type": "code",
   "execution_count": 3,
   "metadata": {},
   "outputs": [],
   "source": [
    "def accuracy(y_true, y_pred):\n",
    "    y_true = y_true.reshape(-1, 1)\n",
    "    y_pred = y_pred.reshape(-1, 1)\n",
    "\n",
    "    right_prediction = y_true == y_pred\n",
    "    accuracy = right_prediction.sum() / len(y_true)\n",
    "    return accuracy\n",
    "\n",
    "def recall(y_true, y_pred):\n",
    "    y_true = y_true.reshape(-1, 1)\n",
    "    y_pred = y_pred.reshape(-1, 1)\n",
    "    array = np.hstack([y_true, y_pred])\n",
    "    array = array[array[:,0] == 1]\n",
    "    \n",
    "    right_prediction = array[:, 0] == array[:, 1]\n",
    "    recall = right_prediction.sum() / len(array)\n",
    "    return recall\n",
    "\n",
    "def precision(y_true, y_pred):\n",
    "    y_true = y_true.reshape(-1, 1)\n",
    "    y_pred = y_pred.reshape(-1, 1)\n",
    "    array = np.hstack([y_true, y_pred])\n",
    "    array = array[array[:,1] == 1]\n",
    "    \n",
    "    right_prediction = array[:, 0] == array[:, 1]\n",
    "    precision = right_prediction.sum() / len(array)\n",
    "\n",
    "    return precision\n",
    "\n",
    "def f1_score(y_true, y_pred):\n",
    "    y_true = y_true.reshape(-1, 1)\n",
    "    y_pred = y_pred.reshape(-1, 1)\n",
    "    precision_score = precision(y_true, y_pred)\n",
    "    recall_score = recall(y_true, y_pred)\n",
    "\n",
    "    f1_score = 2 * (precision_score * recall_score) / (precision_score + recall_score)\n",
    "\n",
    "    return f1_score\n",
    "\n",
    "def get_mse(y_real, y_pred):\n",
    "    return np.mean((y_real - y_pred)**2)\n",
    "\n",
    "def get_rmse(y_real, y_pred):\n",
    "    return np.sqrt(get_mse(y_real, y_pred))"
   ]
  },
  {
   "cell_type": "markdown",
   "metadata": {},
   "source": [
    "## MinMaxScaler"
   ]
  },
  {
   "cell_type": "code",
   "execution_count": 4,
   "metadata": {},
   "outputs": [],
   "source": [
    "class MinMaxScaler:\n",
    "    def __init__(self):\n",
    "        self.fitted = False\n",
    "\n",
    "    def fit_transform(self, data):      \n",
    "        self.maximum = data.max(axis=0)\n",
    "        self.minimum = data.min(axis=0)\n",
    "        self.fitted = True\n",
    "\n",
    "        scaled_data =  (data - self.minimum) / (self.maximum - self.minimum)\n",
    "        return scaled_data\n",
    "    \n",
    "    def transform(self, data):\n",
    "        if not self.fitted:\n",
    "            raise Exception('Scaler not fitted!')\n",
    "\n",
    "        scaled_data =  (data - self.minimum) / (self.maximum - self.minimum)\n",
    "        return scaled_data\n",
    "\n",
    "    def inverse_transform(self, scaled_data):\n",
    "        if not self.fitted:\n",
    "            raise Exception('Scaler not fitted!')\n",
    "        \n",
    "        original_data = (self.maximum - self.minimum) * scaled_data + self.minimum\n",
    "        return original_data"
   ]
  },
  {
   "cell_type": "markdown",
   "metadata": {},
   "source": [
    "## Standardization\n"
   ]
  },
  {
   "cell_type": "code",
   "execution_count": 5,
   "metadata": {},
   "outputs": [],
   "source": [
    "class StandardScaler:\n",
    "    def __init__(self):\n",
    "        self.fitted = False\n",
    "\n",
    "    def fit_transform(self, data):\n",
    "        self.mean = data.mean(axis=0)\n",
    "        self.std = data.std(axis=0)\n",
    "        self.fitted = True\n",
    "\n",
    "        scaled_data = (data - self.mean) / self.std\n",
    "        return scaled_data\n",
    "\n",
    "    def transform(self, data):\n",
    "        if not self.fitted:\n",
    "            raise Exception('Scaler not fitted!')\n",
    "\n",
    "        scaled_data = (data - self.mean) / self.std\n",
    "        return scaled_data\n",
    "\n",
    "    def inverse_transform(self, scaled_data):\n",
    "        if not self.fitted:\n",
    "            raise Exception('Scaler not fitted!')\n",
    "\n",
    "        original_data = (scaled_data * self.std) + self.mean\n",
    "        return original_data\n"
   ]
  },
  {
   "cell_type": "markdown",
   "metadata": {},
   "source": [
    "## Cross Validation"
   ]
  },
  {
   "cell_type": "code",
   "execution_count": 6,
   "metadata": {},
   "outputs": [],
   "source": [
    "def get_cv_folds(data, n_folds=10, shuffle=True, random_state=12894):\n",
    "    indexes = np.arange(data.shape[0])\n",
    "    if shuffle:\n",
    "        np.random.seed(random_state)\n",
    "        np.random.shuffle(indexes)\n",
    "\n",
    "    slices = np.array_split(indexes, n_folds)\n",
    "    all_elements = np.hstack(slices)   \n",
    "    \n",
    "    splits = []\n",
    "    for i in range(n_folds):\n",
    "        train_idx = all_elements[~np.isin(all_elements, slices[i])]\n",
    "        test_idx = slices[i]\n",
    "\n",
    "        splits.append((train_idx, test_idx))\n",
    "\n",
    "    return splits"
   ]
  },
  {
   "cell_type": "markdown",
   "metadata": {},
   "source": [
    "## Train Test Split"
   ]
  },
  {
   "cell_type": "code",
   "execution_count": 7,
   "metadata": {},
   "outputs": [],
   "source": [
    "def train_test_split(X, y, train_size_perc, random_seed=264852):\n",
    "    \n",
    "    y = y.reshape(-1, 1)\n",
    "    \n",
    "    N = X.shape[0]\n",
    "    train_size = int(train_size_perc * N)\n",
    "\n",
    "    indexes = np.arange(0, N, 1)\n",
    "\n",
    "    np.random.seed(random_seed)\n",
    "    train_idx = np.random.choice(indexes, train_size, replace=False)\n",
    "    test_idx = np.delete(indexes, train_idx)\n",
    "\n",
    "    X_train = X[train_idx, :]\n",
    "    y_train = y[train_idx, :]\n",
    "    X_test = X[test_idx, :]\n",
    "    y_test = y[test_idx, :]\n",
    "\n",
    "    return X_train, X_test, y_train, y_test\n"
   ]
  },
  {
   "cell_type": "markdown",
   "metadata": {},
   "source": [
    "## Do Cross Validation and Get Metrics"
   ]
  },
  {
   "cell_type": "code",
   "execution_count": 8,
   "metadata": {},
   "outputs": [],
   "source": [
    "def do_cv_and_get_metrics(classifier, cv_splits, X_train, y_train, X_test, title='Classifier', scaler=None):\n",
    "\n",
    "    X_train = X_train.copy()\n",
    "    y_train = y_train.copy()\n",
    "    X_test = X_test.copy()\n",
    "\n",
    "    train_metrics = {\n",
    "        'accuracy': [],\n",
    "        'recall': [],\n",
    "        'precision': [],\n",
    "        'f1_score': []\n",
    "    }\n",
    "\n",
    "    valid_metrics = {\n",
    "        'accuracy': [],\n",
    "        'recall': [],\n",
    "        'precision': [],\n",
    "        'f1_score': []\n",
    "    }\n",
    "    # Reporting results\n",
    "    print('#' + f'{title}'.center(60, '-') + '#')\n",
    "\n",
    "    print('\\n---> Validation Folds Metrics')\n",
    "    print('Fold\\tAccuracy\\tRecall\\t\\tPrecision\\tF1-Score')\n",
    "    count_fold = 1\n",
    "    for train_idx, val_idx in cv_splits:\n",
    "        # Spliting data\n",
    "        X_train_cv = X_train[train_idx, :]\n",
    "        y_train_cv = y_train[train_idx, :]\n",
    "        X_val_cv = X_train[val_idx, :]\n",
    "        y_val_cv = y_train[val_idx, :]\n",
    "\n",
    "        # Scaling if have scaler argument\n",
    "        if scaler is not None:\n",
    "            X_train_cv = scaler.fit_transform(X_train_cv)\n",
    "            X_val_cv = scaler.transform(X_val_cv)\n",
    "\n",
    "        # Training Model\n",
    "        classifier.fit(X_train_cv, y_train_cv.ravel())\n",
    "\n",
    "        # Predictions\n",
    "        y_train_cv_pred = classifier.predict(X_train_cv)\n",
    "        y_val_cv_pred = classifier.predict(X_val_cv)\n",
    "\n",
    "        # Storing metrics\n",
    "        train_metrics['accuracy'].append(accuracy(y_train_cv, y_train_cv_pred))\n",
    "        train_metrics['recall'].append(recall(y_train_cv, y_train_cv_pred))\n",
    "        train_metrics['precision'].append(precision(y_train_cv, y_train_cv_pred))\n",
    "        train_metrics['f1_score'].append(f1_score(y_train_cv, y_train_cv_pred))\n",
    "\n",
    "        valid_metrics['accuracy'].append(accuracy(y_val_cv, y_val_cv_pred))\n",
    "        valid_metrics['recall'].append(recall(y_val_cv, y_val_cv_pred))\n",
    "        valid_metrics['precision'].append(precision(y_val_cv, y_val_cv_pred))\n",
    "        valid_metrics['f1_score'].append(f1_score(y_val_cv, y_val_cv_pred))\n",
    "\n",
    "        print('{0:.0f}\\t{1:.4f}  \\t{2:.4f}\\t\\t{3:.4f}   \\t{4:.4f}'.format(\n",
    "                count_fold,\n",
    "                valid_metrics['accuracy'][-1], \n",
    "                valid_metrics['recall'][-1],\n",
    "                valid_metrics['precision'][-1],\n",
    "                valid_metrics['f1_score'][-1]\n",
    "            )\n",
    "        )\n",
    "        count_fold+=1\n",
    "\n",
    "\n",
    "    print('\\n--->\\tTraining Metrics')\n",
    "\n",
    "    print('Accuracy Mean:     \\t{0:.4f} | Accuracy Std:   \\t{1:.4f}'.format(\n",
    "        np.mean(train_metrics['accuracy']), \n",
    "        np.std(train_metrics['accuracy']))\n",
    "    )\n",
    "    print('Recall Mean:     \\t{0:.4f} | Recall Std:       \\t{1:.4f}'.format(\n",
    "        np.mean(train_metrics['recall']), \n",
    "        np.std(train_metrics['recall']))\n",
    "    )\n",
    "    print('Precision Mean:     \\t{0:.4f} | Precision Std:   \\t{1:.4f}'.format(\n",
    "        np.mean(train_metrics['precision']), \n",
    "        np.std(train_metrics['precision']))\n",
    "    )\n",
    "    print('F1 Score Mean:     \\t{0:.4f} | F1 Score Std:   \\t{1:.4f}'.format(\n",
    "        np.mean(train_metrics['f1_score']), \n",
    "        np.std(train_metrics['f1_score']))\n",
    "    )\n",
    "\n",
    "    print('\\n--->\\tValidation Metrics')\n",
    "\n",
    "    print('Accuracy Mean:     \\t{0:.4f} | Accuracy Std:   \\t{1:.4f}'.format(\n",
    "        np.mean(valid_metrics['accuracy']), \n",
    "        np.std(valid_metrics['accuracy']))\n",
    "    )\n",
    "    print('Recall Mean:     \\t{0:.4f} | Recall Std:       \\t{1:.4f}'.format(\n",
    "        np.mean(valid_metrics['recall']), \n",
    "        np.std(valid_metrics['recall']))\n",
    "    )\n",
    "    print('Precision Mean:     \\t{0:.4f} | Precision Std:   \\t{1:.4f}'.format(\n",
    "        np.mean(valid_metrics['precision']), \n",
    "        np.std(valid_metrics['precision']))\n",
    "    )\n",
    "    print('F1 Score Mean:     \\t{0:.4f} | F1 Score Std:   \\t{1:.4f}'.format(\n",
    "        np.mean(valid_metrics['f1_score']), \n",
    "        np.std(valid_metrics['f1_score']))\n",
    "    )\n",
    "\n",
    "    print('\\n--->\\tTest Metrics')\n",
    "\n",
    "    if scaler is not None:\n",
    "        X_train = scaler.fit_transform(X_train)\n",
    "        X_test = scaler.transform(X_test)\n",
    "    \n",
    "    classifier.fit(X_train, y_train.ravel())\n",
    "    y_test_pred = classifier.predict(X_test)\n",
    "\n",
    "    print('Accuracy:     \\t{0:.4f}'.format(accuracy(y_test, y_test_pred)))\n",
    "    print('Recall:     \\t{0:.4f}'.format(recall(y_test, y_test_pred)))\n",
    "    print('Precision:     \\t{0:.4f}'.format(precision(y_test, y_test_pred)))\n",
    "    print('F1 Score:     \\t{0:.4f}'.format(f1_score(y_test, y_test_pred)))\n"
   ]
  },
  {
   "cell_type": "markdown",
   "metadata": {},
   "source": [
    "# Task 1 - MLP (Regression)"
   ]
  },
  {
   "cell_type": "code",
   "execution_count": 9,
   "metadata": {},
   "outputs": [
    {
     "name": "stdout",
     "output_type": "stream",
     "text": [
      "Shape: (1030, 9)\n"
     ]
    },
    {
     "data": {
      "text/plain": [
       "array([[ 540.  ,    0.  ,    0.  ,  162.  ,    2.5 , 1040.  ,  676.  ,\n",
       "          28.  ,   79.99],\n",
       "       [ 540.  ,    0.  ,    0.  ,  162.  ,    2.5 , 1055.  ,  676.  ,\n",
       "          28.  ,   61.89],\n",
       "       [ 332.5 ,  142.5 ,    0.  ,  228.  ,    0.  ,  932.  ,  594.  ,\n",
       "         270.  ,   40.27]])"
      ]
     },
     "execution_count": 9,
     "metadata": {},
     "output_type": "execute_result"
    }
   ],
   "source": [
    "data = np.genfromtxt('../data/concrete.csv', delimiter=',')\n",
    "X = data[:, :-1]\n",
    "y = data[:, -1]\n",
    "print('Shape:', data.shape)\n",
    "data[:3, :]\n"
   ]
  },
  {
   "cell_type": "code",
   "execution_count": 10,
   "metadata": {},
   "outputs": [
    {
     "name": "stdout",
     "output_type": "stream",
     "text": [
      "Number of Rows by Split\n",
      "X_train: 618 (60.0%)\n",
      "X_test:  206 (20.0%)\n",
      "X_val:   206 (20.0%)\n"
     ]
    }
   ],
   "source": [
    "X_train, X_test, y_train, y_test = train_test_split(\n",
    "    X, y, 0.8, random_seed=466852\n",
    ")\n",
    "\n",
    "X_train, X_val, y_train, y_val = train_test_split(\n",
    "    X_train, y_train, 0.75, random_seed=654824\n",
    ")\n",
    "\n",
    "print('Number of Rows by Split')\n",
    "print('X_train: {} ({}%)'.format(X_train.shape[0], X_train.shape[0]/data.shape[0]*100))\n",
    "print('X_test:  {} ({}%)'.format(X_test.shape[0], X_test.shape[0]/data.shape[0]*100))\n",
    "print('X_val:   {} ({}%)'.format(X_val.shape[0], X_val.shape[0]/data.shape[0]*100))"
   ]
  },
  {
   "cell_type": "code",
   "execution_count": 11,
   "metadata": {},
   "outputs": [],
   "source": [
    "X_scaler = MinMaxScaler()\n",
    "X_train_scaled = X_scaler.fit_transform(X_train)\n",
    "\n",
    "y_scaler = MinMaxScaler()\n",
    "y_train_scaled = y_scaler.fit_transform(y_train)"
   ]
  },
  {
   "cell_type": "code",
   "execution_count": 12,
   "metadata": {},
   "outputs": [],
   "source": [
    "class Sigmoid():\n",
    "    @staticmethod\n",
    "    def get_value(x):\n",
    "        return 1/(1+np.exp(-x))\n",
    "\n",
    "    @staticmethod\n",
    "    def get_derivative(x):\n",
    "        return Sigmoid.get_value(x) - Sigmoid.get_value(x)**2\n",
    "\n",
    "class ReLU():\n",
    "    @staticmethod\n",
    "    def get_value(x):\n",
    "        return np.maximum(0, x)\n",
    "\n",
    "    @staticmethod\n",
    "    def get_derivative(x):\n",
    "        return np.where(x <= 0, 0, 1)\n",
    "\n",
    "class Identity():\n",
    "    @staticmethod\n",
    "    def get_value(x):\n",
    "        return np.ones(x.shape) * x\n",
    "\n",
    "    @staticmethod\n",
    "    def get_derivative(x):\n",
    "        return np.ones(x.shape)"
   ]
  },
  {
   "cell_type": "markdown",
   "metadata": {},
   "source": [
    "### Important Shapes\n",
    "$$\n",
    "H_i(hidden\\_weight) \\rArr (n\\_neurons(H_{i-1}), n\\_neurons(H_i))\n",
    "\n",
    "$$"
   ]
  },
  {
   "cell_type": "code",
   "execution_count": 368,
   "metadata": {},
   "outputs": [
    {
     "name": "stdout",
     "output_type": "stream",
     "text": [
      "\n",
      "Pesos Antes\n",
      "[array([[0. , 0. ],\n",
      "       [0.1, 0.4],\n",
      "       [0.8, 0.6]]), array([[0. ],\n",
      "       [0.3],\n",
      "       [0.9]])]\n",
      "\n",
      "Pesos DEPOIS\n",
      "[array([[0.        , 0.        ],\n",
      "       [0.09907093, 0.39713992],\n",
      "       [0.79761096, 0.59264552]]), array([[0.        ],\n",
      "       [0.27232597],\n",
      "       [0.87299836]])]\n"
     ]
    }
   ],
   "source": [
    "# FUNCIONANDO PARA 1 EXEMPLO\n",
    "class MyMLP():\n",
    "    def __init__(self, n_inputs, n_outputs):\n",
    "        self.fitted = False\n",
    "        self.n_inputs = n_inputs\n",
    "        self.n_outputs = n_outputs\n",
    "\n",
    "        self.n_hidden = []\n",
    "        self.weights = []\n",
    "        self.activation_functions = [Identity(), Sigmoid()]\n",
    "        self.layer_inputs = []\n",
    "        self.layer_outputs = []\n",
    "        self.hidden_activation_derivatives = []\n",
    "        self.deltas = []\n",
    "\n",
    "    def get_n_neurons_of_last_layer(self):\n",
    "        if len(self.weights) == 0:\n",
    "            return self.n_inputs\n",
    "        else:\n",
    "            return len(self.weights[-1])\n",
    "\n",
    "    def add_hidden_layer(self, n_neurons, activation_function):\n",
    "        self.n_hidden.append(n_neurons)\n",
    "        self.activation_functions = self.activation_functions[:-1] \\\n",
    "            + [activation_function] \\\n",
    "            + [self.activation_functions[-1]]\n",
    "\n",
    "    def initialize_weights(self, random_state=8776123):\n",
    "        self.weights = []\n",
    "\n",
    "        seed = np.random.RandomState(random_state)\n",
    "        self.layers = [self.n_inputs] + self.n_hidden + [self.n_outputs]\n",
    "        \n",
    "        for i in range(len(self.layers)-1):\n",
    "            # Initialization strategies\n",
    "            if type(self.activation_functions[i]) == ReLU:\n",
    "                w = seed.normal(\n",
    "                    size = (self.layers[i]+1, self.layers[i+1])\n",
    "                ) * np.sqrt(2/self.layers[i])  \n",
    "                w[0, :] = 0.01\n",
    "            else:\n",
    "                w = seed.normal(\n",
    "                    size = (self.layers[i]+1, self.layers[i+1])\n",
    "                ) * np.sqrt(1/self.layers[i])\n",
    "                w[0, :] = 0\n",
    "\n",
    "\n",
    "            # self.weights.append(w)\n",
    "        self.weights.append(np.array([\n",
    "            [0, 0], \n",
    "            [0.1, 0.4],\n",
    "            [0.8, 0.6]\n",
    "        ]))\n",
    "        self.weights.append(np.array([\n",
    "            [0], \n",
    "            [0.3],\n",
    "            [0.9]\n",
    "        ]))\n",
    "\n",
    "\n",
    "\n",
    "    def forward_propagation(self, X):\n",
    "        activated_values = X\n",
    "\n",
    "        self.layer_outputs = []\n",
    "        self.hidden_activation_derivatives = []\n",
    "\n",
    "        self.layer_outputs.append(activated_values)\n",
    "\n",
    "        for i, w in enumerate(self.weights):\n",
    "            # Insert first column with ones to multiply bias term\n",
    "            activated_values = np.hstack([np.ones((activated_values.shape[0], 1)), activated_values])\n",
    "            \n",
    "            activation_function = self.activation_functions[i+1]            \n",
    "            \n",
    "            # Calculating input of hidden layer\n",
    "            hidden_input = np.array(activated_values @ w)\n",
    "            if activation_function is not None:\n",
    "                # print('FORWARD', i)\n",
    "                # print(hidden_input)\n",
    "                # print(activation_function.get_value(hidden_input))\n",
    "                # print(activation_function)\n",
    "                activated_values = activation_function.get_value(hidden_input)\n",
    "            else:\n",
    "                activated_values = hidden_input\n",
    "                \n",
    "            self.layer_inputs.append(hidden_input)\n",
    "            self.layer_outputs.append(activated_values)\n",
    "        \n",
    "        self.layer_inputs = [X] + self.layer_inputs\n",
    "        return activated_values # Output\n",
    "\n",
    "\n",
    "    def back_propagation(self, error, alpha=1):\n",
    "\n",
    "        # calcular os deltas\n",
    "        last_layers = True\n",
    "        for i in range(len(self.activation_functions)-1, 0, -1):\n",
    "\n",
    "            act_function = self.activation_functions[i]\n",
    "            layer_inputs = self.layer_inputs[i]\n",
    "\n",
    "            if last_layers:\n",
    "                calc_i = error * act_function.get_derivative(layer_inputs)\n",
    "                self.deltas = [calc_i] + self.deltas\n",
    "                # print(self.deltas)\n",
    "                last_layers=False\n",
    "            else:\n",
    "                weights = self.weights[i][1:]\n",
    "                \n",
    "                # print('weights')\n",
    "                # print(weights.shape)\n",
    "                # print(weights)\n",
    "                # print('delta')\n",
    "                # print(self.deltas[0].shape)\n",
    "                # print(self.deltas[0])\n",
    "                # print('act_function')\n",
    "                # print(act_function.get_derivative(layer_inputs).T.shape)\n",
    "                # print(act_function.get_derivative(layer_inputs).T)\n",
    "                \n",
    "                calc_i = weights @ self.deltas[0] * act_function.get_derivative(layer_inputs).T\n",
    "                self.deltas = [calc_i] + self.deltas\n",
    "                # calc_i = error * act_function.get_derivative(layer_inputs)\n",
    "\n",
    "        # print('\\n\\n\\n----------PESOS\\n\\n\\n')\n",
    "        print('\\nPesos Antes')\n",
    "        print(self.weights)\n",
    "        for i in range(len(self.weights)):\n",
    "            # print('\\n\\n', i, '\\n\\n')\n",
    "            \n",
    "            # print(self.deltas[i])\n",
    "            # print(self.layer_outputs[i])\n",
    "            # print(self.deltas[i] @ self.layer_outputs[i])\n",
    "            # print('\\nTESTE\\n')\n",
    "            # print(self.weights[i][1:])\n",
    "            # print(gradient.T)\n",
    "            gradient = self.deltas[i] @ self.layer_outputs[i]\n",
    "            self.weights[i][1:, :] = self.weights[i][1:, :] - alpha * gradient.T\n",
    "\n",
    "            # print(i)  \n",
    "            # print(self.layer_inputs[i])\n",
    "        print('\\nPesos DEPOIS')\n",
    "        print(self.weights)\n",
    "\n",
    "\n",
    "            \n",
    "    def fit(self, X, y):\n",
    "        pass\n",
    "\n",
    "    def predict(self, X):\n",
    "        pass\n",
    "\n",
    "my_mlp = MyMLP(n_inputs=2, n_outputs=2)\n",
    "my_mlp.add_hidden_layer(n_neurons=2, activation_function=Sigmoid())\n",
    "# my_mlp.add_hidden_layer(n_neurons=2, activation_function=ReLU())\n",
    "\n",
    "my_mlp.initialize_weights()\n",
    "\n",
    "X = np.array([[0.35, 0.9]])\n",
    "y = np.array([[0.5]])\n",
    "\n",
    "y_pred = my_mlp.forward_propagation(X)\n",
    "error = y_pred - y\n",
    "\n",
    "my_mlp.back_propagation(error)"
   ]
  },
  {
   "cell_type": "code",
   "execution_count": 247,
   "metadata": {},
   "outputs": [
    {
     "name": "stdout",
     "output_type": "stream",
     "text": [
      "[[ 0.         -0.21125633 -0.13177053 -0.24346945  0.29552883 -0.19150205\n",
      "  -0.25735021 -0.91155395 -0.26770572]\n",
      " [-0.47958908  0.48037115 -1.03552811 -0.26139674 -0.16657067 -0.52291482\n",
      "  -0.04704427  0.08008185 -0.22819911]\n",
      " [ 0.20667829 -0.47789413  0.22744415  0.28878475  0.40091788 -0.51051799\n",
      "   0.41193154 -0.17761967 -0.27852947]\n",
      " [ 0.06823243  0.39012196 -0.54897127 -0.12270746  0.15263795  0.04614792\n",
      "  -0.70509532 -0.14365739  0.82325983]]\n",
      "[[ 0.50902878  0.1871123  -1.20537613 -0.51350225  0.14349613]]\n",
      "MSE Epoch 0: 16.264069872365884\n",
      "MSE Epoch 10: 8.51995763097486\n",
      "MSE Epoch 20: 8.44066002728783\n",
      "MSE Epoch 30: 8.39638601725746\n",
      "MSE Epoch 40: 8.361230997102966\n"
     ]
    },
    {
     "data": {
      "text/plain": [
       "[<matplotlib.lines.Line2D at 0x2351e0e03d0>]"
      ]
     },
     "execution_count": 247,
     "metadata": {},
     "output_type": "execute_result"
    },
    {
     "data": {
      "image/png": "[encoded data removed]",
      "text/plain": [
       "<Figure size 432x288 with 1 Axes>"
      ]
     },
     "metadata": {
      "needs_background": "light"
     },
     "output_type": "display_data"
    }
   ],
   "source": [
    "class MyMLP_v1():\n",
    "\n",
    "    def __init__(self, n_inputs, n_outputs, verbose=False):\n",
    "        self.fitted = False\n",
    "        self.n_inputs = n_inputs\n",
    "        self.n_outputs = n_outputs\n",
    "        self.n_hidden = []\n",
    "        self.activation_functions = [Identity(), Identity()]\n",
    "        self.deltas = []\n",
    "        self.verbose=verbose\n",
    "\n",
    "    def add_hidden_layer(self, n_neurons, activation_function):\n",
    "        self.n_hidden.append(n_neurons)\n",
    "        self.activation_functions = self.activation_functions[:-1] \\\n",
    "            + [activation_function] \\\n",
    "            + [self.activation_functions[-1]]\n",
    "\n",
    "    def initialize_weights(self, random_state=8776123):\n",
    "        self.weights = []\n",
    "        self.bias = []\n",
    "\n",
    "        seed = np.random.RandomState(random_state)\n",
    "        self.layers = [self.n_inputs] + self.n_hidden + [self.n_outputs]\n",
    "        \n",
    "        for i in range(len(self.layers)-1):\n",
    "            # Initialization strategies\n",
    "            if type(self.activation_functions[i]) == ReLU:\n",
    "                w = seed.normal(\n",
    "                    size = (self.layers[i+1], self.layers[i])\n",
    "                ) * np.sqrt(2/self.layers[i])  \n",
    "                b = 0.01\n",
    "            else:\n",
    "                w = seed.normal(\n",
    "                    size = (self.layers[i+1], self.layers[i])\n",
    "                ) * np.sqrt(1/self.layers[i])\n",
    "                b = 0\n",
    "\n",
    "            self.weights.append(w)\n",
    "            self.bias.append(b)\n",
    "\n",
    "    def forward_propagation(self, X):\n",
    "        activated_values = X\n",
    "\n",
    "        self.layer_inputs = []\n",
    "        self.layer_outputs = []\n",
    "\n",
    "        self.layer_outputs.append(activated_values)\n",
    "\n",
    "        for i, w in enumerate(self.weights):\n",
    "            activation_function = self.activation_functions[i+1]            \n",
    "            \n",
    "            # Calculating input of next layer\n",
    "            hidden_input = np.array(activated_values @ w.T + self.bias[i])\n",
    "            \n",
    "            # Passing values through the activation function of next layer\n",
    "            activated_values = activation_function.get_value(hidden_input)\n",
    "            \n",
    "            self.layer_inputs.append(hidden_input)\n",
    "            self.layer_outputs.append(activated_values)\n",
    "        \n",
    "        self.layer_inputs = [X] + self.layer_inputs\n",
    "        return activated_values # Output\n",
    "\n",
    "\n",
    "    def back_propagation(self, error, alpha=0.1):\n",
    "        # calcular os deltas\n",
    "        output_layer = True\n",
    "        self.deltas = []\n",
    "        for i in range(len(self.activation_functions)-1, 0, -1):\n",
    "            act_function = self.activation_functions[i]\n",
    "            layer_inputs = self.layer_inputs[i]\n",
    "            if output_layer:\n",
    "                delta_i = error * act_function.get_derivative(layer_inputs)\n",
    "                self.deltas = [delta_i] + self.deltas\n",
    "                output_layer=False\n",
    "            else:\n",
    "                weights = self.weights[i]\n",
    "                \n",
    "                if self.verbose == True:\n",
    "                    print(f'------ ITERAÇÃO {i} ------')\n",
    "                    print('\\nweights')\n",
    "                    print(weights.shape)\n",
    "                    print(weights)\n",
    "                    print('\\ndelta')\n",
    "                    print(self.deltas[0].shape)\n",
    "                    print(self.deltas[0])\n",
    "                    print('\\nact_function')\n",
    "                    print(act_function.get_derivative(layer_inputs).shape)\n",
    "                    print(act_function.get_derivative(layer_inputs))\n",
    "\n",
    "                delta_i = act_function.get_derivative(layer_inputs) \\\n",
    "                    * (self.deltas[0] @ weights)\n",
    "                self.deltas = [delta_i] + self.deltas\n",
    "\n",
    "        for i in range(len(self.weights)):\n",
    "            gradient = self.deltas[i].T @ self.layer_outputs[i]            \n",
    "            self.weights[i] = self.weights[i] - alpha * gradient\n",
    "            # self.bias[i] = self.bias[i] - alpha * np.sum(self.deltas[i], axis=0, keepdims=True)\n",
    "            # print(self.bias[i])\n",
    "\n",
    "    def fit(self, X, y):\n",
    "        pass\n",
    "\n",
    "    def predict(self, X):\n",
    "        activated_values = X\n",
    "\n",
    "        for i, w in enumerate(self.weights):\n",
    "            activation_function = self.activation_functions[i+1]           \n",
    "            \n",
    "            # Calculating input of hidden layer\n",
    "            hidden_input = np.array(activated_values @ w.T + self.bias[i])\n",
    "            activated_values = activation_function.get_value(hidden_input)\n",
    "        \n",
    "        self.layer_inputs = [X] + self.layer_inputs\n",
    "        return activated_values\n",
    "\n",
    "my_mlp_ant = MyMLP_v1(n_inputs=8, n_outputs=1, verbose=False)\n",
    "my_mlp_ant.add_hidden_layer(n_neurons=4, activation_function=ReLU())\n",
    "# my_mlp_ant.add_hidden_layer(n_neurons=2, activation_function=ReLU())\n",
    "\n",
    "my_mlp_ant.initialize_weights(65421)\n",
    "\n",
    "cost_function_curve = []\n",
    "\n",
    "epochs = 50\n",
    "for i in range(epochs):\n",
    "    mse = 0\n",
    "    count = 0\n",
    "    for input, output in zip(X_train_scaled, y_train_scaled):\n",
    "        input_reshaped = input.reshape(1, -1)\n",
    "        output_reshaped = output.reshape(1, -1)        \n",
    "        y_pred = my_mlp_ant.forward_propagation(input_reshaped)\n",
    "        error = y_pred - output_reshaped\n",
    "        my_mlp_ant.back_propagation(error, 0.1)\n",
    "\n",
    "        output = y_scaler.inverse_transform(output)\n",
    "        y_pred = y_scaler.inverse_transform(y_pred)\n",
    "\n",
    "        mse+=get_rmse(output, y_pred)\n",
    "        count+=1\n",
    "    if i % 10 == 0:\n",
    "        cost_function_curve.append(mse/count)\n",
    "        print(f'MSE Epoch {i}:', mse/count)\n",
    "\n",
    "# for i in range(epochs):\n",
    " \n",
    "#     y_pred = my_mlp_ant.forward_propagation(X_train_scaled[:3])\n",
    "#     error = y_pred[:3] - y_train_scaled[:3]\n",
    "#     my_mlp_ant.back_propagation(error, 0.01)\n",
    "\n",
    "\n",
    "#     y_pred = y_scaler.inverse_transform(y_pred)\n",
    "#     mse=get_rmse(y_train[:3], y_pred)\n",
    "\n",
    "#     cost_function_curve.append(mse)\n",
    "    # print(f'MSE Epoch {i}:', mse)\n",
    "\n",
    "\n",
    "plt.plot(cost_function_curve)\n"
   ]
  },
  {
   "cell_type": "code",
   "execution_count": 248,
   "metadata": {},
   "outputs": [
    {
     "data": {
      "text/plain": [
       "15.259557525987374"
      ]
     },
     "execution_count": 248,
     "metadata": {},
     "output_type": "execute_result"
    }
   ],
   "source": [
    "X_test_scaled = X_scaler.transform(X_test)\n",
    "y_test_scaled = y_scaler.transform(y_test)\n",
    "\n",
    "y_test_pred = my_mlp.predict(X_test_scaled)\n",
    "\n",
    "y_test_pred = y_scaler.inverse_transform(y_test_pred)\n",
    "\n",
    "mse = get_rmse(\n",
    "    y_test,\n",
    "    y_test_pred\n",
    ")\n",
    "mse\n"
   ]
  },
  {
   "cell_type": "code",
   "execution_count": 384,
   "metadata": {},
   "outputs": [],
   "source": [
    "class MyMLP_v2():\n",
    "\n",
    "    def __init__(self, n_inputs, n_outputs, learning_rate=0.01, verbose=False):\n",
    "        self.fitted = False\n",
    "        self.n_inputs = n_inputs\n",
    "        self.n_outputs = n_outputs\n",
    "        self.n_hidden = []\n",
    "        self.activation_functions = [Identity(), Identity()]\n",
    "        self.deltas = []\n",
    "        self.verbose=verbose\n",
    "        self.learning_rate = learning_rate\n",
    "\n",
    "    def add_hidden_layer(self, n_neurons, activation_function):\n",
    "        self.n_hidden.append(n_neurons)\n",
    "        self.activation_functions = self.activation_functions[:-1] \\\n",
    "            + [activation_function] \\\n",
    "            + [self.activation_functions[-1]]\n",
    "\n",
    "    def initialize_weights(self, random_state=None):\n",
    "        self.weights = []\n",
    "        self.bias = []\n",
    "\n",
    "        if random_state is None:\n",
    "            seed = np.random.RandomState()\n",
    "        else:\n",
    "            seed = np.random.RandomState(random_state)\n",
    "\n",
    "        self.layers = [self.n_inputs] + self.n_hidden + [self.n_outputs]\n",
    "        \n",
    "        for i in range(len(self.layers)-1):\n",
    "            # Initialization strategies\n",
    "            if type(self.activation_functions[i]) == ReLU:\n",
    "                w = seed.normal(\n",
    "                    size = (self.layers[i+1], self.layers[i])\n",
    "                ) * np.sqrt(2/self.layers[i])  \n",
    "                w = np.hstack([np.ones((self.layers[i+1], 1))*0.1, w])\n",
    "            else:\n",
    "                w = seed.normal(\n",
    "                    size = (self.layers[i+1], self.layers[i])\n",
    "                ) * np.sqrt(1/self.layers[i])\n",
    "                w = np.hstack([np.zeros((self.layers[i+1], 1))*0.1, w])               \n",
    "\n",
    "            self.weights.append(w)\n",
    "\n",
    "    def forward_propagation(self, X):\n",
    "        input = np.hstack(\n",
    "            [np.ones((X.shape[0],1)), X]\n",
    "        )\n",
    "\n",
    "        self.layer_inputs = []\n",
    "        self.layer_outputs = []\n",
    "\n",
    "        self.layer_inputs.append(input)\n",
    "        self.layer_outputs.append(input)\n",
    "        \n",
    "        # Calculating input of next layer\n",
    "        for i, w in enumerate(self.weights):\n",
    "            activation_function = self.activation_functions[i+1]            \n",
    "            \n",
    "            self.layer_inputs.append(input)\n",
    "\n",
    "            # Calculating input of next layer\n",
    "            output = np.array(input @ w.T)\n",
    "\n",
    "            # Passing values through the activation function of next layer\n",
    "            activated_output = activation_function.get_value(output)\n",
    "            \n",
    "            if i < len(self.weights)-1:\n",
    "                activated_output = np.hstack(\n",
    "                    [np.ones((X.shape[0],1)), activated_output]\n",
    "                )\n",
    "            self.layer_outputs.append(activated_output)\n",
    "            input = activated_output\n",
    "\n",
    "        return activated_output # Output\n",
    "\n",
    "\n",
    "    def back_propagation(self, error, learning_rate):\n",
    "        # calcular os deltas\n",
    "        output_layer = True\n",
    "        self.deltas = []\n",
    "        for i in range(len(self.activation_functions)-1, 0, -1):\n",
    "            act_function = self.activation_functions[i]\n",
    "            \n",
    "            if output_layer:\n",
    "                layer_inputs = self.layer_outputs[i]\n",
    "                delta_i = error * act_function.get_derivative(layer_inputs)\n",
    "                self.deltas = [delta_i] + self.deltas\n",
    "                output_layer=False\n",
    "            else:\n",
    "                layer_inputs = self.layer_outputs[i][:, 1:]\n",
    "                weights = self.weights[i][:, 1:]\n",
    "                \n",
    "                if self.verbose:\n",
    "                    print(f'------ ITERAÇÃO {i} ------')\n",
    "                    print('\\nweights')\n",
    "                    print(weights.shape)\n",
    "                    print(weights)\n",
    "                    print('\\ndelta')\n",
    "                    print(self.deltas[0].shape)\n",
    "                    print(self.deltas[0])\n",
    "                    print('\\nact_function')\n",
    "                    print(act_function.get_derivative(layer_inputs).shape)\n",
    "                    print(act_function.get_derivative(layer_inputs))\n",
    "\n",
    "                delta_i = act_function.get_derivative(layer_inputs) \\\n",
    "                    * (self.deltas[0] @ weights)\n",
    "                self.deltas = [delta_i] + self.deltas\n",
    "\n",
    "        for i in range(len(self.weights)):\n",
    "            gradient = self.deltas[i].T @ self.layer_outputs[i]\n",
    "            self.weights[i] = self.weights[i] - learning_rate * gradient\n",
    "\n",
    "\n",
    "    def get_minibatches(self, X, y, batch_size):\n",
    "        init_index=0\n",
    "        batches = []\n",
    "\n",
    "        for final_index in range(batch_size, X.shape[0]+batch_size, batch_size):\n",
    "            \n",
    "            X_minibatch = X[init_index:final_index]\n",
    "            y_minibatch = y[init_index:final_index]\n",
    "\n",
    "            if X_minibatch.shape[0] < batch_size:\n",
    "                n_missing_rows = batch_size - X_minibatch.shape[0]\n",
    "                X_minibatch = np.vstack([X_minibatch, X[0:n_missing_rows]])\n",
    "                y_minibatch = np.vstack([y_minibatch, y[0:n_missing_rows]])\n",
    "\n",
    "            init_index = final_index\n",
    "            batches.append((X_minibatch, y_minibatch))\n",
    "        \n",
    "        return batches\n",
    "\n",
    "\n",
    "    def fit(self, X, y, valid_set=None, epochs=100, batch_size=32):\n",
    "        \n",
    "        self.initialize_weights()\n",
    "        \n",
    "        self.loss_function_curve = []\n",
    "        self.loss_function_curve_val = []\n",
    "\n",
    "        for i, epochs in enumerate(range(epochs)):\n",
    "            loss_function = 0\n",
    "            val_loss_function = 0\n",
    "            count = 0\n",
    "            batches = self.get_minibatches(X, y, batch_size)\n",
    "            \n",
    "            for input, output in batches:\n",
    "                y_pred = self.forward_propagation(input)\n",
    "                \n",
    "                if valid_set is not None:\n",
    "                    X_val, y_val = valid_set[0], valid_set[1]\n",
    "                    y_val_pred = self.predict(X_val)\n",
    "                    val_loss_function+=get_mse(y_val, y_val_pred)\n",
    "\n",
    "\n",
    "                error = y_pred - output\n",
    "                self.back_propagation(error, self.learning_rate)\n",
    "                loss_function+=get_mse(output, y_pred)\n",
    "                count+=1\n",
    "                \n",
    "            self.loss_function_curve.append(loss_function/count)\n",
    "            \n",
    "            \n",
    "            if valid_set is not None:\n",
    "                self.loss_function_curve_val.append(val_loss_function/count)\n",
    "                if self.verbose:\n",
    "                    print('Epoch {} -> Loss Function: Train {:.6f} | Valid {:.6f}'.format(\n",
    "                            i,\n",
    "                            loss_function/count,\n",
    "                            val_loss_function/count\n",
    "                        )\n",
    "                    )\n",
    "            else:\n",
    "                if self.verbose:\n",
    "                    print(f'Epoch {i} | Loss Function: ', loss_function/count)\n",
    "\n",
    "    def plot_learning_curve(self):\n",
    "        plt.figure(figsize=(14, 8))\n",
    "        plt.plot(self.loss_function_curve, label='Train')\n",
    "\n",
    "        if len(self.loss_function_curve_val)>0:\n",
    "            plt.plot(self.loss_function_curve_val, label='Validation')\n",
    "        \n",
    "        plt.title('Learning Curves', fontsize=18)\n",
    "        plt.legend()\n",
    "\n",
    "    def predict(self, X):\n",
    "        input = np.hstack(\n",
    "            [np.ones((X.shape[0],1)), X]\n",
    "        )\n",
    "\n",
    "        for i, w in enumerate(self.weights):\n",
    "            activation_function = self.activation_functions[i+1]            \n",
    "            \n",
    "            self.layer_inputs.append(input)\n",
    "\n",
    "            # Calculating input of next layer\n",
    "            output = np.array(input @ w.T)\n",
    "\n",
    "            # Passing values through the activation function of next layer\n",
    "            activated_output = activation_function.get_value(output)\n",
    "            \n",
    "            if i < len(self.weights)-1:\n",
    "                activated_output = np.hstack(\n",
    "                    [np.ones((X.shape[0],1)), activated_output]\n",
    "                )\n",
    "            input = activated_output\n",
    "\n",
    "        return activated_output\n",
    "\n",
    "my_mlp = MyMLP_v2(n_inputs=8, n_outputs=1, verbose=False)\n",
    "my_mlp.add_hidden_layer(n_neurons=4, activation_function=ReLU())\n",
    "# my_mlp.add_hidden_layer(n_neurons=2, activation_function=ReLU())\n",
    "\n",
    "\n",
    "\n",
    "# cost_function_curve = []\n",
    "\n",
    "# epochs = 100\n",
    "\n",
    "# for i in range(epochs):\n",
    "#     mse = 0\n",
    "#     count = 0\n",
    "#     for input, output in zip(X_train_scaled, y_train_scaled):\n",
    "#         input_reshaped = input.reshape(1, -1)\n",
    "#         output_reshaped = output.reshape(1, -1)        \n",
    "#         y_pred = my_mlp.forward_propagation(input_reshaped)\n",
    "#         error = y_pred - output_reshaped\n",
    "#         my_mlp.back_propagation(error, 0.1)\n",
    "\n",
    "#         # output = y_scaler.inverse_transform(output)\n",
    "#         # y_pred = y_scaler.inverse_transform(y_pred)\n",
    "\n",
    "#         mse+=get_rmse(output, y_pred)\n",
    "#         count+=1\n",
    "    \n",
    "#     cost_function_curve.append(mse/count)\n",
    "    # print(f'MSE Epoch {i}:', mse/count)\n",
    "\n",
    "# for i in range(epochs):\n",
    " \n",
    "#     y_pred = my_mlp.forward_propagation(X_train_scaled)\n",
    "#     error = y_pred - y_train_scaled\n",
    "#     my_mlp.back_propagation(error, 0.001)\n",
    "\n",
    "\n",
    "#     # y_pred = y_scaler.inverse_transform(y_pred)\n",
    "#     mse=get_mse(y_train_scaled, y_pred)\n",
    "\n",
    "#     cost_function_curve.append(mse)\n",
    "#     # if i % 10 == 0:\n",
    "#     #     print(f'MSE Epoch {i}:', mse)\n",
    "\n",
    "\n",
    "# plt.plot(cost_function_curve)\n",
    "\n",
    "# X_test_scaled = X_scaler.transform(X_test)\n",
    "# y_test_scaled = y_scaler.transform(y_test)\n",
    "# y_test_pred = my_mlp.predict(X_test_scaled)\n",
    "\n",
    "# # y_test_pred = y_scaler.inverse_transform(y_test_pred)\n",
    "\n",
    "# y_train_pred = my_mlp.predict(X_train_scaled)\n",
    "# mse_train = get_mse(y_train_scaled, y_train_pred)\n",
    "\n",
    "# mse_test = get_mse(y_test_scaled, y_test_pred)\n",
    "\n",
    "# print('MSE Train:', mse_train)\n",
    "# print('MSE Test:', mse_test)\n"
   ]
  },
  {
   "cell_type": "code",
   "execution_count": 385,
   "metadata": {},
   "outputs": [],
   "source": [
    "X_val_scaled = X_scaler.transform(X_val)\n",
    "y_val_scaled = y_scaler.transform(y_val)"
   ]
  },
  {
   "cell_type": "code",
   "execution_count": 387,
   "metadata": {},
   "outputs": [
    {
     "name": "stdout",
     "output_type": "stream",
     "text": [
      "\n",
      "---- RESULTS ----\n",
      "MSE Train:\t 0.017993346342215184\n",
      "MSE Test:\t 0.019401915490144382\n",
      "MSE Validation:\t 0.019183216073926715\n"
     ]
    },
    {
     "data": {
      "image/png": "[encoded data removed]",
      "text/plain": [
       "<Figure size 1008x576 with 1 Axes>"
      ]
     },
     "metadata": {
      "needs_background": "light"
     },
     "output_type": "display_data"
    }
   ],
   "source": [
    "my_mlp = MyMLP_v2(8, 1, learning_rate=0.01)\n",
    "my_mlp.add_hidden_layer(n_neurons=4, activation_function=ReLU())\n",
    "my_mlp.fit(X_train_scaled, y_train_scaled, valid_set=(X_val_scaled, y_val_scaled), epochs=5000, batch_size=32)\n",
    "\n",
    "\n",
    "y_train_pred = my_mlp.predict(X_train_scaled)\n",
    "y_test_pred = my_mlp.predict(X_test_scaled)\n",
    "y_val_pred = my_mlp.predict(X_val_scaled)\n",
    "\n",
    "mse_train = get_mse(y_train_scaled, y_train_pred)\n",
    "mse_test = get_mse(y_test_scaled, y_test_pred)\n",
    "mse_val = get_mse(y_val_scaled, y_val_pred)\n",
    "\n",
    "my_mlp.plot_learning_curve()\n",
    "\n",
    "print('\\n---- RESULTS ----')\n",
    "print('MSE Train:\\t', mse_train)\n",
    "print('MSE Test:\\t', mse_test)\n",
    "print('MSE Validation:\\t', mse_val)\n"
   ]
  },
  {
   "cell_type": "code",
   "execution_count": 23,
   "metadata": {},
   "outputs": [
    {
     "name": "stdout",
     "output_type": "stream",
     "text": [
      "-------- Input Layer ----------\n",
      "N Neurons: 8\n",
      "Output Shape: (618, 9)\n",
      "Weights: (4, 9)\n",
      "Delta Shape: (618, 4)\n",
      "\n",
      "------- Hidden Layer 1 ---------\n",
      "N Neurons: 4\n",
      "Output Shape: (618, 5)\n",
      "Weights: (1, 5)\n",
      "Delta Shape: (618, 1)\n",
      "\n",
      "-------- Output Layer ----------\n",
      "N Neurons: 1\n",
      "Output Shape: (618, 1)\n"
     ]
    },
    {
     "ename": "IndexError",
     "evalue": "list index out of range",
     "output_type": "error",
     "traceback": [
      "\u001b[1;31m---------------------------------------------------------------------------\u001b[0m",
      "\u001b[1;31mIndexError\u001b[0m                                Traceback (most recent call last)",
      "\u001b[1;32mc:\\projects\\ufc\\machine-learning\\machine_learning\\supervised_learning\\programming_assignment_4\\programming_assignment_4.ipynb Cell 28'\u001b[0m in \u001b[0;36m<module>\u001b[1;34m\u001b[0m\n\u001b[0;32m     <a href='vscode-notebook-cell:/c%3A/projects/ufc/machine-learning/machine_learning/supervised_learning/programming_assignment_4/programming_assignment_4.ipynb#ch0000028?line=14'>15</a>\u001b[0m \u001b[39mprint\u001b[39m(\u001b[39m'\u001b[39m\u001b[39mOutput Shape:\u001b[39m\u001b[39m'\u001b[39m, model\u001b[39m.\u001b[39mlayer_outputs[i]\u001b[39m.\u001b[39mshape)\n\u001b[0;32m     <a href='vscode-notebook-cell:/c%3A/projects/ufc/machine-learning/machine_learning/supervised_learning/programming_assignment_4/programming_assignment_4.ipynb#ch0000028?line=16'>17</a>\u001b[0m \u001b[39mif\u001b[39;00m i \u001b[39m<\u001b[39m\u001b[39m=\u001b[39m \u001b[39mlen\u001b[39m(model\u001b[39m.\u001b[39mlayers)\u001b[39m-\u001b[39m\u001b[39m1\u001b[39m:\n\u001b[1;32m---> <a href='vscode-notebook-cell:/c%3A/projects/ufc/machine-learning/machine_learning/supervised_learning/programming_assignment_4/programming_assignment_4.ipynb#ch0000028?line=17'>18</a>\u001b[0m     \u001b[39mprint\u001b[39m(\u001b[39m'\u001b[39m\u001b[39mWeights:\u001b[39m\u001b[39m'\u001b[39m, model\u001b[39m.\u001b[39;49mweights[i]\u001b[39m.\u001b[39mshape)\n\u001b[0;32m     <a href='vscode-notebook-cell:/c%3A/projects/ufc/machine-learning/machine_learning/supervised_learning/programming_assignment_4/programming_assignment_4.ipynb#ch0000028?line=18'>19</a>\u001b[0m     \u001b[39mprint\u001b[39m(\u001b[39m'\u001b[39m\u001b[39mDelta Shape:\u001b[39m\u001b[39m'\u001b[39m, model\u001b[39m.\u001b[39mdeltas[i]\u001b[39m.\u001b[39mshape)\n",
      "\u001b[1;31mIndexError\u001b[0m: list index out of range"
     ]
    }
   ],
   "source": [
    "model = my_mlp\n",
    "\n",
    "for i in range(len(model.layers)):\n",
    "    \n",
    "    if i == 0:\n",
    "        print(f'-------- Input Layer ----------')\n",
    "    elif i == len(model.layers)-1:\n",
    "        print(f'\\n-------- Output Layer ----------')\n",
    "    else:\n",
    "        print(f'\\n------- Hidden Layer {i} ---------')\n",
    "        \n",
    "\n",
    "\n",
    "    print('N Neurons:', model.layers[i])\n",
    "    print('Output Shape:', model.layer_outputs[i].shape)\n",
    "    \n",
    "    if i <= len(model.layers)-1:\n",
    "        print('Weights:', model.weights[i].shape)\n",
    "        print('Delta Shape:', model.deltas[i].shape)\n"
   ]
  },
  {
   "cell_type": "markdown",
   "metadata": {},
   "source": [
    "## Teste Keras"
   ]
  },
  {
   "cell_type": "code",
   "execution_count": 24,
   "metadata": {},
   "outputs": [],
   "source": [
    "from keras.models import Sequential, Model\n",
    "from keras.layers import Dense, Input\n",
    "import keras\n",
    "import tensorflow as tf"
   ]
  },
  {
   "cell_type": "code",
   "execution_count": 184,
   "metadata": {},
   "outputs": [
    {
     "name": "stdout",
     "output_type": "stream",
     "text": [
      "7/7 [==============================] - 0s 907us/step\n"
     ]
    },
    {
     "data": {
      "text/plain": [
       "0.022614325788554903"
      ]
     },
     "execution_count": 184,
     "metadata": {},
     "output_type": "execute_result"
    },
    {
     "data": {
      "image/png": "[encoded data removed]",
      "text/plain": [
       "<Figure size 432x288 with 1 Axes>"
      ]
     },
     "metadata": {
      "needs_background": "light"
     },
     "output_type": "display_data"
    }
   ],
   "source": [
    "model = Sequential()\n",
    "\n",
    "model.add(Dense(8))\n",
    "model.add(Dense(4, activation='relu'))\n",
    "model.add(Dense(1))\n",
    "\n",
    "model.compile(loss='mse', optimizer=tf.keras.optimizers.SGD(learning_rate=0.001, momentum=0), metrics=['mse'])\n",
    "\n",
    "history = model.fit(X_train_scaled, y_train_scaled, epochs=100, batch_size=1, verbose=False)\n",
    "\n",
    "plt.plot(history.history['loss'])\n",
    "\n",
    "X_test_scaled = X_scaler.transform(X_test)\n",
    "y_test_scaled = y_scaler.transform(y_test)\n",
    "\n",
    "y_test_pred = model.predict(X_test_scaled)\n",
    "\n",
    "# y_test_pred = y_scaler.inverse_transform(y_test_pred)\n",
    "\n",
    "mse = get_mse(\n",
    "    y_test_scaled,\n",
    "    y_test_pred\n",
    ")\n",
    "mse\n"
   ]
  },
  {
   "cell_type": "code",
   "execution_count": 21,
   "metadata": {},
   "outputs": [
    {
     "data": {
      "text/plain": [
       "dict_keys(['loss', 'mse', 'val_loss', 'val_mse'])"
      ]
     },
     "execution_count": 21,
     "metadata": {},
     "output_type": "execute_result"
    }
   ],
   "source": [
    "history.history.keys()"
   ]
  },
  {
   "cell_type": "code",
   "execution_count": 24,
   "metadata": {},
   "outputs": [
    {
     "data": {
      "text/plain": [
       "[<matplotlib.lines.Line2D at 0x23513d69c10>]"
      ]
     },
     "execution_count": 24,
     "metadata": {},
     "output_type": "execute_result"
    },
    {
     "data": {
      "image/png": "[encoded data removed]",
      "text/plain": [
       "<Figure size 432x288 with 1 Axes>"
      ]
     },
     "metadata": {
      "needs_background": "light"
     },
     "output_type": "display_data"
    }
   ],
   "source": [
    "plt.plot(history.history['loss'])\n",
    "plt.plot(history.history['val_loss'])"
   ]
  },
  {
   "cell_type": "code",
   "execution_count": 203,
   "metadata": {},
   "outputs": [
    {
     "data": {
      "text/plain": [
       "array([[0.35, 0.9 ],\n",
       "       [0.35, 0.9 ]])"
      ]
     },
     "execution_count": 203,
     "metadata": {},
     "output_type": "execute_result"
    }
   ],
   "source": [
    "my_mlp.layer_outputs[0]"
   ]
  },
  {
   "cell_type": "code",
   "execution_count": 104,
   "metadata": {},
   "outputs": [
    {
     "data": {
      "text/plain": [
       "[array([[0.00265449],\n",
       "        [0.00817165]]),\n",
       " array([[0.04068113]])]"
      ]
     },
     "execution_count": 104,
     "metadata": {},
     "output_type": "execute_result"
    }
   ],
   "source": [
    "my_mlp.deltas"
   ]
  },
  {
   "cell_type": "code",
   "execution_count": 81,
   "metadata": {},
   "outputs": [
    {
     "data": {
      "text/plain": [
       "[array([[0.35, 0.9 ]]), array([[0.755, 0.68 ]]), array([[0.6981492]])]"
      ]
     },
     "execution_count": 81,
     "metadata": {},
     "output_type": "execute_result"
    }
   ],
   "source": [
    "my_mlp.layer_outputs"
   ]
  },
  {
   "cell_type": "code",
   "execution_count": 82,
   "metadata": {},
   "outputs": [
    {
     "data": {
      "text/plain": [
       "[array([[0.35, 0.9 ]]), array([[0.755, 0.68 ]]), array([[0.8385]])]"
      ]
     },
     "execution_count": 82,
     "metadata": {},
     "output_type": "execute_result"
    }
   ],
   "source": [
    "my_mlp.layer_inputs"
   ]
  },
  {
   "cell_type": "code",
   "execution_count": 17,
   "metadata": {},
   "outputs": [
    {
     "data": {
      "text/plain": [
       "[array([[0.35, 0.9 ]]), array([[0.6802672, 0.6637387]]), array([[0.69028349]])]"
      ]
     },
     "execution_count": 17,
     "metadata": {},
     "output_type": "execute_result"
    }
   ],
   "source": [
    "my_mlp.hidden_activation_values"
   ]
  },
  {
   "cell_type": "code",
   "execution_count": 1002,
   "metadata": {},
   "outputs": [
    {
     "data": {
      "text/plain": [
       "[array([[0.35, 0.9 ]]), array([[0.755, 0.68 ]]), array([[0.80144499]])]"
      ]
     },
     "execution_count": 1002,
     "metadata": {},
     "output_type": "execute_result"
    }
   ],
   "source": [
    "my_mlp.layer_values"
   ]
  },
  {
   "cell_type": "code",
   "execution_count": 1003,
   "metadata": {},
   "outputs": [
    {
     "data": {
      "text/plain": [
       "[array([[0.35, 0.9 ]]), array([[0.6802672, 0.6637387]]), array([[0.69028349]])]"
      ]
     },
     "execution_count": 1003,
     "metadata": {},
     "output_type": "execute_result"
    }
   ],
   "source": [
    "my_mlp.hidden_activation_values"
   ]
  },
  {
   "cell_type": "code",
   "execution_count": 961,
   "metadata": {},
   "outputs": [
    {
     "data": {
      "text/plain": [
       "[array([[ 0.01      ,  0.01      ],\n",
       "        [-1.30874051, -1.02080529],\n",
       "        [-0.73480594,  1.48559353]]),\n",
       " array([[ 0.        ],\n",
       "        [-0.96229814],\n",
       "        [-0.25849241]])]"
      ]
     },
     "execution_count": 961,
     "metadata": {},
     "output_type": "execute_result"
    }
   ],
   "source": [
    "my_mlp.hidden_weights"
   ]
  },
  {
   "cell_type": "code",
   "execution_count": 922,
   "metadata": {},
   "outputs": [
    {
     "data": {
      "text/plain": [
       "[array([[1, 1]]), array([[-2.03354645,  0.47478824]]), array([[-0.12272916]])]"
      ]
     },
     "execution_count": 922,
     "metadata": {},
     "output_type": "execute_result"
    }
   ],
   "source": [
    "my_mlp.layer_values"
   ]
  },
  {
   "cell_type": "code",
   "execution_count": 920,
   "metadata": {},
   "outputs": [
    {
     "data": {
      "text/plain": [
       "[array([[1, 1]]), array([[0.        , 0.47478824]]), array([[-0.12272916]])]"
      ]
     },
     "execution_count": 920,
     "metadata": {},
     "output_type": "execute_result"
    }
   ],
   "source": [
    "my_mlp.hidden_activation_values"
   ]
  },
  {
   "cell_type": "code",
   "execution_count": 865,
   "metadata": {},
   "outputs": [
    {
     "data": {
      "text/plain": [
       "[array([[-4.0770929 ,  0.93957648]]), array([[-0.24287339]])]"
      ]
     },
     "execution_count": 865,
     "metadata": {},
     "output_type": "execute_result"
    }
   ],
   "source": []
  },
  {
   "cell_type": "code",
   "execution_count": 834,
   "metadata": {},
   "outputs": [
    {
     "data": {
      "text/plain": [
       "[array([[2, 2]]),\n",
       " array([[0.        , 0.        , 2.25006011]]),\n",
       " array([[1.72497389]])]"
      ]
     },
     "execution_count": 834,
     "metadata": {},
     "output_type": "execute_result"
    }
   ],
   "source": [
    "my_mlp.hidden_activation_values"
   ]
  },
  {
   "cell_type": "code",
   "execution_count": 829,
   "metadata": {},
   "outputs": [
    {
     "data": {
      "text/plain": [
       "[array([[-0.55005223],\n",
       "        [-0.55005223]]),\n",
       " array([[ 0.        ],\n",
       "        [ 0.        ],\n",
       "        [-0.61882529]])]"
      ]
     },
     "execution_count": 829,
     "metadata": {},
     "output_type": "execute_result"
    }
   ],
   "source": [
    "my_mlp.hidden_activation_derivatives"
   ]
  },
  {
   "cell_type": "code",
   "execution_count": 779,
   "metadata": {},
   "outputs": [
    {
     "name": "stdout",
     "output_type": "stream",
     "text": [
      "0\n",
      "1\n"
     ]
    }
   ],
   "source": [
    "for i in range(2):\n",
    "    print(i)"
   ]
  },
  {
   "cell_type": "code",
   "execution_count": 743,
   "metadata": {},
   "outputs": [
    {
     "data": {
      "text/plain": [
       "[array([[ 0.01      ,  0.01      ,  0.01      ],\n",
       "        [-1.02080529, -0.73480594,  1.48559353],\n",
       "        [-0.52143647, -1.36089508, -0.36556347]]),\n",
       " array([[ 0.01      ,  0.01      ],\n",
       "        [-1.25788996,  1.08418502],\n",
       "        [ 0.75540738,  0.68650945],\n",
       "        [ 0.60064027,  0.32373336]]),\n",
       " array([[ 0.        ],\n",
       "        [-1.01657088],\n",
       "        [-1.08121814]])]"
      ]
     },
     "execution_count": 743,
     "metadata": {},
     "output_type": "execute_result"
    }
   ],
   "source": [
    "my_mlp.initialize_weights()\n",
    "my_mlp.hidden_weights"
   ]
  },
  {
   "cell_type": "code",
   "execution_count": 749,
   "metadata": {},
   "outputs": [],
   "source": []
  },
  {
   "cell_type": "code",
   "execution_count": 753,
   "metadata": {},
   "outputs": [],
   "source": [
    "\n"
   ]
  },
  {
   "cell_type": "code",
   "execution_count": 752,
   "metadata": {},
   "outputs": [
    {
     "data": {
      "text/plain": [
       "[array([[2, 2]]),\n",
       " array([[0.        , 0.        , 2.25006011]]),\n",
       " array([[1.36147672, 0.73841953]]),\n",
       " array([[-2.18243018]])]"
      ]
     },
     "execution_count": 752,
     "metadata": {},
     "output_type": "execute_result"
    }
   ],
   "source": [
    "my_mlp.hidden_activation_values"
   ]
  }
 ],
 "metadata": {
  "interpreter": {
   "hash": "befc19283823365b4b77b90dae63e668f3a40f1a2491259fc4e466c5bacb6daf"
  },
  "kernelspec": {
   "display_name": "Python 3.8.12 ('ml-project')",
   "language": "python",
   "name": "python3"
  },
  "language_info": {
   "codemirror_mode": {
    "name": "ipython",
    "version": 3
   },
   "file_extension": ".py",
   "mimetype": "text/x-python",
   "name": "python",
   "nbconvert_exporter": "python",
   "pygments_lexer": "ipython3",
   "version": "3.8.12"
  },
  "orig_nbformat": 4
 },
 "nbformat": 4,
 "nbformat_minor": 2
}
