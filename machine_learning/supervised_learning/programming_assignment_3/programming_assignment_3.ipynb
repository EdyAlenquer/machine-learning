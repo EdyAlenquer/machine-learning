{
 "cells": [
  {
   "cell_type": "markdown",
   "metadata": {},
   "source": [
    "# Programming Assignment 1\n",
    "## KNN\n",
    "\n",
    "Aluno: Francisco Edyvalberty Alenquer Cordeiro \\\n",
    "Matrícula: 518659\n"
   ]
  },
  {
   "cell_type": "markdown",
   "metadata": {},
   "source": [
    "# Imports"
   ]
  },
  {
   "cell_type": "code",
   "execution_count": 2,
   "metadata": {},
   "outputs": [],
   "source": [
    "import numpy as np\n",
    "import matplotlib.pyplot as plt\n"
   ]
  },
  {
   "cell_type": "markdown",
   "metadata": {},
   "source": [
    "# Utility Functions"
   ]
  },
  {
   "cell_type": "markdown",
   "metadata": {},
   "source": [
    "## Metrics"
   ]
  },
  {
   "cell_type": "code",
   "execution_count": 3,
   "metadata": {},
   "outputs": [],
   "source": [
    "def accuracy(y_true, y_pred):\n",
    "    right_prediction = y_true == y_pred\n",
    "    accuracy = right_prediction.sum() / len(y_true)\n",
    "    return accuracy\n",
    "\n",
    "\n",
    "def recall(y_true, y_pred):\n",
    "    array = np.hstack([y_true.reshape(-1, 1), y_pred.reshape(-1, 1)])\n",
    "    array = array[array[:, 0] == 1]\n",
    "\n",
    "    right_prediction = array[:, 0] == array[:, 1]\n",
    "    recall = right_prediction.sum() / len(array)\n",
    "    return recall\n",
    "\n",
    "\n",
    "def precision(y_true, y_pred):\n",
    "    array = np.hstack([y_true.reshape(-1, 1), y_pred.reshape(-1, 1)])\n",
    "    array = array[array[:, 1] == 1]\n",
    "\n",
    "    right_prediction = array[:, 0] == array[:, 1]\n",
    "    precision = right_prediction.sum() / len(array)\n",
    "\n",
    "    return precision\n",
    "\n",
    "\n",
    "def f1_score(y_true, y_pred):\n",
    "    precision_score = precision(y_true, y_pred)\n",
    "    recall_score = recall(y_true, y_pred)\n",
    "\n",
    "    f1_score = 2 * (precision_score * recall_score) / \\\n",
    "        (precision_score + recall_score)\n",
    "\n",
    "    return f1_score\n"
   ]
  },
  {
   "cell_type": "markdown",
   "metadata": {},
   "source": [
    "## Standardization\n"
   ]
  },
  {
   "cell_type": "code",
   "execution_count": 4,
   "metadata": {},
   "outputs": [],
   "source": [
    "class StandardScaler:\n",
    "    def __init__(self):\n",
    "        self.fitted = False\n",
    "\n",
    "    def fit_transform(self, data):\n",
    "        self.mean = data.mean(axis=0)\n",
    "        self.std = data.std(axis=0)\n",
    "        self.fitted = True\n",
    "\n",
    "        scaled_data = (data - self.mean) / self.std\n",
    "        return scaled_data\n",
    "\n",
    "    def transform(self, data):\n",
    "        if not self.fitted:\n",
    "            raise Exception('Scaler not fitted!')\n",
    "\n",
    "        scaled_data = (data - self.mean) / self.std\n",
    "        return scaled_data\n",
    "\n",
    "    def inverse_transform(self, scaled_data):\n",
    "        if not self.fitted:\n",
    "            raise Exception('Scaler not fitted!')\n",
    "\n",
    "        original_data = (scaled_data * self.std) + self.mean\n",
    "        return original_data\n"
   ]
  },
  {
   "cell_type": "markdown",
   "metadata": {},
   "source": [
    "## Cross Validation"
   ]
  },
  {
   "cell_type": "code",
   "execution_count": 5,
   "metadata": {},
   "outputs": [],
   "source": [
    "def kfolds_cross_validation(data, n_folds=10, shuffle=False, random_state=12894):\n",
    "    indexes = np.arange(data.shape[0])\n",
    "\n",
    "    if shuffle:\n",
    "        np.random.seed(12894)\n",
    "        np.random.shuffle(indexes)\n",
    "\n",
    "    slices = np.array_split(indexes, n_folds)\n",
    "    all_elements = np.hstack(slices)\n",
    "\n",
    "    for i in range(n_folds):\n",
    "        train_idx = all_elements[~np.isin(all_elements, slices[i])]\n",
    "        test_idx = slices[i]\n",
    "\n",
    "        yield train_idx, test_idx\n"
   ]
  },
  {
   "cell_type": "markdown",
   "metadata": {},
   "source": [
    "## Train Test Split"
   ]
  },
  {
   "cell_type": "code",
   "execution_count": 6,
   "metadata": {},
   "outputs": [],
   "source": [
    "def train_test_split(data, train_size_perc, random_seed=264852):\n",
    "    \"\"\"\n",
    "        Obs: Target variable must be the last one on the right\n",
    "    \"\"\"\n",
    "    N = data.shape[0]\n",
    "    train_size = int(train_size_perc * N)\n",
    "\n",
    "    indexes = np.arange(0, N, 1)\n",
    "\n",
    "    np.random.seed(random_seed)\n",
    "    train_idx = np.random.choice(indexes, train_size, replace=False)\n",
    "    test_idx = np.delete(indexes, train_idx)\n",
    "\n",
    "    train_data = data[train_idx]\n",
    "    test_data = data[test_idx]\n",
    "\n",
    "    X_train = train_data[:, :-1]\n",
    "    y_train = train_data[:, [-1]]\n",
    "\n",
    "    X_test = test_data[:, :-1]\n",
    "    y_test = test_data[:, [-1]]\n",
    "\n",
    "    return X_train, X_test, y_train, y_test\n"
   ]
  },
  {
   "cell_type": "markdown",
   "metadata": {},
   "source": [
    "# Task 1 - KNN"
   ]
  },
  {
   "cell_type": "code",
   "execution_count": 7,
   "metadata": {},
   "outputs": [
    {
     "name": "stdout",
     "output_type": "stream",
     "text": [
      "Shape: (522, 22)\n"
     ]
    },
    {
     "data": {
      "text/plain": [
       "array([[1.1000000e+00, 1.4000000e+00, 1.4000000e+00, 1.4000000e+00,\n",
       "        1.3000000e+00, 1.3000000e+00, 1.3000000e+00, 1.3000000e+00,\n",
       "        1.3000000e+00, 1.3000000e+00, 1.3000000e+00, 1.3000000e+00,\n",
       "        2.0000000e+00, 2.0000000e+00, 2.0000000e+00, 2.0000000e+00,\n",
       "        1.2000000e+00, 1.2000000e+00, 1.2000000e+00, 1.2000000e+00,\n",
       "        1.4000000e+00, 0.0000000e+00],\n",
       "       [1.0000000e+00, 1.0000000e+00, 1.0000000e+00, 1.0000000e+00,\n",
       "        1.0000000e+00, 1.0000000e+00, 1.0000000e+00, 1.0000000e+00,\n",
       "        1.0000000e+00, 1.0000000e+00, 1.0000000e+00, 1.0000000e+00,\n",
       "        1.0000000e+00, 1.0000000e+00, 1.0000000e+00, 1.0000000e+00,\n",
       "        1.0000000e+00, 1.0000000e+00, 1.0000000e+00, 1.0000000e+00,\n",
       "        1.0000000e+00, 1.0000000e+00],\n",
       "       [4.1500000e+02, 5.9000000e+01, 5.0000000e+01, 5.1000000e+01,\n",
       "        1.1590000e+03, 8.4113100e+03, 1.0000000e-02, 1.0353000e+02,\n",
       "        8.1240000e+01, 8.7084858e+05, 2.8000000e+00, 4.8380480e+04,\n",
       "        3.5900000e+02, 3.5000000e+01, 9.0000000e+00, 1.0000000e+01,\n",
       "        4.7000000e+01, 1.0600000e+02, 6.9200000e+02, 4.6700000e+02,\n",
       "        1.0600000e+02, 1.0000000e+00]])"
      ]
     },
     "execution_count": 7,
     "metadata": {},
     "output_type": "execute_result"
    }
   ],
   "source": [
    "data = np.genfromtxt('../data/kc2.csv', delimiter=',')\n",
    "print('Shape:', data.shape)\n",
    "data[:3, :]\n"
   ]
  },
  {
   "cell_type": "code",
   "execution_count": 8,
   "metadata": {},
   "outputs": [
    {
     "name": "stdout",
     "output_type": "stream",
     "text": [
      "X_train shape: (417, 21)\n",
      "y_train shape: (417, 1)\n",
      "X_test shape: (105, 21)\n",
      "y_test shape: (105, 1)\n"
     ]
    }
   ],
   "source": [
    "X_train, X_test, y_train, y_test = train_test_split(\n",
    "    data, 0.8, random_seed=12354)\n",
    "\n",
    "print('X_train shape:', X_train.shape)\n",
    "print('y_train shape:', y_train.shape)\n",
    "print('X_test shape:', X_test.shape)\n",
    "print('y_test shape:', y_test.shape)\n"
   ]
  },
  {
   "cell_type": "code",
   "execution_count": 9,
   "metadata": {},
   "outputs": [
    {
     "data": {
      "text/plain": [
       "array([0.00000000e+00, 1.85715446e+02, 1.31874903e+01, 1.48942070e+04,\n",
       "       6.96351936e+03, 4.28472815e+02, 4.56378094e+02, 1.31874903e+01,\n",
       "       1.70764357e+04, 1.27353938e+02, 7.12161793e+01, 2.86089874e+04,\n",
       "       5.35803375e+03, 1.31874903e+01, 1.31874903e+01, 1.27353938e+02,\n",
       "       3.63290984e+03, 6.77588948e+03, 1.73044625e+04, 1.51600078e+02,\n",
       "       1.30368507e+04, 6.00587676e+03, 4.00105463e+02, 1.99806106e+01,\n",
       "       2.01550192e+01, 7.51968257e+01, 1.03875642e+02, 2.01053426e+01,\n",
       "       1.31874903e+01, 1.03875642e+02, 1.32631030e+01, 1.31874903e+01,\n",
       "       4.29784642e+03, 1.03875642e+02, 3.27543246e+03, 1.47479413e+04,\n",
       "       8.82329683e+03, 1.54307862e+04, 1.61407005e+03, 2.41271521e+03,\n",
       "       4.48900098e+03, 2.26786981e+04, 2.72245320e+05, 4.89843990e+03,\n",
       "       8.54252176e+03, 6.71799098e+03, 2.49466110e+01, 1.44569853e+04,\n",
       "       2.99435634e+04, 9.57546737e+03, 5.47437402e+04, 4.10592401e+01,\n",
       "       1.11739176e+02, 5.54756354e+02, 1.60202824e+03, 4.72365935e+04,\n",
       "       1.27353938e+02, 1.31874903e+01, 3.12418020e+04, 5.21114959e+01,\n",
       "       1.21374059e+02, 3.37792643e+01, 3.49310648e+04, 1.77842995e+04,\n",
       "       3.32265251e+03, 2.61458701e+04, 8.30499432e+02, 2.68519091e+03,\n",
       "       9.18027211e+01, 2.04947762e+04, 1.31874903e+01, 5.70758578e+03,\n",
       "       8.26826921e+03, 1.99555707e+01, 5.50032726e+00, 1.56699429e+04,\n",
       "       4.32711902e+01, 4.56373711e+02, 1.56839199e+05, 7.93210029e+03,\n",
       "       5.01228950e+01, 5.34339662e+04, 3.41121395e+03, 1.31874903e+01,\n",
       "       1.31874903e+01, 4.09006259e+01, 1.31874903e+01, 3.15086056e+03,\n",
       "       2.00870586e+04, 2.49466110e+01, 2.39355600e+03, 2.29817693e+03,\n",
       "       1.31874903e+01, 1.20064988e+04, 4.39230997e+04, 9.05815845e+02,\n",
       "       1.99555707e+01, 1.31874903e+01, 5.50032726e+00, 1.31874903e+01,\n",
       "       7.36498143e+02, 4.90033288e+02, 7.51968257e+01, 9.75979508e+00,\n",
       "       2.16153978e+04, 1.35715374e+03, 9.22993283e+04, 5.21306819e+01,\n",
       "       5.08153921e+03, 1.31874903e+01, 5.16795102e+04, 7.76675415e+01,\n",
       "       5.17114292e+02, 7.58456117e+03, 8.64510464e+02, 4.63731263e+04,\n",
       "       1.31874903e+01, 1.31874903e+01, 2.25381216e+03, 1.99806106e+01,\n",
       "       1.39348799e+05, 1.31874903e+01, 1.99120546e+03, 7.48550772e+03,\n",
       "       1.95627853e+03, 5.50032726e+00, 9.02541167e+05, 7.55959228e+03,\n",
       "       1.33229270e+03, 9.51916099e+01, 8.38449281e+02, 3.92621010e+02,\n",
       "       2.89279080e+03, 4.99330011e+01, 1.16819410e+04, 4.30397355e+04,\n",
       "       8.72232348e+05, 1.31874903e+01, 1.31874903e+01, 2.49466110e+01,\n",
       "       5.57253587e+03, 3.35079108e+03, 4.77498486e+02, 1.31310972e+04,\n",
       "       8.07551034e+04, 2.15320131e+06, 1.99555707e+01, 1.70234106e+02,\n",
       "       1.17248228e+05, 1.34873978e+01, 1.99555707e+01, 1.31874903e+01,\n",
       "       3.11835293e+04, 3.70728661e+02, 1.30287466e+02, 1.99555707e+01,\n",
       "       5.50032726e+00, 1.31874903e+01, 2.00056192e+01, 1.27353938e+02,\n",
       "       6.61970706e+04, 1.84710868e+03, 4.95196564e+03, 1.31874903e+01,\n",
       "       2.08484039e+04, 4.34933626e+03, 3.79022246e+02, 1.34873978e+01,\n",
       "       3.93889808e+03, 4.27036458e+04, 8.14193831e+03, 1.31874903e+01,\n",
       "       1.51816213e+03, 1.31874903e+01, 6.21831533e+02, 1.31874903e+01,\n",
       "       5.78412265e+03, 1.99555707e+01, 3.65560666e+03, 1.34873978e+01,\n",
       "       1.03821840e+03, 1.99555707e+01, 1.31874903e+01, 3.35094296e+04,\n",
       "       1.41928426e+02, 3.31748845e+03, 3.61609573e+02, 3.28871396e+03,\n",
       "       2.70393651e+04, 4.09006259e+01, 9.18722003e+02, 6.55048854e+03,\n",
       "       1.31874903e+01, 4.65826148e+01, 1.16220746e+02, 6.61372790e+04,\n",
       "       2.88573729e+04, 2.23489149e+03, 1.21980876e+04, 7.12161793e+01,\n",
       "       3.37792643e+01, 1.31874903e+01, 1.03875642e+02, 1.30616117e+01,\n",
       "       1.89459568e+04, 3.61839338e+03, 2.81949439e+03, 3.92647753e+02,\n",
       "       1.45510945e+02, 2.92084074e+03, 1.99555707e+01, 2.96916854e+03,\n",
       "       2.49866644e+01, 1.08098349e+03, 1.99555707e+01, 3.16834423e+03,\n",
       "       9.81555753e+04, 1.27353938e+02, 2.35608148e+04, 1.51489497e+04,\n",
       "       1.31874903e+01, 1.26549290e+02, 1.32819727e+03, 5.50032726e+00,\n",
       "       1.31874903e+01, 2.17331995e+04, 1.26313968e+04, 5.76391803e+01,\n",
       "       3.60425860e+04, 2.17149373e+04, 2.73660470e+02, 4.46179393e+04,\n",
       "       1.31874903e+01, 2.04771565e+03, 8.21150544e+02, 1.31874903e+01,\n",
       "       1.56541662e+02, 1.31874903e+01, 4.29616653e+03, 1.03875642e+02,\n",
       "       5.67421400e+04, 1.99555707e+01, 1.03875642e+02, 4.10348778e+01,\n",
       "       1.99555707e+01, 5.50032726e+00, 1.48921028e+05, 1.31874903e+01,\n",
       "       1.58280824e+03, 1.27353938e+02, 1.04746864e+02, 8.83427382e+01,\n",
       "       1.75001773e+04, 1.78422935e+05, 4.09006259e+01, 7.94061131e+01,\n",
       "       7.00732911e+02, 1.81520249e+03, 1.13428947e+03, 8.68862023e+03,\n",
       "       1.70495311e+02, 4.06479692e+03, 9.57547186e+03, 2.14481743e+04,\n",
       "       9.86481648e+02, 1.69634260e+02, 3.80072181e+02, 9.74046123e+01,\n",
       "       5.50032726e+00, 5.50032726e+00, 5.82474034e+00, 1.45202500e+04,\n",
       "       1.99555707e+01, 1.67440358e+03, 1.31874903e+01, 1.13988855e+05,\n",
       "       1.31874903e+01, 2.59480537e+04, 8.07763878e+02, 5.58242688e+03,\n",
       "       1.99555707e+01, 2.30590588e+04, 4.64966665e+01, 1.03875642e+02,\n",
       "       8.77676263e+04, 3.28665745e+03, 1.27347371e+04, 1.53929415e+04,\n",
       "       2.65180144e+03, 3.79368789e+04, 1.41925581e+03, 1.99555707e+01,\n",
       "       2.61002299e+01, 1.34873978e+01, 2.34246415e+03, 4.82261727e+04,\n",
       "       1.32151539e+03, 1.27246060e+04, 1.34873978e+01, 8.34823484e+04,\n",
       "       3.67803205e+03, 5.37016060e+03, 3.12944074e+04, 4.32711902e+01,\n",
       "       1.31874903e+01, 3.64516365e+03, 1.31874903e+01, 3.83215508e+04,\n",
       "       1.31874903e+01, 1.96016333e+04, 4.75562455e+02, 5.18076819e+01,\n",
       "       1.25868502e+03, 1.34873978e+01, 3.85305125e+03, 3.47502382e+04,\n",
       "       1.03875642e+02, 1.31874903e+01, 1.31874903e+01, 1.38063856e+03,\n",
       "       1.99555707e+01, 5.17114292e+02, 6.21794440e+02, 6.68003174e+04,\n",
       "       6.59444176e+03, 1.31874903e+01, 2.64827185e+03, 5.50032726e+00,\n",
       "       2.01550192e+01, 5.50032726e+00, 1.03875642e+02, 7.51901762e+01,\n",
       "       1.31874903e+01, 8.80164130e+03, 1.74075284e+02, 1.22867609e+02,\n",
       "       1.25541109e+01, 2.78236294e+02, 1.31874903e+01, 2.64297611e+04,\n",
       "       1.99555707e+01, 4.56373711e+02, 1.03391289e+04, 1.50040989e+02,\n",
       "       1.64855634e+01, 7.00732911e+02, 5.91416644e+02, 1.31874903e+01,\n",
       "       1.97082866e+04, 1.37752136e+02, 2.18231987e+01, 5.02970252e+03,\n",
       "       3.06182310e+03, 3.56792672e+03, 6.74481962e+04, 5.09829524e+02,\n",
       "       6.10483949e+03, 1.31874903e+01, 1.31874903e+01, 2.67160364e+01,\n",
       "       1.75761019e+02, 1.28077269e+04, 1.31874903e+01, 1.87299214e+03,\n",
       "       2.19160673e+04, 1.31874903e+01, 2.49466110e+01, 8.37677892e+02,\n",
       "       2.00056192e+01, 1.18789562e+03, 1.99555707e+01, 1.31874903e+01,\n",
       "       3.64948826e+02, 9.74293723e+02, 1.58045661e+04, 2.71071386e+04,\n",
       "       2.25941235e+03, 3.61609573e+02, 1.91616655e+04, 2.01550192e+01,\n",
       "       5.50032726e+00, 3.89562638e+03, 1.31874903e+01, 6.60898843e+03,\n",
       "       5.20899222e+00, 8.21127973e+04, 8.17651545e+03, 2.06955599e+01,\n",
       "       1.31874903e+01, 1.03093041e+04, 1.35511641e+03, 2.32867007e+02,\n",
       "       1.81521791e+03, 7.12531367e+03, 2.00056192e+01, 2.21718894e+03,\n",
       "       8.01573453e+00, 1.25541109e+01, 5.40865972e+00, 1.95456327e+04,\n",
       "       7.53405237e+03, 4.56373711e+02, 2.20727321e+03, 2.01053426e+01,\n",
       "       7.92861789e+04, 1.30991657e+03, 3.34604558e+03, 3.19528465e+04,\n",
       "       3.11561870e+04, 1.77870634e+04, 5.22434878e+05, 8.67776233e+01,\n",
       "       5.38791902e+03, 2.67160364e+01, 8.06142830e+03, 8.24224549e+03,\n",
       "       1.99555707e+01])"
      ]
     },
     "execution_count": 9,
     "metadata": {},
     "output_type": "execute_result"
    }
   ],
   "source": [
    "X1 = X_train[[0], :]\n",
    "X2 = X_train\n",
    "\n",
    "\n",
    "def euclidian_distance(i, j):\n",
    "    return np.sqrt(np.sum((i - j)**2, axis=1))\n",
    "\n",
    "\n",
    "distances = euclidian_distance(X1, X2)\n",
    "\n",
    "distances\n"
   ]
  },
  {
   "cell_type": "code",
   "execution_count": 41,
   "metadata": {},
   "outputs": [
    {
     "data": {
      "text/plain": [
       "array([[0.],\n",
       "       [0.],\n",
       "       [0.],\n",
       "       [0.],\n",
       "       [1.],\n",
       "       [0.],\n",
       "       [0.],\n",
       "       [0.],\n",
       "       [0.],\n",
       "       [0.]])"
      ]
     },
     "execution_count": 41,
     "metadata": {},
     "output_type": "execute_result"
    }
   ],
   "source": [
    "class MyKNN():\n",
    "    def __init__(self, k_neighbours):\n",
    "        self.fitted = False\n",
    "        self.K = k_neighbours\n",
    "\n",
    "    def euclidian_distance(self, i, j):\n",
    "        distances = np.sqrt(np.sum((i - j)**2, axis=1))\n",
    "        return distances.reshape(-1, 1)\n",
    "\n",
    "    def fit(self, X, y):\n",
    "        self.X = X\n",
    "        self.y = y\n",
    "\n",
    "    def get_more_frequently(self, arr):\n",
    "        unique, counts = np.unique(arr, return_counts=True)\n",
    "        return unique[np.argmax(counts)]\n",
    "\n",
    "    def predict(self, X, distance='euclidian'):\n",
    "        preds = []\n",
    "        for i in range(len(X)):\n",
    "            if distance == 'euclidian':\n",
    "                distances = self.euclidian_distance(X[[i], :], self.X)\n",
    "\n",
    "            knn = np.hstack([distances, self.y])\n",
    "            knn = knn[knn[:, 0].argsort()]\n",
    "\n",
    "            preds.append(self.get_more_frequently(knn[:self.K, 1]))\n",
    "\n",
    "        return np.array(preds).reshape(-1, 1)\n",
    "\n",
    "\n",
    "my_knn = MyKNN(3)\n",
    "my_knn.fit(X_train, y_train)\n",
    "my_knn.predict(X_train[0:10, :])\n"
   ]
  },
  {
   "cell_type": "code",
   "execution_count": 42,
   "metadata": {},
   "outputs": [
    {
     "name": "stderr",
     "output_type": "stream",
     "text": [
      "C:\\Users\\edyalenquer\\.conda\\envs\\ml-project\\lib\\site-packages\\sklearn\\neighbors\\_classification.py:198: DataConversionWarning: A column-vector y was passed when a 1d array was expected. Please change the shape of y to (n_samples,), for example using ravel().\n",
      "  return self._fit(X, y)\n"
     ]
    },
    {
     "data": {
      "text/plain": [
       "array([0., 0., 0., 0., 1., 0., 0., 0., 0., 0.])"
      ]
     },
     "execution_count": 42,
     "metadata": {},
     "output_type": "execute_result"
    }
   ],
   "source": [
    "from sklearn.neighbors import KNeighborsClassifier\n",
    "\n",
    "sk_knn = KNeighborsClassifier(3)\n",
    "sk_knn.fit(X_train, y_train)\n",
    "sk_knn.predict(X_train[0:10, :])\n"
   ]
  },
  {
   "cell_type": "code",
   "execution_count": null,
   "metadata": {},
   "outputs": [],
   "source": []
  }
 ],
 "metadata": {
  "interpreter": {
   "hash": "7d84fc3ab72c8387ddb373470e784917d8b759f8763a65d23fac12a2e8075760"
  },
  "kernelspec": {
   "display_name": "Python 3.8.12 ('ml-project')",
   "language": "python",
   "name": "python3"
  },
  "language_info": {
   "codemirror_mode": {
    "name": "ipython",
    "version": 3
   },
   "file_extension": ".py",
   "mimetype": "text/x-python",
   "name": "python",
   "nbconvert_exporter": "python",
   "pygments_lexer": "ipython3",
   "version": "3.8.12"
  },
  "orig_nbformat": 4
 },
 "nbformat": 4,
 "nbformat_minor": 2
}
