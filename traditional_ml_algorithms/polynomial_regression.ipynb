{
 "cells": [
  {
   "attachments": {},
   "cell_type": "markdown",
   "metadata": {},
   "source": [
    "# Polynomial Regression Implementation"
   ]
  },
  {
   "cell_type": "markdown",
   "metadata": {},
   "source": [
    "# Imports"
   ]
  },
  {
   "cell_type": "code",
   "execution_count": 1,
   "metadata": {},
   "outputs": [],
   "source": [
    "import numpy as np\n",
    "import matplotlib.pyplot as plt\n",
    "\n",
    "import scipy\n",
    "from scipy import linalg # QR DECOMPOSITION"
   ]
  },
  {
   "cell_type": "markdown",
   "metadata": {},
   "source": [
    "# Utility Functions"
   ]
  },
  {
   "cell_type": "markdown",
   "metadata": {},
   "source": [
    "## Metrics"
   ]
  },
  {
   "cell_type": "code",
   "execution_count": 2,
   "metadata": {},
   "outputs": [],
   "source": [
    "def get_mse(y_real, y_pred):\n",
    "    return np.mean((y_real - y_pred) ** 2)\n",
    "\n",
    "def get_rmse(y_real, y_pred):\n",
    "    return np.sqrt(get_mse(y_real, y_pred))"
   ]
  },
  {
   "cell_type": "markdown",
   "metadata": {},
   "source": [
    "## Standardization"
   ]
  },
  {
   "cell_type": "code",
   "execution_count": 3,
   "metadata": {},
   "outputs": [],
   "source": [
    "class StandardScaler:\n",
    "    def __init__(self):\n",
    "        self.fitted = False\n",
    "\n",
    "    def fit_transform(self, data):      \n",
    "        self.mean = data.mean(axis=0)\n",
    "        self.std = data.std(axis=0)\n",
    "        self.fitted = True\n",
    "\n",
    "        scaled_data = (data - self.mean) / self.std\n",
    "        return scaled_data\n",
    "    \n",
    "    def transform(self, data):\n",
    "        if not self.fitted:\n",
    "            raise Exception('Scaler not fitted!')\n",
    "\n",
    "        scaled_data = (data - self.mean) / self.std\n",
    "        return scaled_data\n",
    "\n",
    "    def inverse_transform(self, scaled_data):\n",
    "        if not self.fitted:\n",
    "            raise Exception('Scaler not fitted!')\n",
    "        \n",
    "        original_data = (scaled_data * self.std) + self.mean\n",
    "        return original_data\n"
   ]
  },
  {
   "cell_type": "markdown",
   "metadata": {},
   "source": [
    "## Min-max feature scaling"
   ]
  },
  {
   "cell_type": "code",
   "execution_count": 4,
   "metadata": {},
   "outputs": [],
   "source": [
    "class MinMaxScaler:\n",
    "    def __init__(self):\n",
    "        self.fitted = False\n",
    "\n",
    "    def fit_transform(self, data):      \n",
    "        self.maximum = data.max(axis=0)\n",
    "        self.minimum = data.min(axis=0)\n",
    "        self.fitted = True\n",
    "\n",
    "        scaled_data =  (data - self.minimum) / (self.maximum - self.minimum)\n",
    "        return scaled_data\n",
    "    \n",
    "    def transform(self, data):\n",
    "        if not self.fitted:\n",
    "            raise Exception('Scaler not fitted!')\n",
    "\n",
    "        scaled_data =  (data - self.minimum) / (self.maximum - self.minimum)\n",
    "        return scaled_data\n",
    "\n",
    "    def inverse_transform(self, scaled_data):\n",
    "        if not self.fitted:\n",
    "            raise Exception('Scaler not fitted!')\n",
    "        \n",
    "        original_data = (self.maximum - self.minimum) * scaled_data + self.minimum\n",
    "        return original_data"
   ]
  },
  {
   "attachments": {},
   "cell_type": "markdown",
   "metadata": {},
   "source": [
    "# Polynomial Regression\n",
    "Consider the dataset available in california.csv, organized into 9 columns, the 8 first being the independent variables (features) and the last column the dependent variable (target).\n",
    "The dependent variables are used to predict the median of house prices in California districts in the 1990s.\n",
    "\n",
    "- a) Randomly split the dataset in training (80%) and test (20%) \n",
    "- b) Train 11 polynomial regression models, with degrees from 1 to 11. You can you OLS algorithm to do this task.\n",
    "- c) Report the RMSE of train and test for each model. Plot one chart to train and one chart to test.\n",
    "- d) Repeat the previous 2 itens including the regularization term L2 (eg with factor λ = 0.001)"
   ]
  },
  {
   "cell_type": "code",
   "execution_count": 21,
   "metadata": {},
   "outputs": [],
   "source": [
    "class MyPolynomialRegression:\n",
    "    def __init__(self, polynomial_degree):\n",
    "        self.polynomial_degree = polynomial_degree\n",
    "        self.fitted = False\n",
    "\n",
    "\n",
    "    def insert_polynomial_features(self, X):\n",
    "        intercept = X[:, [0]]\n",
    "        features = X[:, 1:]\n",
    "\n",
    "        X_poly = features\n",
    "        if self.polynomial_degree > 1:\n",
    "            for i in range(2, self.polynomial_degree+1):\n",
    "                X_poly = np.hstack([X_poly, features**i])\n",
    "        \n",
    "        X_poly = np.hstack([intercept, X_poly])\n",
    "\n",
    "        return X_poly\n",
    "\n",
    "\n",
    "    # Fit with OLS\n",
    "    def fit_ols(self, X, y, reg_lambda=0):\n",
    "        if not all(X[:, 0] == 1):\n",
    "            raise Exception('The first column must be the intercept column (X[0])')\n",
    "\n",
    "        X = self.insert_polynomial_features(X)\n",
    "\n",
    "        self.X_scaler = StandardScaler()\n",
    "        X = np.hstack([X[:, [0]], self.X_scaler.fit_transform(X[:, 1:])])\n",
    "        self.y_scaler = StandardScaler()\n",
    "        y = self.y_scaler.fit_transform(y)\n",
    "\n",
    "        matrix_to_mitigate_numerical_problems = (10 ** -8) * np.eye(X.shape[1], X.shape[1])\n",
    "        reg_matrix = np.eye(X.shape[1], X.shape[1]) * reg_lambda\n",
    "        reg_matrix[0, 0] = 0\n",
    "\n",
    "        w_hat = (np.linalg.pinv(X.T @ X + reg_matrix + matrix_to_mitigate_numerical_problems) @ X.T) @ y\n",
    "        self.w = w_hat.reshape(-1, 1)\n",
    "        self.fitted = True\n",
    "\n",
    "\n",
    "    def predict(self, X):\n",
    "        if self.fitted:\n",
    "            if not all(X[:, 0] == 1):\n",
    "                raise Exception('The first column must be the intercept column (X[0])')\n",
    "            \n",
    "            X = self.insert_polynomial_features(X)\n",
    "            X = np.hstack([X[:, [0]], self.X_scaler.transform(X[:, 1:])])\n",
    "\n",
    "            y_pred = (X @ self.w).reshape(-1, 1)\n",
    "            y_pred = self.y_scaler.inverse_transform(y_pred)\n",
    "\n",
    "            return y_pred\n",
    "        else:\n",
    "            raise Exception('Model not fitted!')\n"
   ]
  },
  {
   "cell_type": "code",
   "execution_count": 22,
   "metadata": {},
   "outputs": [
    {
     "name": "stdout",
     "output_type": "stream",
     "text": [
      "Visualizing data\n"
     ]
    },
    {
     "data": {
      "text/plain": [
       "array([[   4.1685    ,   20.        ,    6.70063694,    1.17834395,\n",
       "         745.        ,    2.37261146,   38.8       , -121.15      ,\n",
       "           2.175     ],\n",
       "       [   2.8194    ,   24.        ,    4.7625    ,    1.02083333,\n",
       "         608.        ,    2.53333333,   36.75      , -119.85      ,\n",
       "           0.811     ]])"
      ]
     },
     "execution_count": 22,
     "metadata": {},
     "output_type": "execute_result"
    }
   ],
   "source": [
    "california_data = np.genfromtxt('../data/california.csv', delimiter=',')\n",
    "\n",
    "print('Visualizing data')\n",
    "california_data[:2,:]"
   ]
  },
  {
   "cell_type": "code",
   "execution_count": 23,
   "metadata": {},
   "outputs": [
    {
     "name": "stdout",
     "output_type": "stream",
     "text": [
      "X_train shape: (4000, 8)\n",
      "y_train shape: (4000, 1)\n",
      "X_test shape: (1000, 8)\n",
      "y_test shape: (1000, 1)\n"
     ]
    }
   ],
   "source": [
    "def train_test_split(data, train_size_perc, random_seed=264852):\n",
    "    N = data.shape[0]\n",
    "    train_size = int(train_size_perc * N)\n",
    "\n",
    "    indexes = np.arange(0, N, 1)\n",
    "\n",
    "    np.random.seed(random_seed)\n",
    "    train_idx = np.random.choice(indexes, train_size, replace=False)\n",
    "    test_idx = np.delete(indexes, train_idx)\n",
    "\n",
    "    train_data = data[train_idx]\n",
    "    test_data = data[test_idx]\n",
    "\n",
    "    X_train = train_data[:,:-1]\n",
    "    y_train = train_data[:,[-1]]\n",
    "\n",
    "    X_test = test_data[:,:-1]\n",
    "    y_test = test_data[:,[-1]]\n",
    "\n",
    "    return X_train, X_test, y_train, y_test\n",
    "\n",
    "\n",
    "X_train, X_test, y_train, y_test = train_test_split(california_data, 0.8)\n",
    "print('X_train shape:', X_train.shape)\n",
    "print('y_train shape:', y_train.shape)\n",
    "print('X_test shape:', X_test.shape)\n",
    "print('y_test shape:', y_test.shape)"
   ]
  },
  {
   "cell_type": "markdown",
   "metadata": {},
   "source": [
    "## Without Regularization"
   ]
  },
  {
   "cell_type": "code",
   "execution_count": 24,
   "metadata": {},
   "outputs": [],
   "source": [
    "rmse_train_list = []\n",
    "rmse_test_list = []\n",
    "\n",
    "for i in range(11):\n",
    "    my_poly_reg = MyPolynomialRegression(polynomial_degree=i+1)\n",
    "\n",
    "    # Training model\n",
    "    X_train_temp = np.hstack([np.ones((len(X_train),1)), X_train])\n",
    "    my_poly_reg.fit_ols(X_train_temp, y_train, reg_lambda=0)\n",
    "\n",
    "    # Predicting y_train\n",
    "    y_train_pred = my_poly_reg.predict(X_train_temp)\n",
    "    rmse_train_list.append(get_rmse(y_train, y_train_pred))\n",
    "\n",
    "    # Predicting y_test\n",
    "    X_test_temp = np.hstack([np.ones((len(X_test),1)), X_test])\n",
    "    y_test_pred = my_poly_reg.predict(X_test_temp)\n",
    "    rmse_test_list.append(get_rmse(y_test, y_test_pred))\n",
    "\n",
    "rmse_train_list = np.array(rmse_train_list)\n",
    "rmse_test_list = np.array(rmse_test_list)"
   ]
  },
  {
   "cell_type": "code",
   "execution_count": 25,
   "metadata": {},
   "outputs": [
    {
     "name": "stdout",
     "output_type": "stream",
     "text": [
      "Polynomial Regression\n",
      "----------------------------------\n",
      "Degree\tRMSE(Training)\tRMSE(Test)\n",
      "----------------------------------\n",
      "1       0.72322157      0.720783        \n",
      "2       0.66942386      0.669167        \n",
      "3       0.63777556      0.783326        \n",
      "4       0.63049649      1.496323        \n",
      "5       0.62816813      1.116712        \n",
      "6       0.62620750      1.514245        \n",
      "7       0.62128935      113.901037      \n",
      "8       0.62020693      732.427300      \n",
      "9       0.62019547      839.689869      \n",
      "10      0.62005297      159.077822      \n",
      "11      0.61955820      2661.916207     \n"
     ]
    }
   ],
   "source": [
    "print('Polynomial Regression')\n",
    "print('----------------------------------')\n",
    "print('Degree\\tRMSE(Training)\\tRMSE(Test)')\n",
    "print('----------------------------------')\n",
    "for i, row in enumerate(zip(rmse_train_list, rmse_test_list)):\n",
    "    print('{0:<8}{1:<16.8f}{2:<16.6f}'.format(i+1, row[0], row[1]))"
   ]
  },
  {
   "cell_type": "code",
   "execution_count": 29,
   "metadata": {},
   "outputs": [
    {
     "data": {
      "image/png": "[encoded data removed]",
      "text/plain": [
       "<Figure size 1008x432 with 1 Axes>"
      ]
     },
     "metadata": {
      "needs_background": "light"
     },
     "output_type": "display_data"
    },
    {
     "data": {
      "image/png": "[encoded data removed]",
      "text/plain": [
       "<Figure size 1008x432 with 1 Axes>"
      ]
     },
     "metadata": {
      "needs_background": "light"
     },
     "output_type": "display_data"
    }
   ],
   "source": [
    "plt.figure(figsize=(14,6))\n",
    "plt.title('Training Set - RMSE by Polynomial Degree')\n",
    "plt.plot(range(1,12), rmse_train_list, label='Training Set')\n",
    "plt.figure(figsize=(14,6))\n",
    "plt.title('Test Set - RMSE by Polynomial Degree')\n",
    "plt.plot(range(1,12), rmse_test_list, label='Test Set')\n",
    "plt.legend()\n",
    "plt.show()"
   ]
  },
  {
   "cell_type": "markdown",
   "metadata": {},
   "source": [
    "## With Regularization (lambda=0.001)"
   ]
  },
  {
   "cell_type": "code",
   "execution_count": 30,
   "metadata": {},
   "outputs": [],
   "source": [
    "rmse_train_list = []\n",
    "rmse_test_list = []\n",
    "\n",
    "for i in range(11):\n",
    "    my_poly_reg = MyPolynomialRegression(polynomial_degree=i+1)\n",
    "\n",
    "    # Training model\n",
    "    X_train_temp = np.hstack([np.ones((len(X_train),1)), X_train])\n",
    "    my_poly_reg.fit_ols(X_train_temp, y_train, reg_lambda=0.001)\n",
    "\n",
    "    # Predicting y_train\n",
    "    y_train_pred = my_poly_reg.predict(X_train_temp)\n",
    "    rmse_train_list.append(get_rmse(y_train, y_train_pred))\n",
    "\n",
    "    # Predicting y_test\n",
    "    X_test_temp = np.hstack([np.ones((len(X_test),1)), X_test])\n",
    "    y_test_pred = my_poly_reg.predict(X_test_temp)\n",
    "    rmse_test_list.append(get_rmse(y_test, y_test_pred))\n",
    "\n",
    "rmse_train_list = np.array(rmse_train_list)\n",
    "rmse_test_list = np.array(rmse_test_list)"
   ]
  },
  {
   "cell_type": "code",
   "execution_count": 31,
   "metadata": {},
   "outputs": [
    {
     "name": "stdout",
     "output_type": "stream",
     "text": [
      "Polynomial Regression with L2 Regularization (lambda=0.001)\n",
      "----------------------------------\n",
      "Degree\tRMSE(Training)\tRMSE(Test)\n",
      "----------------------------------\n",
      "1       0.72322157      0.720783        \n",
      "2       0.66942424      0.669181        \n",
      "3       0.65069351      0.768951        \n",
      "4       0.64674961      1.418320        \n",
      "5       0.64495673      0.837795        \n",
      "6       0.64441665      1.124933        \n",
      "7       0.64404116      8.969059        \n",
      "8       0.64318765      31.159555       \n",
      "9       0.64206431      72.894065       \n",
      "10      0.64124400      129.035566      \n",
      "11      0.64088871      168.668157      \n"
     ]
    }
   ],
   "source": [
    "print('Polynomial Regression with L2 Regularization (lambda=0.001)')\n",
    "print('----------------------------------')\n",
    "print('Degree\\tRMSE(Training)\\tRMSE(Test)')\n",
    "print('----------------------------------')\n",
    "for i, row in enumerate(zip(rmse_train_list, rmse_test_list)):\n",
    "    print('{0:<8}{1:<16.8f}{2:<16.6f}'.format(i+1, row[0], row[1]))"
   ]
  },
  {
   "cell_type": "code",
   "execution_count": 33,
   "metadata": {},
   "outputs": [
    {
     "data": {
      "image/png": "[encoded data removed]",
      "text/plain": [
       "<Figure size 1008x432 with 1 Axes>"
      ]
     },
     "metadata": {
      "needs_background": "light"
     },
     "output_type": "display_data"
    },
    {
     "data": {
      "image/png": "[encoded data removed]",
      "text/plain": [
       "<Figure size 1008x432 with 1 Axes>"
      ]
     },
     "metadata": {
      "needs_background": "light"
     },
     "output_type": "display_data"
    }
   ],
   "source": [
    "plt.figure(figsize=(14,6))\n",
    "plt.title('Training Set - RMSE by Polynomial Degree With Regularization (lambda=0.001)')\n",
    "plt.plot(range(1,12), rmse_train_list, label='Training Set')\n",
    "plt.figure(figsize=(14,6))\n",
    "plt.title('Test Set - RMSE by Polynomial Degree (With Regularization)')\n",
    "plt.plot(range(1,12), rmse_test_list, label='Test Set')\n",
    "plt.legend()\n",
    "plt.show()"
   ]
  }
 ],
 "metadata": {
  "interpreter": {
   "hash": "7d84fc3ab72c8387ddb373470e784917d8b759f8763a65d23fac12a2e8075760"
  },
  "kernelspec": {
   "display_name": "Python 3.8.12 ('ml-project')",
   "language": "python",
   "name": "python3"
  },
  "language_info": {
   "codemirror_mode": {
    "name": "ipython",
    "version": 3
   },
   "file_extension": ".py",
   "mimetype": "text/x-python",
   "name": "python",
   "nbconvert_exporter": "python",
   "pygments_lexer": "ipython3",
   "version": "3.8.17"
  },
  "orig_nbformat": 4
 },
 "nbformat": 4,
 "nbformat_minor": 2
}
