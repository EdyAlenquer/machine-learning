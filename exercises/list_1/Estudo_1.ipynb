{
 "cells": [
  {
   "cell_type": "code",
   "execution_count": 1,
   "metadata": {},
   "outputs": [],
   "source": [
    "import numpy as np"
   ]
  },
  {
   "cell_type": "code",
   "execution_count": 12,
   "metadata": {},
   "outputs": [],
   "source": [
    "X = np.array([[1,2],[3,4], [5,6]])\n",
    "y = np.array([[10,20,30]]).reshape(-1, 1)"
   ]
  },
  {
   "cell_type": "code",
   "execution_count": 15,
   "metadata": {},
   "outputs": [
    {
     "data": {
      "text/plain": [
       "array([[220],\n",
       "       [280]])"
      ]
     },
     "execution_count": 15,
     "metadata": {},
     "output_type": "execute_result"
    }
   ],
   "source": [
    "X.T @ y"
   ]
  },
  {
   "cell_type": "code",
   "execution_count": 5,
   "metadata": {},
   "outputs": [],
   "source": [
    "# import superimport\n",
    "\n",
    "import numpy as np\n",
    "import scipy\n",
    "from scipy import linalg\n",
    "from itertools import combinations"
   ]
  },
  {
   "cell_type": "code",
   "execution_count": 17,
   "metadata": {},
   "outputs": [
    {
     "name": "stdout",
     "output_type": "stream",
     "text": [
      "Solving linear system with 10000 constraints and 200 unknowns\n",
      "method naive, norm 0.16326, residual 28.56347\n",
      "method pinv, norm 0.16326, residual 28.56347\n",
      "method lstsq, norm 0.16326, residual 28.56347\n",
      "method qr, norm 0.16326, residual 28.56347\n"
     ]
    }
   ],
   "source": [
    "def naive_solve(A, b):\n",
    "    return np.linalg.inv(A.T @ A) @ A.T @ b\n",
    "\n",
    "def qr_solve(A, b):\n",
    "    m, n = np.shape(A)\n",
    "    if m > n:\n",
    "        return qr_solve_over(A, b)\n",
    "    else:\n",
    "        return qr_solve_under(A, b)\n",
    "    \n",
    "def qr_solve_over(A, b):\n",
    "    Q, R = np.linalg.qr(A) \n",
    "    Qb = np.dot(Q.T,b) \n",
    "    return scipy.linalg.solve_triangular(R, Qb)\n",
    "\n",
    "def qr_solve_under(A, b):\n",
    "    Q, R = np.linalg.qr(A.T) \n",
    "    c = scipy.linalg.solve_triangular(R, b)\n",
    "    m, n = A.shape\n",
    "    x = np.zeros(n)\n",
    "    xx = np.dot(Q, c)\n",
    "    xx = xx[:,0]\n",
    "    K = xx.shape[0]\n",
    "    x[:K] = xx # other components are zero\n",
    "    return x\n",
    "\n",
    "\n",
    "\n",
    "def run_demo(m, n):\n",
    "    print('Solving linear system with {} constraints and {} unknowns'.format(m, n))\n",
    "    np.random.seed(0)\n",
    "    A = np.random.rand(m,n)\n",
    "    b = np.random.rand(m,1) \n",
    "\n",
    "    california_data = np.genfromtxt('./california.csv', delimiter=',')\n",
    "    california_data = california_data[:, [0, -1]]\n",
    "    california_data\n",
    "    \n",
    "    methods = list()\n",
    "    solns = list()\n",
    "    \n",
    "    methods.append('naive')\n",
    "    solns.append(naive_solve(A, b))\n",
    "    \n",
    "    methods.append('pinv')\n",
    "    solns.append(np.dot(np.linalg.pinv(A), b))\n",
    "    \n",
    "    methods.append('lstsq')\n",
    "    solns.append(np.linalg.lstsq(A, b, rcond=None)[0])\n",
    "    \n",
    "    methods.append('qr')\n",
    "    solns.append(qr_solve(A, b))\n",
    "    \n",
    "    \n",
    "    for (method, soln) in zip(methods, solns):\n",
    "        residual = b -  np.dot(A, soln)\n",
    "        print('method {}, norm {:0.5f}, residual {:0.5f}'.format(method, np.linalg.norm(soln), np.linalg.norm(residual)))\n",
    "        # print(soln.T)\n",
    "    \n",
    "    # https://stackoverflow.com/questions/33559946/numpy-vs-mldivide-matlab-operator\n",
    "    if m < n: # underdetermined\n",
    "        rank = np.linalg.matrix_rank(A)\n",
    "        assert m==rank\n",
    "        for nz in combinations(range(n), rank):    # the variables not set to zero\n",
    "            soln = np.zeros((n,1))\n",
    "            soln[nz, :] = np.asarray(np.linalg.solve(A[:, nz], b))\n",
    "            residual = b -  np.dot(A, soln)\n",
    "            print('sparse qr, norm {:0.5f}, residual {:0.5f}'.format(np.linalg.norm(soln), np.linalg.norm(residual)))\n",
    "            print(soln.T) \n",
    "            print('\\n\\n')\n",
    "    \n",
    "m = 10000; n = 200 # Overdetermined\n",
    "run_demo(m, n)\n",
    "\n",
    "# m = 3; n = 5 # Underdetermined\n",
    "# run_demo(m, n)"
   ]
  },
  {
   "cell_type": "code",
   "execution_count": null,
   "metadata": {},
   "outputs": [],
   "source": []
  }
 ],
 "metadata": {
  "interpreter": {
   "hash": "7d84fc3ab72c8387ddb373470e784917d8b759f8763a65d23fac12a2e8075760"
  },
  "kernelspec": {
   "display_name": "Python 3.8.12 ('ml-project')",
   "language": "python",
   "name": "python3"
  },
  "language_info": {
   "codemirror_mode": {
    "name": "ipython",
    "version": 3
   },
   "file_extension": ".py",
   "mimetype": "text/x-python",
   "name": "python",
   "nbconvert_exporter": "python",
   "pygments_lexer": "ipython3",
   "version": "3.8.12"
  },
  "orig_nbformat": 4
 },
 "nbformat": 4,
 "nbformat_minor": 2
}
